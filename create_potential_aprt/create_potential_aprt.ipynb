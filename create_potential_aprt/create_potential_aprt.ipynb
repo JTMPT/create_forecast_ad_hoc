{
 "cells": [
  {
   "cell_type": "markdown",
   "id": "0e7214ba",
   "metadata": {
    "heading_collapsed": true
   },
   "source": [
    "### קוד מבוא"
   ]
  },
  {
   "cell_type": "code",
   "execution_count": 1,
   "id": "f8405d52",
   "metadata": {
    "hidden": true
   },
   "outputs": [
    {
     "name": "stderr",
     "output_type": "stream",
     "text": [
      "PROJ: proj_create_from_database: SQLite error on SELECT key, value FROM metadata WHERE key IN ('DATABASE.LAYOUT.VERSION.MAJOR', 'DATABASE.LAYOUT.VERSION.MINOR'): no such table: metadata\n"
     ]
    }
   ],
   "source": [
    "import pandas as pd\n",
    "import geopandas as gpd\n",
    "import numpy as np\n",
    "from shapely import wkt\n",
    "from matplotlib import pyplot as plt \n",
    "import os\n",
    "import sys\n",
    "\n",
    "import folium\n",
    "import fiona\n",
    "\n",
    "from shapely.geometry import Point\n"
   ]
  },
  {
   "cell_type": "code",
   "execution_count": 2,
   "id": "2dacbc13",
   "metadata": {
    "hidden": true
   },
   "outputs": [],
   "source": [
    "pd.set_option('display.max_rows', None)\n",
    "pd.set_option('display.max_columns', None)"
   ]
  },
  {
   "cell_type": "code",
   "execution_count": 3,
   "id": "b2c3b3ca",
   "metadata": {
    "hidden": true
   },
   "outputs": [],
   "source": [
    "pd.options.display.float_format = '{:.4f}'.format\n",
    "pd.set_option('display.float_format',  '{:,.2f}'.format)"
   ]
  },
  {
   "cell_type": "markdown",
   "id": "9624443e",
   "metadata": {
    "heading_collapsed": true
   },
   "source": [
    "### פונקציות"
   ]
  },
  {
   "cell_type": "code",
   "execution_count": 4,
   "id": "d69c42ff",
   "metadata": {
    "hidden": true
   },
   "outputs": [],
   "source": [
    "def double_taz_num(df):\n",
    "    dup_taz_num=df.groupby(['Taz_num']).size().reset_index(name='count').query('count>1').Taz_num.to_list()\n",
    "    return df.loc[df['Taz_num'].isin(dup_taz_num)]"
   ]
  },
  {
   "cell_type": "code",
   "execution_count": 5,
   "id": "d048994a",
   "metadata": {
    "hidden": true
   },
   "outputs": [],
   "source": [
    "def make_point(df):\n",
    "    df_point=df.copy()\n",
    "    df_point['centroid'] = df_point.representative_point()\n",
    "    df_point=df_point.set_geometry('centroid')\n",
    "    df_point=df_point.drop(columns=['geometry'],axis=1)\n",
    "    return df_point"
   ]
  },
  {
   "cell_type": "code",
   "execution_count": 6,
   "id": "86bf5cad",
   "metadata": {
    "hidden": true
   },
   "outputs": [],
   "source": [
    "def up_load_gdb(path,layer_name):\n",
    "    path='{}'.format(path)\n",
    "    layer_list=fiona.listlayers(path)\n",
    "    gpd_layer=gpd.read_file(path, layer=layer_list.index(layer_name))\n",
    "    return gpd_layer"
   ]
  },
  {
   "cell_type": "code",
   "execution_count": 7,
   "id": "6acc6aa7",
   "metadata": {
    "hidden": true
   },
   "outputs": [],
   "source": [
    "def up_load_shp(path):\n",
    "    path='{}'.format(path)\n",
    "    gpd_layer=gpd.read_file(path)\n",
    "    return gpd_layer"
   ]
  },
  {
   "cell_type": "code",
   "execution_count": 8,
   "id": "b1a16060",
   "metadata": {
    "hidden": true
   },
   "outputs": [],
   "source": [
    "def up_load_df(folder_path,file_name):\n",
    "    \n",
    "    path_df=r'{}\\{}.xlsx'.format(folder_path,file_name)\n",
    "    df=pd.read_excel(path_df)\n",
    "    df=df.dropna(how='all')\n",
    "\n",
    "    return df\n"
   ]
  },
  {
   "cell_type": "markdown",
   "id": "21ecf8a3",
   "metadata": {},
   "source": [
    "### העלת קבצים"
   ]
  },
  {
   "cell_type": "code",
   "execution_count": 9,
   "id": "5814c6c9",
   "metadata": {},
   "outputs": [],
   "source": [
    "path = os.getcwd()\n",
    "\n",
    "software_root_folder = os.path.dirname(path)\n"
   ]
  },
  {
   "cell_type": "code",
   "execution_count": 10,
   "id": "cc4ae669",
   "metadata": {},
   "outputs": [],
   "source": [
    "\n",
    "software_folder_location = r'{}\\create_potential_aprt'.format(software_root_folder)\n"
   ]
  },
  {
   "cell_type": "code",
   "execution_count": 11,
   "id": "1a2dacfe",
   "metadata": {},
   "outputs": [],
   "source": [
    "\n",
    "\n",
    "df_inputs_outputs = pd.read_excel(r'{}\\inputs_outputs.xlsx'.format(software_folder_location))\n"
   ]
  },
  {
   "cell_type": "markdown",
   "id": "87e6ef5e",
   "metadata": {
    "heading_collapsed": true
   },
   "source": [
    "##### לייצר יח\"ד קיים פר אזור תנועה"
   ]
  },
  {
   "cell_type": "code",
   "execution_count": 12,
   "id": "a2512ced",
   "metadata": {
    "hidden": true
   },
   "outputs": [],
   "source": [
    "forecast_2020=up_load_df(r'{}\\background_files'.format(software_folder_location),'2020_jtmt_forcast_full_240226')"
   ]
  },
  {
   "cell_type": "code",
   "execution_count": 13,
   "id": "b7a8a94f",
   "metadata": {},
   "outputs": [],
   "source": [
    "x=r'{}\\background_files\\TAZ_V4_230518_Published.shp'.format(software_folder_location)"
   ]
  },
  {
   "cell_type": "code",
   "execution_count": 14,
   "id": "4758c5fa",
   "metadata": {},
   "outputs": [
    {
     "name": "stderr",
     "output_type": "stream",
     "text": [
      "c:\\Users\\eliyal\\AppData\\Local\\anaconda3\\envs\\create_forecast_v9.0.0\\lib\\site-packages\\pyogrio\\core.py:24: RuntimeWarning: Could not detect PROJ data files.  Set PROJ_LIB environment variable to the correct path.\n",
      "  _init_proj_data()\n"
     ]
    }
   ],
   "source": [
    "taz=up_load_shp(x)"
   ]
  },
  {
   "cell_type": "code",
   "execution_count": 15,
   "id": "a928e060",
   "metadata": {
    "hidden": true
   },
   "outputs": [],
   "source": [
    "taz=pd.merge(taz,forecast_2020[['Taz_num','aprt_20']].query('aprt_20>0'),on='Taz_num')"
   ]
  },
  {
   "cell_type": "code",
   "execution_count": 16,
   "id": "7596adbc",
   "metadata": {
    "hidden": true
   },
   "outputs": [
    {
     "name": "stderr",
     "output_type": "stream",
     "text": [
      "C:\\Users\\eliyal\\AppData\\Local\\Temp\\ipykernel_17852\\3669232119.py:7: FutureWarning: Downcasting object dtype arrays on .fillna, .ffill, .bfill is deprecated and will change in a future version. Call result.infer_objects(copy=False) instead. To opt-in to the future behavior, set `pd.set_option('future.no_silent_downcasting', True)`\n",
      "  bld_point=make_point(bld).fillna(0)\n",
      "C:\\Users\\eliyal\\AppData\\Local\\Temp\\ipykernel_17852\\3669232119.py:11: FutureWarning: Setting an item of incompatible dtype is deprecated and will raise an error in a future version of pandas. Value '[ 31.3225      20.58816099  23.03316663 ...  79.56155771  86.00171698\n",
      " 411.10230836]' has dtype incompatible with int32, please explicitly cast to a compatible dtype first.\n",
      "  bld_point.loc[(bld_point['HEIGHT']-ceiling_height)<=0,'bld_m3']=bld_point['bld_area']\n",
      "C:\\Users\\eliyal\\AppData\\Local\\Temp\\ipykernel_17852\\3669232119.py:16: FutureWarning: The provided callable <built-in function sum> is currently using DataFrameGroupBy.sum. In a future version of pandas, the provided callable will be used directly. To keep current behavior pass the string \"sum\" instead.\n",
      "  sum_bld_m3=pd.pivot_table(bld_point.drop(columns='centroid'),index='Taz_num',aggfunc=sum)[['bld_m3']].reset_index().rename(columns={'bld_m3':'bld_m3_taz'})\n"
     ]
    }
   ],
   "source": [
    "path=r'{}\\background_files\\BNTL_2022.gdb'.format(software_folder_location)\n",
    "bld=up_load_gdb(path,'BLDG_Clip')\n",
    "bld_poi=up_load_gdb(path,'POI_BLDG_Clip')\n",
    "bld=bld.merge(bld_poi[[ 'FCODE', 'USG_GROUP', 'USG_CODE','USG_SP_NM_LTN','BLDG_ID']],how='left',left_on='UNIQ_ID',right_on='BLDG_ID')\n",
    "bld=bld.loc[bld['FCODE_y'].isna()]\n",
    "bld['bld_area']=bld.area\n",
    "bld_point=make_point(bld).fillna(0)\n",
    "bld_point.loc[bld_point['HEIGHT']<=0,'HEIGHT']=bld_point['HI_PNT_Z']-bld_point['HT_LAND']\n",
    "ceiling_height=3\n",
    "bld_point['bld_m3']=(bld_point['HEIGHT']/ceiling_height).astype(int)*bld_point['bld_area'].astype(int)\n",
    "bld_point.loc[(bld_point['HEIGHT']-ceiling_height)<=0,'bld_m3']=bld_point['bld_area']\n",
    "bld_point=gpd.sjoin(bld_point,taz)\n",
    "col=['bld_m3','centroid','Taz_num','aprt_20']\n",
    "bld_point=bld_point[col]\n",
    "bld_point['bld_m3']=bld_point['bld_m3'].astype(int)\n",
    "sum_bld_m3=pd.pivot_table(bld_point.drop(columns='centroid'),index='Taz_num',aggfunc=sum)[['bld_m3']].reset_index().rename(columns={'bld_m3':'bld_m3_taz'})\n",
    "bld_point=bld_point.merge(sum_bld_m3,on='Taz_num')\n",
    "bld_point['aprt_in_bld_from_pre_of_taz']=bld_point['bld_m3']/bld_point['bld_m3_taz']*bld_point['aprt_20']\n",
    "bld_point['aprt_in_bld_from_pre_of_taz']=bld_point['aprt_in_bld_from_pre_of_taz'].astype(int)\n"
   ]
  },
  {
   "cell_type": "markdown",
   "id": "8193d5ac",
   "metadata": {},
   "source": [
    "עד כאן יש לי שכבה של כמות יח\"ד בכל בניין"
   ]
  },
  {
   "cell_type": "markdown",
   "id": "1736c75e",
   "metadata": {},
   "source": [
    "עכשיו צריך להעלות את המקורות מידע שלנו"
   ]
  },
  {
   "cell_type": "markdown",
   "id": "e5a2da96",
   "metadata": {},
   "source": [
    "תכניות אינדקס"
   ]
  },
  {
   "cell_type": "code",
   "execution_count": 17,
   "id": "3fda6482",
   "metadata": {},
   "outputs": [],
   "source": [
    "client_data_folder_location=df_inputs_outputs['location'][0]"
   ]
  },
  {
   "cell_type": "code",
   "execution_count": 18,
   "id": "89be03c0",
   "metadata": {},
   "outputs": [],
   "source": [
    "path_to_index_df=r'{}\\For_approval\\Reference_tabels'.format(client_data_folder_location)"
   ]
  },
  {
   "cell_type": "code",
   "execution_count": 19,
   "id": "1e2b8e03",
   "metadata": {},
   "outputs": [],
   "source": [
    "name_of_index_file=r'index_format_for_creating_forecast_jtmt_input_{}_{}'.format(df_inputs_outputs['location'][1],df_inputs_outputs['location'][2])"
   ]
  },
  {
   "cell_type": "markdown",
   "id": "f6d9a5f3",
   "metadata": {},
   "source": [
    "השורה הבא מועדת לפורענות"
   ]
  },
  {
   "cell_type": "markdown",
   "id": "97938a14",
   "metadata": {},
   "source": [
    "name_of_index_file=r'‏‏index_format_for_creating_forecast_jtmt_input_with_project_240923'"
   ]
  },
  {
   "cell_type": "code",
   "execution_count": 20,
   "id": "b7da60aa",
   "metadata": {},
   "outputs": [
    {
     "name": "stderr",
     "output_type": "stream",
     "text": [
      "c:\\Users\\eliyal\\AppData\\Local\\anaconda3\\envs\\create_forecast_v9.0.0\\lib\\site-packages\\openpyxl\\worksheet\\header_footer.py:48: UserWarning: Cannot parse header or footer so it will be ignored\n",
      "  warn(\"\"\"Cannot parse header or footer so it will be ignored\"\"\")\n"
     ]
    }
   ],
   "source": [
    "plans_df=up_load_df(path_to_index_df,name_of_index_file)"
   ]
  },
  {
   "cell_type": "code",
   "execution_count": 21,
   "id": "6e14b4e5",
   "metadata": {},
   "outputs": [],
   "source": [
    "plans_shp=up_load_shp(r'{}\\For_approval\\Reference_tabels\\shp\\gvul_index.shp'.format(client_data_folder_location))"
   ]
  },
  {
   "cell_type": "markdown",
   "id": "7ae973fe",
   "metadata": {},
   "source": [
    "להעלות את שכבת הרקל"
   ]
  },
  {
   "cell_type": "code",
   "execution_count": 22,
   "id": "5c2346a8",
   "metadata": {},
   "outputs": [],
   "source": [
    "rakal=up_load_gdb(r'{}\\For_approval\\Reference_tabels\\shp\\tochnit_check.gdb'.format(client_data_folder_location),'lrt_policy')"
   ]
  },
  {
   "cell_type": "markdown",
   "id": "c8503ff7",
   "metadata": {},
   "source": [
    "להוריד אזורים שכבר יש תכניות באינדקס"
   ]
  },
  {
   "cell_type": "code",
   "execution_count": 23,
   "id": "7686964b",
   "metadata": {},
   "outputs": [],
   "source": [
    "plans_shp['type']='plans'"
   ]
  },
  {
   "cell_type": "code",
   "execution_count": 24,
   "id": "b3dd8838",
   "metadata": {},
   "outputs": [],
   "source": [
    "col=['type','geometry']\n",
    "rakal=rakal.overlay(plans_shp[col], how='union').query('type.isna()')"
   ]
  },
  {
   "cell_type": "markdown",
   "id": "0cc98044",
   "metadata": {},
   "source": [
    "לחלק לפי אזורי תנועה ורק אז לייצר את הקיבולת"
   ]
  },
  {
   "cell_type": "markdown",
   "id": "653fa9de",
   "metadata": {},
   "source": [
    "להעלות את שכבת האזורי תנועה הנדרשים לפרוייקט"
   ]
  },
  {
   "cell_type": "code",
   "execution_count": 25,
   "id": "af5e23f3",
   "metadata": {},
   "outputs": [
    {
     "name": "stderr",
     "output_type": "stream",
     "text": [
      "c:\\Users\\eliyal\\AppData\\Local\\anaconda3\\envs\\create_forecast_v9.0.0\\lib\\site-packages\\pyogrio\\raw.py:194: UserWarning: Measured (M) geometry types are not supported. Original type 'Measured 3D MultiPolygon' is converted to 'MultiPolygon Z'\n",
      "  result = ogr_read(\n"
     ]
    }
   ],
   "source": [
    "taz_for_proj=up_load_gdb(r'{}\\For_approval\\Reference_tabels\\shp\\tochnit_check.gdb'.format(client_data_folder_location),'TAZ_211028_V3_Published_with_client_changes')"
   ]
  },
  {
   "cell_type": "code",
   "execution_count": 26,
   "id": "7b987668",
   "metadata": {},
   "outputs": [],
   "source": [
    "taz_for_proj['taz']=1"
   ]
  },
  {
   "cell_type": "code",
   "execution_count": 27,
   "id": "8fcfb30c",
   "metadata": {},
   "outputs": [],
   "source": [
    "rakal['rakal']=1"
   ]
  },
  {
   "cell_type": "code",
   "execution_count": 28,
   "id": "b6a33d14",
   "metadata": {},
   "outputs": [],
   "source": [
    "rakal=rakal.overlay(taz_for_proj[['taz','geometry']], how='union').query('rakal==1 & taz==1')"
   ]
  },
  {
   "cell_type": "code",
   "execution_count": 29,
   "id": "aa981557",
   "metadata": {},
   "outputs": [],
   "source": [
    "rakal['area']=rakal.area"
   ]
  },
  {
   "cell_type": "markdown",
   "id": "496dc3ba",
   "metadata": {},
   "source": [
    "לייצר את תופסת יח\"ד של רקל"
   ]
  },
  {
   "cell_type": "code",
   "execution_count": 30,
   "id": "5d0d284d",
   "metadata": {},
   "outputs": [],
   "source": [
    "aprt_size=130"
   ]
  },
  {
   "cell_type": "code",
   "execution_count": 31,
   "id": "3c7ccf4e",
   "metadata": {},
   "outputs": [],
   "source": [
    "rakal['potential_aprt']=rakal['area']*7.2*0.5/aprt_size"
   ]
  },
  {
   "cell_type": "code",
   "execution_count": 32,
   "id": "aca05952",
   "metadata": {},
   "outputs": [],
   "source": [
    "#כמה יח\"ד יש בכל אחד מהפוליגונים?\n",
    "rakal['id']=rakal.index"
   ]
  },
  {
   "cell_type": "code",
   "execution_count": 33,
   "id": "7198b994",
   "metadata": {
    "hidden": true
   },
   "outputs": [],
   "source": [
    "bld_point_for_plans_need_add_aprt=gpd.sjoin(bld_point,rakal)"
   ]
  },
  {
   "cell_type": "code",
   "execution_count": 34,
   "id": "5ce27e85",
   "metadata": {
    "hidden": true
   },
   "outputs": [
    {
     "name": "stderr",
     "output_type": "stream",
     "text": [
      "C:\\Users\\eliyal\\AppData\\Local\\Temp\\ipykernel_17852\\961791580.py:1: FutureWarning: The provided callable <built-in function sum> is currently using DataFrameGroupBy.sum. In a future version of pandas, the provided callable will be used directly. To keep current behavior pass the string \"sum\" instead.\n",
      "  bld_point_for_plans_need_add_aprt=bld_point_for_plans_need_add_aprt.drop(columns='centroid').pivot_table(index='id',aggfunc=sum)[['aprt_in_bld_from_pre_of_taz']]\n"
     ]
    }
   ],
   "source": [
    "bld_point_for_plans_need_add_aprt=bld_point_for_plans_need_add_aprt.drop(columns='centroid').pivot_table(index='id',aggfunc=sum)[['aprt_in_bld_from_pre_of_taz']]"
   ]
  },
  {
   "cell_type": "code",
   "execution_count": 35,
   "id": "241e6902",
   "metadata": {
    "hidden": true
   },
   "outputs": [],
   "source": [
    "rakal=rakal.set_index('id')"
   ]
  },
  {
   "cell_type": "code",
   "execution_count": 36,
   "id": "c91a848f",
   "metadata": {
    "hidden": true
   },
   "outputs": [],
   "source": [
    "rakal['aprt_20']=bld_point_for_plans_need_add_aprt['aprt_in_bld_from_pre_of_taz']"
   ]
  },
  {
   "cell_type": "code",
   "execution_count": 37,
   "id": "b0367ce9",
   "metadata": {
    "hidden": true
   },
   "outputs": [
    {
     "name": "stderr",
     "output_type": "stream",
     "text": [
      "C:\\Users\\eliyal\\AppData\\Local\\Temp\\ipykernel_17852\\3539812066.py:1: FutureWarning: Downcasting object dtype arrays on .fillna, .ffill, .bfill is deprecated and will change in a future version. Call result.infer_objects(copy=False) instead. To opt-in to the future behavior, set `pd.set_option('future.no_silent_downcasting', True)`\n",
      "  rakal=rakal.fillna(0)\n"
     ]
    }
   ],
   "source": [
    "rakal=rakal.fillna(0)"
   ]
  },
  {
   "cell_type": "code",
   "execution_count": 38,
   "id": "70281542",
   "metadata": {},
   "outputs": [],
   "source": [
    "rakal['add_potential_aprt']=rakal['potential_aprt']-rakal['aprt_20']"
   ]
  },
  {
   "cell_type": "code",
   "execution_count": 39,
   "id": "b1e3731a",
   "metadata": {},
   "outputs": [],
   "source": [
    "rakal=rakal.loc[rakal['add_potential_aprt']>50]"
   ]
  },
  {
   "cell_type": "markdown",
   "id": "856c347f",
   "metadata": {},
   "source": [
    "לייצר שימושים תעסוקה ברקל"
   ]
  },
  {
   "cell_type": "code",
   "execution_count": 40,
   "id": "e380b5d7",
   "metadata": {},
   "outputs": [],
   "source": [
    "rakal['Business_m2']=rakal['area']*7.2*0.1"
   ]
  },
  {
   "cell_type": "code",
   "execution_count": 41,
   "id": "4fcfee9f",
   "metadata": {},
   "outputs": [],
   "source": [
    "rakal['Commerce_m2']=rakal['area']*7.2*0.1"
   ]
  },
  {
   "cell_type": "markdown",
   "id": "09a0d9fd",
   "metadata": {},
   "source": [
    "להעלות את שכבת בינוי חדש\n"
   ]
  },
  {
   "cell_type": "code",
   "execution_count": 42,
   "id": "38975ab5",
   "metadata": {},
   "outputs": [],
   "source": [
    "new_bld=up_load_gdb(r'{}\\For_approval\\Reference_tabels\\shp\\tochnit_check.gdb'.format(client_data_folder_location),'new_bld')"
   ]
  },
  {
   "cell_type": "code",
   "execution_count": 43,
   "id": "01c1c83e",
   "metadata": {},
   "outputs": [],
   "source": [
    "new_bld['add_potential_aprt']=new_bld['Shape_Area']*new_bld['prec_for_aprt']*new_bld['neto_dens']/1000"
   ]
  },
  {
   "cell_type": "code",
   "execution_count": 44,
   "id": "51e417fe",
   "metadata": {},
   "outputs": [],
   "source": [
    "new_bld=new_bld.loc[new_bld['add_potential_aprt']>50]"
   ]
  },
  {
   "cell_type": "code",
   "execution_count": 45,
   "id": "a33447d6",
   "metadata": {},
   "outputs": [],
   "source": [
    "new_bld['type']='new_bld'"
   ]
  },
  {
   "cell_type": "markdown",
   "id": "78b658f6",
   "metadata": {},
   "source": [
    "להעלות את שכבת מכפיל"
   ]
  },
  {
   "cell_type": "code",
   "execution_count": 46,
   "id": "5a109547",
   "metadata": {},
   "outputs": [],
   "source": [
    "machpil=up_load_gdb(r'{}\\For_approval\\Reference_tabels\\shp\\tochnit_check.gdb'.format(client_data_folder_location),'urban_density')"
   ]
  },
  {
   "cell_type": "markdown",
   "id": "b2f68132",
   "metadata": {},
   "source": [
    "עכשיו צריך לחורר משכבת מכפיל את הפוליגונים של רקל ושל תכניות"
   ]
  },
  {
   "cell_type": "code",
   "execution_count": 47,
   "id": "2fc9c24e",
   "metadata": {},
   "outputs": [],
   "source": [
    "rakal['type']='lrt'"
   ]
  },
  {
   "cell_type": "code",
   "execution_count": 48,
   "id": "83654865",
   "metadata": {},
   "outputs": [],
   "source": [
    "col=['type','geometry']"
   ]
  },
  {
   "cell_type": "code",
   "execution_count": 49,
   "id": "5ca72799",
   "metadata": {},
   "outputs": [],
   "source": [
    "machpil=machpil.overlay(pd.concat([rakal[col],plans_shp[col],new_bld[col]]), how='union').query('type.isna()')"
   ]
  },
  {
   "cell_type": "code",
   "execution_count": 50,
   "id": "0e1a014d",
   "metadata": {},
   "outputs": [],
   "source": [
    "machpil['machpil']=1"
   ]
  },
  {
   "cell_type": "code",
   "execution_count": 51,
   "id": "fd093d75",
   "metadata": {},
   "outputs": [
    {
     "name": "stderr",
     "output_type": "stream",
     "text": [
      "c:\\Users\\eliyal\\AppData\\Local\\anaconda3\\envs\\create_forecast_v9.0.0\\lib\\site-packages\\geopandas\\geodataframe.py:2675: UserWarning: `keep_geom_type=True` in overlay resulted in 26 dropped geometries of different geometry types than df1 has. Set `keep_geom_type=False` to retain all geometries\n",
      "  return geopandas.overlay(\n"
     ]
    }
   ],
   "source": [
    "machpil=machpil.overlay(taz_for_proj[['taz','geometry']], how='union').query('machpil==1')"
   ]
  },
  {
   "cell_type": "markdown",
   "id": "c85d1603",
   "metadata": {},
   "source": [
    "לייצר כמות יח\"ד בשביל הכפלה"
   ]
  },
  {
   "cell_type": "code",
   "execution_count": 52,
   "id": "18878e75",
   "metadata": {},
   "outputs": [],
   "source": [
    "#כמה יח\"ד יש בכל אחד מהפוליגונים?\n",
    "machpil['id']=machpil.index"
   ]
  },
  {
   "cell_type": "code",
   "execution_count": 53,
   "id": "f7d3f461",
   "metadata": {},
   "outputs": [],
   "source": [
    "bld_point_for_plans_need_add_aprt=gpd.sjoin(bld_point,machpil)"
   ]
  },
  {
   "cell_type": "code",
   "execution_count": 54,
   "id": "37d8169f",
   "metadata": {},
   "outputs": [
    {
     "name": "stderr",
     "output_type": "stream",
     "text": [
      "C:\\Users\\eliyal\\AppData\\Local\\Temp\\ipykernel_17852\\961791580.py:1: FutureWarning: The provided callable <built-in function sum> is currently using DataFrameGroupBy.sum. In a future version of pandas, the provided callable will be used directly. To keep current behavior pass the string \"sum\" instead.\n",
      "  bld_point_for_plans_need_add_aprt=bld_point_for_plans_need_add_aprt.drop(columns='centroid').pivot_table(index='id',aggfunc=sum)[['aprt_in_bld_from_pre_of_taz']]\n"
     ]
    }
   ],
   "source": [
    "bld_point_for_plans_need_add_aprt=bld_point_for_plans_need_add_aprt.drop(columns='centroid').pivot_table(index='id',aggfunc=sum)[['aprt_in_bld_from_pre_of_taz']]"
   ]
  },
  {
   "cell_type": "code",
   "execution_count": 55,
   "id": "1f11a2dc",
   "metadata": {},
   "outputs": [],
   "source": [
    "machpil=machpil.set_index('id')"
   ]
  },
  {
   "cell_type": "code",
   "execution_count": 56,
   "id": "126ca38a",
   "metadata": {},
   "outputs": [],
   "source": [
    "machpil['aprt_20']=bld_point_for_plans_need_add_aprt['aprt_in_bld_from_pre_of_taz']"
   ]
  },
  {
   "cell_type": "code",
   "execution_count": 57,
   "id": "671d95f8",
   "metadata": {},
   "outputs": [
    {
     "name": "stderr",
     "output_type": "stream",
     "text": [
      "C:\\Users\\eliyal\\AppData\\Local\\Temp\\ipykernel_17852\\3136594500.py:1: FutureWarning: Downcasting object dtype arrays on .fillna, .ffill, .bfill is deprecated and will change in a future version. Call result.infer_objects(copy=False) instead. To opt-in to the future behavior, set `pd.set_option('future.no_silent_downcasting', True)`\n",
      "  machpil=machpil.fillna(0)\n"
     ]
    }
   ],
   "source": [
    "machpil=machpil.fillna(0)"
   ]
  },
  {
   "cell_type": "code",
   "execution_count": 58,
   "id": "b26e0777",
   "metadata": {},
   "outputs": [],
   "source": [
    "machpil['add_potential_aprt']=machpil['aprt_20']*machpil['coefficient']"
   ]
  },
  {
   "cell_type": "code",
   "execution_count": 59,
   "id": "07f504cf",
   "metadata": {},
   "outputs": [],
   "source": [
    "machpil=machpil.loc[machpil['add_potential_aprt']>25]"
   ]
  },
  {
   "cell_type": "markdown",
   "id": "a41dd5ea",
   "metadata": {},
   "source": [
    "עכשיו שיש לי תופסת יח\"ד ברקל בינוי חדש ומכפיל צריך לצרף את זה לאינדקס השכבה ולאקסל"
   ]
  },
  {
   "cell_type": "code",
   "execution_count": 60,
   "id": "42d5b2a8",
   "metadata": {},
   "outputs": [],
   "source": [
    "plans_shp.drop(columns='type',inplace=True)"
   ]
  },
  {
   "cell_type": "code",
   "execution_count": 61,
   "id": "d98e0192",
   "metadata": {},
   "outputs": [],
   "source": [
    "max_id =int(plans_shp['id'].max())\n",
    "num_new_rows = int(len(machpil))\n",
    "\n",
    "machpil.reset_index(inplace=True)"
   ]
  },
  {
   "cell_type": "code",
   "execution_count": 62,
   "metadata": {},
   "outputs": [],
   "source": [
    "machpil['id'] = range(max_id + 1, max_id + 1 + num_new_rows)"
   ]
  },
  {
   "cell_type": "code",
   "execution_count": 63,
   "id": "9d14aee4",
   "metadata": {},
   "outputs": [],
   "source": [
    "machpil = machpil.rename(columns={'add_potential_aprt': 'add_aprt'})"
   ]
  },
  {
   "cell_type": "code",
   "execution_count": 64,
   "id": "d09babf1",
   "metadata": {},
   "outputs": [],
   "source": [
    "machpil['plan_name']='מכפיל'"
   ]
  },
  {
   "cell_type": "code",
   "execution_count": 65,
   "id": "2eaafce9",
   "metadata": {},
   "outputs": [],
   "source": [
    "machpil['status']='פוטנציאל'"
   ]
  },
  {
   "cell_type": "code",
   "execution_count": 66,
   "id": "e5521282",
   "metadata": {},
   "outputs": [],
   "source": [
    "machpil['emp_fill_factor']=1"
   ]
  },
  {
   "cell_type": "code",
   "execution_count": 67,
   "id": "2529b56b",
   "metadata": {},
   "outputs": [],
   "source": [
    "machpil['Risk_factor']=1"
   ]
  },
  {
   "cell_type": "code",
   "execution_count": 68,
   "id": "1b5ce9dc",
   "metadata": {},
   "outputs": [],
   "source": [
    "joined_plans_shp=pd.concat([plans_shp,machpil[['id','geometry']]])\n",
    "joined_plans_df=pd.concat([plans_df,machpil[['id','add_aprt','plan_name','status','Risk_factor','emp_fill_factor']]])\n"
   ]
  },
  {
   "cell_type": "markdown",
   "id": "6268b372",
   "metadata": {},
   "source": [
    "הוספה של רקל לשכבה וטבלאות"
   ]
  },
  {
   "cell_type": "code",
   "execution_count": 69,
   "id": "4f05d045",
   "metadata": {},
   "outputs": [],
   "source": [
    "max_id =int(joined_plans_shp['id'].max())\n",
    "num_new_rows = int(len(rakal))\n"
   ]
  },
  {
   "cell_type": "code",
   "execution_count": 70,
   "id": "fdf0aeb0",
   "metadata": {},
   "outputs": [],
   "source": [
    "rakal.reset_index(inplace=True)"
   ]
  },
  {
   "cell_type": "code",
   "execution_count": 71,
   "id": "ffad6d10",
   "metadata": {},
   "outputs": [],
   "source": [
    "rakal['id'] = range(max_id + 1, max_id + 1 + num_new_rows)"
   ]
  },
  {
   "cell_type": "code",
   "execution_count": 72,
   "id": "2b636b96",
   "metadata": {},
   "outputs": [],
   "source": [
    "rakal = rakal.rename(columns={'add_potential_aprt': 'add_aprt'})"
   ]
  },
  {
   "cell_type": "code",
   "execution_count": 73,
   "id": "4393a327",
   "metadata": {},
   "outputs": [],
   "source": [
    "rakal['plan_name']='רקל'"
   ]
  },
  {
   "cell_type": "code",
   "execution_count": 74,
   "id": "c21c6aa2",
   "metadata": {},
   "outputs": [],
   "source": [
    "rakal['status']='פוטנציאל'"
   ]
  },
  {
   "cell_type": "code",
   "execution_count": 75,
   "id": "4516429f",
   "metadata": {},
   "outputs": [],
   "source": [
    "rakal['emp_fill_factor']=1"
   ]
  },
  {
   "cell_type": "code",
   "execution_count": 76,
   "id": "7d493d29",
   "metadata": {},
   "outputs": [],
   "source": [
    "rakal['Risk_factor']=1"
   ]
  },
  {
   "cell_type": "code",
   "execution_count": 77,
   "id": "2779a805",
   "metadata": {},
   "outputs": [],
   "source": [
    "joined_plans_shp=pd.concat([joined_plans_shp,rakal[['id','geometry']]])\n",
    "joined_plans_df=pd.concat([joined_plans_df,rakal[['id','plan_name','status','add_aprt','Business_m2','Commerce_m2','Risk_factor','emp_fill_factor']]])\n"
   ]
  },
  {
   "cell_type": "markdown",
   "id": "abb31e3d",
   "metadata": {},
   "source": [
    "הוספה של בינוי חדש לשכבה וטבלאות"
   ]
  },
  {
   "cell_type": "code",
   "execution_count": 78,
   "id": "8da0e2f2",
   "metadata": {},
   "outputs": [],
   "source": [
    "max_id =int(joined_plans_shp['id'].max())\n",
    "num_new_rows = int(len(new_bld))\n"
   ]
  },
  {
   "cell_type": "code",
   "execution_count": 79,
   "id": "76a7ee18",
   "metadata": {},
   "outputs": [],
   "source": [
    "new_bld.reset_index(inplace=True)"
   ]
  },
  {
   "cell_type": "code",
   "execution_count": 80,
   "id": "ef0a4ffa",
   "metadata": {},
   "outputs": [],
   "source": [
    "new_bld['id'] = range(max_id + 1, max_id + 1 + num_new_rows)"
   ]
  },
  {
   "cell_type": "code",
   "execution_count": 81,
   "id": "394bf58b",
   "metadata": {},
   "outputs": [],
   "source": [
    "new_bld = new_bld.rename(columns={'add_potential_aprt': 'add_aprt'})"
   ]
  },
  {
   "cell_type": "code",
   "execution_count": 82,
   "id": "b019d0b9",
   "metadata": {},
   "outputs": [],
   "source": [
    "new_bld['plan_name']='בינוי חדש'"
   ]
  },
  {
   "cell_type": "code",
   "execution_count": 83,
   "id": "a5c3d0e5",
   "metadata": {},
   "outputs": [],
   "source": [
    "new_bld['status']='פוטנציאל'"
   ]
  },
  {
   "cell_type": "code",
   "execution_count": 84,
   "id": "8ccb321e",
   "metadata": {},
   "outputs": [],
   "source": [
    "new_bld['emp_fill_factor']=1"
   ]
  },
  {
   "cell_type": "code",
   "execution_count": 85,
   "id": "ce8bdb58",
   "metadata": {},
   "outputs": [],
   "source": [
    "new_bld['Risk_factor']=1"
   ]
  },
  {
   "cell_type": "code",
   "execution_count": 86,
   "id": "1d4d5623",
   "metadata": {},
   "outputs": [],
   "source": [
    "joined_plans_shp=pd.concat([joined_plans_shp,new_bld[['id','geometry']]])\n",
    "joined_plans_df=pd.concat([joined_plans_df,new_bld[['id','plan_name','status','add_aprt','Risk_factor','emp_fill_factor']]])\n"
   ]
  },
  {
   "cell_type": "markdown",
   "id": "c2f97c6d",
   "metadata": {},
   "source": [
    "הוספה של מימושים"
   ]
  },
  {
   "cell_type": "code",
   "execution_count": 87,
   "id": "583820dc",
   "metadata": {},
   "outputs": [],
   "source": [
    "mimoshim_jtmt=up_load_df(r'W:\\Data\\Forecast\\Tools\\create_forecast_ad_hoc\\create_potential_aprt','mimoshim_jtmt')"
   ]
  },
  {
   "cell_type": "code",
   "execution_count": 88,
   "id": "b070b3fe",
   "metadata": {},
   "outputs": [],
   "source": [
    "def update_f_value(df, status_value, mimoshim_df, column_name,x):\n",
    "    df.loc[(df['status'] == status_value) & (df['add_aprt'] <= 250), 'F{}'.format(column_name)] = mimoshim_df.iloc[x][column_name]\n",
    "    df.loc[(df['status'] == status_value) & (df['add_aprt'] > 250) & (df['add_aprt'] <= 500), 'F{}'.format(column_name)] = mimoshim_df.iloc[x+1][column_name]\n",
    "    df.loc[(df['status'] == status_value) & (df['add_aprt'] > 500), 'F{}'.format(column_name)] = mimoshim_df.iloc[x+2][column_name]\n",
    "    df.loc[(df['status'] == status_value) & (df['add_aprt'] ==0), 'F{}'.format(column_name)] = mimoshim_df.iloc[x+1][column_name]\n",
    "\n",
    "    return df\n"
   ]
  },
  {
   "cell_type": "code",
   "execution_count": 89,
   "id": "cf4ca593",
   "metadata": {},
   "outputs": [],
   "source": [
    "stat_lst=['מאושר','הליכים','פרה_רולינג','פוטנציאל','היתר']"
   ]
  },
  {
   "cell_type": "code",
   "execution_count": 90,
   "id": "de15ab81",
   "metadata": {},
   "outputs": [],
   "source": [
    "col_lst=['2030','2035','2040']"
   ]
  },
  {
   "cell_type": "code",
   "execution_count": 91,
   "id": "d3d941d4",
   "metadata": {},
   "outputs": [
    {
     "name": "stdout",
     "output_type": "stream",
     "text": [
      "0 - מאושר\n",
      "3 - הליכים\n",
      "6 - פרה_רולינג\n",
      "9 - פוטנציאל\n",
      "12 - היתר\n"
     ]
    }
   ],
   "source": [
    "x=0\n",
    "for i in stat_lst:\n",
    "\n",
    "    for c in col_lst:\n",
    "        joined_plans_df=update_f_value(joined_plans_df, i, mimoshim_jtmt, c,x)\n",
    "    \n",
    "    print(x,'-',i)\n",
    "    \n",
    "    x=x+3"
   ]
  },
  {
   "cell_type": "code",
   "execution_count": 92,
   "id": "53d52b6c",
   "metadata": {},
   "outputs": [],
   "source": [
    "col=['F2025',\n",
    " 'F2030',\n",
    " 'F2035',\n",
    " 'F2040']"
   ]
  },
  {
   "cell_type": "code",
   "execution_count": 93,
   "id": "07763fa3",
   "metadata": {},
   "outputs": [],
   "source": [
    "joined_plans_df['add_aprt_till_2040']=joined_plans_df['add_aprt']*joined_plans_df[col].sum(axis=1)"
   ]
  },
  {
   "cell_type": "code",
   "execution_count": 94,
   "id": "988742a9",
   "metadata": {},
   "outputs": [],
   "source": [
    "joined_plans_shp=joined_plans_shp.merge(joined_plans_df[['id','status']],on='id',how='left')"
   ]
  },
  {
   "cell_type": "code",
   "execution_count": 95,
   "id": "b5197ee2",
   "metadata": {},
   "outputs": [
    {
     "name": "stdout",
     "output_type": "stream",
     "text": [
      "EPSG:2039\n"
     ]
    }
   ],
   "source": [
    "joined_plans_shp = joined_plans_shp.set_crs(\"EPSG:2039\", allow_override=True)\n",
    "print(joined_plans_shp.crs)"
   ]
  },
  {
   "cell_type": "code",
   "execution_count": 97,
   "id": "de288a1e",
   "metadata": {},
   "outputs": [],
   "source": [
    "joined_plans_shp.to_file(r'{}\\For_approval\\Reference_tabels\\shp\\gvul_index_with_ponten.shp'.format(client_data_folder_location),encoding='utf-8', engine = 'fiona')"
   ]
  },
  {
   "cell_type": "code",
   "execution_count": null,
   "id": "d05c545c",
   "metadata": {},
   "outputs": [],
   "source": [
    "print(joined_plans_shp.crs)"
   ]
  },
  {
   "cell_type": "code",
   "execution_count": 98,
   "id": "8efd064e",
   "metadata": {},
   "outputs": [],
   "source": [
    "joined_plans_df.to_excel(r'{}\\For_approval\\Reference_tabels\\index_format_for_creating_forecast_jtmt_input_{}_{}_with_poten_jtmt.xlsx'.format(client_data_folder_location,df_inputs_outputs['location'][1],df_inputs_outputs['location'][2]),index=False)"
   ]
  },
  {
   "cell_type": "markdown",
   "id": "41ed4789",
   "metadata": {},
   "source": [
    "col=['status','add_aprt','add_aprt_till_2040']\n",
    "df_sum_jtmt_mimosh_by_status=pd.pivot_table(joined_plans_df[col],index='status',aggfunc=sum)\n",
    "הוספה של מימושים של העירייה\n",
    "mimoshim_jeru=up_load_df(r'W:\\Data\\Forecast\\Tools\\create_potential_aprt','‏‏mimoshim_jeru')\n",
    "x=0\n",
    "for i in stat_lst:\n",
    "\n",
    "    for c in col_lst:\n",
    "        joined_plans_df=update_f_value(joined_plans_df, i, mimoshim_jeru, c,x)\n",
    "    \n",
    "    print(x,'-',i)\n",
    "    \n",
    "    x=x+3\n",
    "col=['F2025',\n",
    " 'F2030',\n",
    " 'F2035',\n",
    " 'F2040']\n",
    "joined_plans_df['add_aprt_till_2040']=joined_plans_df['add_aprt']*joined_plans_df[col].sum(axis=1)\n",
    "joined_plans_df.to_excel(r'{}\\For_approval\\Reference_tabels\\index_format_for_creating_forecast_jtmt_input_{}_{}_with_poten_muni.xlsx'.format(client_data_folder_location,df_inputs_outputs['location'][1],df_inputs_outputs['location'][2]))\n",
    "col=['status','add_aprt','add_aprt_till_2040']\n",
    "df_sum_muni_mimosh_by_status=pd.pivot_table(joined_plans_df[col],index='status',aggfunc=sum)\n",
    "df=pd.merge(df_sum_muni_mimosh_by_status,df_sum_jtmt_mimosh_by_status[['add_aprt_till_2040']],left_index=True,right_index=True,suffixes=('_muni','_jtmt'))\n",
    "# חישוב סכום עבור עמודה מסוימת (לדוגמה, עמודה A)\n",
    "sum_row = pd.DataFrame(df.sum()).T\n",
    "\n",
    "\n",
    "# הוספת כותרת לשורת הסיכום (אם יש צורך)\n",
    "sum_row['status'] = 'Total'\n",
    "sum_row.set_index('status',inplace=True)\n",
    "\n",
    "# הוספת שורת הסיכום ל-DataFrame המקורי\n",
    "\n",
    "df_with_sum = pd.concat([df, sum_row], ignore_index=False)\n",
    "df_with_sum.to_excel(r'{}\\For_approval\\Reference_tabels\\sum_by_status_{}_{}.xlsx'.format(client_data_folder_location,df_inputs_outputs['location'][1],df_inputs_outputs['location'][2]))"
   ]
  }
 ],
 "metadata": {
  "kernelspec": {
   "display_name": "create_forecast_v9.0.0",
   "language": "python",
   "name": "python3"
  },
  "language_info": {
   "codemirror_mode": {
    "name": "ipython",
    "version": 3
   },
   "file_extension": ".py",
   "mimetype": "text/x-python",
   "name": "python",
   "nbconvert_exporter": "python",
   "pygments_lexer": "ipython3",
   "version": "3.10.16"
  },
  "toc": {
   "base_numbering": 1,
   "nav_menu": {},
   "number_sections": true,
   "sideBar": true,
   "skip_h1_title": false,
   "title_cell": "Table of Contents",
   "title_sidebar": "Contents",
   "toc_cell": false,
   "toc_position": {},
   "toc_section_display": true,
   "toc_window_display": false
  }
 },
 "nbformat": 4,
 "nbformat_minor": 5
}
