{
  "cells": [
    {
      "cell_type": "markdown",
      "id": "65e4c2ef",
      "metadata": {},
      "source": [
        "## הגדרות ומקדים"
      ]
    },
    {
      "cell_type": "markdown",
      "id": "6336cdbd",
      "metadata": {},
      "source": [
        "### ספריות"
      ]
    },
    {
      "cell_type": "code",
      "execution_count": 22,
      "id": "a43ce0cf",
      "metadata": {},
      "outputs": [],
      "source": [
        "import os\n",
        "import sys\n",
        "import pandas as pd\n",
        "import geopandas as gpd\n",
        "import fiona\n",
        "import folium\n",
        "import branca.colormap as cm"
      ]
    },
    {
      "cell_type": "code",
      "execution_count": 2,
      "id": "e351ed54",
      "metadata": {},
      "outputs": [],
      "source": [
        "pd.set_option('display.max_rows', None)\n",
        "pd.set_option('display.max_columns', None)\n",
        "pd.set_option('display.float_format', lambda x: '%.3f' % x)"
      ]
    },
    {
      "cell_type": "code",
      "execution_count": 20,
      "id": "57af8d07",
      "metadata": {},
      "outputs": [],
      "source": [
        "col=['Taz_num','pop_without_dorms_yeshiva']"
      ]
    },
    {
      "cell_type": "markdown",
      "id": "451668fe",
      "metadata": {},
      "source": [
        "### העלאת משתנים להרצת הקוד"
      ]
    },
    {
      "cell_type": "code",
      "execution_count": 3,
      "id": "7bdb4907",
      "metadata": {},
      "outputs": [],
      "source": [
        "cwd = os.getcwd()\n",
        "\n",
        "create_forecast_basic_folder_path = os.path.dirname(cwd)\n",
        "\n",
        "sys.path.append(create_forecast_basic_folder_path)"
      ]
    },
    {
      "cell_type": "code",
      "execution_count": 5,
      "id": "e9dff3d7",
      "metadata": {},
      "outputs": [],
      "source": [
        "from global_functions import  up_load_shp, up_load_df"
      ]
    },
    {
      "cell_type": "markdown",
      "id": "9624443e",
      "metadata": {},
      "source": [
        "## פונקציות"
      ]
    },
    {
      "cell_type": "code",
      "execution_count": 6,
      "id": "f81eaab0",
      "metadata": {},
      "outputs": [],
      "source": [
        "def add_col_comper(df,col,new,old):\n",
        "    for c in col:\n",
        "        df['{}_delta_{}_{}'.format(c,new,old)]=df['{}_{}'.format(c,new)]-df['{}_{}'.format(c,old)]\n",
        "        df['{}_pre_{}_{}'.format(c,new,old)]=df['{}_{}'.format(c,new)]/df['{}_{}'.format(c,old)]\n",
        "    return df\n",
        " "
      ]
    },
    {
      "cell_type": "markdown",
      "id": "9e298bcd",
      "metadata": {},
      "source": [
        "## העלת שכבות רלוונטים"
      ]
    },
    {
      "cell_type": "code",
      "execution_count": 8,
      "id": "8ab2490d",
      "metadata": {},
      "outputs": [],
      "source": [
        "max_max=pd.read_excel(r\"W:\\Projects\\תכניות מרחביות\\141_רמות\\קבצי עבודה\\תחזיות_דמוגרפיות\\For_approval\\250326_forecast_2040_ramot_max_max_for_approval.xlsx\")"
      ]
    },
    {
      "cell_type": "code",
      "execution_count": 9,
      "id": "e4f3250f",
      "metadata": {},
      "outputs": [],
      "source": [
        "max=pd.read_excel(r\"W:\\Projects\\תכניות מרחביות\\141_רמות\\קבצי עבודה\\תחזיות_דמוגרפיות\\For_approval\\250326_forecast_2040_ramot_max_for_approval.xlsx\")"
      ]
    },
    {
      "cell_type": "code",
      "execution_count": 10,
      "id": "557b856e",
      "metadata": {},
      "outputs": [],
      "source": [
        "real=pd.read_excel(r\"W:\\Projects\\תכניות מרחביות\\141_רמות\\קבצי עבודה\\תחזיות_דמוגרפיות\\For_approval\\241216_forecast_2040_ramot_for_approval.xlsx\")"
      ]
    },
    {
      "cell_type": "code",
      "execution_count": null,
      "id": "c6cb5ddd",
      "metadata": {},
      "outputs": [],
      "source": [
        "taz=up_load_shp(r\"W:\\Projects\\תכניות מרחביות\\141_רמות\\קבצי עבודה\\תחזיות_דמוגרפיות\\For_approval\\241216_taz_for_approval.shp\")"
      ]
    },
    {
      "cell_type": "code",
      "execution_count": 15,
      "id": "53186443",
      "metadata": {},
      "outputs": [],
      "source": [
        "col=['Taz_num','pop_without_dorms_yeshiva']"
      ]
    },
    {
      "cell_type": "code",
      "execution_count": 17,
      "id": "1c4cd4a9",
      "metadata": {},
      "outputs": [],
      "source": [
        "joined=taz.merge(real[col],on='Taz_num',suffixes=('','_real')).merge(max[col],on='Taz_num',suffixes=('','_max')).merge(max_max[col],on='Taz_num',suffixes=('','_max^2'))"
      ]
    },
    {
      "cell_type": "code",
      "execution_count": 23,
      "id": "d7259087",
      "metadata": {},
      "outputs": [
        {
          "data": {
            "text/plain": [
              "['Taz_num',\n",
              " 'Name_hebre',\n",
              " 'Muni_Eng',\n",
              " 'main_secto',\n",
              " 'classifica',\n",
              " 'Student_by',\n",
              " 'geometry',\n",
              " 'pop_without_dorms_yeshiva',\n",
              " 'pop_without_dorms_yeshiva_max',\n",
              " 'pop_without_dorms_yeshiva_max^2']"
            ]
          },
          "execution_count": 23,
          "metadata": {},
          "output_type": "execute_result"
        }
      ],
      "source": [
        "list(joined)"
      ]
    },
    {
      "cell_type": "code",
      "execution_count": 25,
      "id": "56faaf9f",
      "metadata": {},
      "outputs": [],
      "source": [
        "# המרה לרשת WGS 84 (EPSG:4326)\n",
        "joined = joined.to_crs(epsg=4326)"
      ]
    },
    {
      "cell_type": "code",
      "execution_count": 28,
      "id": "b45742ed",
      "metadata": {},
      "outputs": [],
      "source": [
        "# רשימת העמודות שמהן נוצרים השכבות\n",
        "columns = [\"pop_without_dorms_yeshiva\", \"pop_without_dorms_yeshiva_max\", \"pop_without_dorms_yeshiva_max^2\"]\n",
        "\n",
        "# חישוב הטווח עבור כל הנתונים\n",
        "vmin = joined[columns].min().min()\n",
        "vmax = joined[columns].max().max()\n",
        "\n",
        "# יצירת סקאלת צבעים אחידה\n",
        "colormap = cm.LinearColormap(colors=[\"blue\", \"yellow\", \"red\"], vmin=vmin, vmax=vmax)\n",
        "\n",
        "# יצירת מפה\n",
        "m = folium.Map(zoom_start=10)  # נתחיל בזום סביר ונעדכן בהמשך\n",
        "m.fit_bounds([[joined.total_bounds[1], joined.total_bounds[0]],  # נקודה דרום-מערבית\n",
        "              [joined.total_bounds[3], joined.total_bounds[2]]]) # נקודה צפון-מזרחית\n",
        "\n",
        "# יצירת שכבות עבור כל עמודה\n",
        "layers = []\n",
        "for column in columns:\n",
        "    fg = folium.FeatureGroup(name=column)\n",
        "    \n",
        "    for _, row in joined.iterrows():\n",
        "        value = row[column]  # הערך המקורי\n",
        "        \n",
        "        # בדיקה אם הערך חסר (NaN)\n",
        "        if pd.notna(value):\n",
        "            formatted_value = f\"{value:,.0f}\"  # עיגול והוספת פסיקים\n",
        "            color = colormap(value)  \n",
        "        else:\n",
        "            formatted_value = \"N/A\"\n",
        "            color = \"#CCCCCC\"  # צבע ברירת מחדל לערכים חסרים\n",
        "        \n",
        "        folium.GeoJson(\n",
        "            row[\"geometry\"],\n",
        "            style_function=lambda feature, color=color: {\n",
        "                \"fillColor\": color, \"color\": \"black\", \"weight\": 1, \"fillOpacity\": 0.7\n",
        "            },\n",
        "            tooltip=f\"{column}: {formatted_value}\"  # הצגת הערך בפורמט מעוגל\n",
        "        ).add_to(fg)\n",
        "    \n",
        "    fg.add_to(m)\n",
        "    layers.append(fg)\n",
        "\n",
        "\n",
        "# הוספת מקרא ו- LayerControl\n",
        "colormap.caption = \"Scale of values\"\n",
        "colormap.add_to(m)\n",
        "folium.LayerControl().add_to(m)\n",
        "\n",
        "# שמירת המפה ל-HTML\n",
        "m.save(\"map.html\")"
      ]
    }
  ],
  "metadata": {
    "kernelspec": {
      "display_name": "base",
      "language": "python",
      "name": "python3"
    },
    "language_info": {
      "codemirror_mode": {
        "name": "ipython",
        "version": 3
      },
      "file_extension": ".py",
      "mimetype": "text/x-python",
      "name": "python",
      "nbconvert_exporter": "python",
      "pygments_lexer": "ipython3",
      "version": "3.11.5"
    },
    "toc": {
      "base_numbering": 1,
      "nav_menu": {},
      "number_sections": true,
      "sideBar": true,
      "skip_h1_title": false,
      "title_cell": "Table of Contents",
      "title_sidebar": "Contents",
      "toc_cell": false,
      "toc_position": {
        "height": "calc(100% - 180px)",
        "left": "10px",
        "top": "150px",
        "width": "304.475px"
      },
      "toc_section_display": true,
      "toc_window_display": true
    }
  },
  "nbformat": 4,
  "nbformat_minor": 5
}
