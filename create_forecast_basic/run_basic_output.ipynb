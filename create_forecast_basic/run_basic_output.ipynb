{
 "cells": [
  {
   "cell_type": "code",
   "execution_count": 1,
   "id": "dccd66ea",
   "metadata": {
    "execution": {
     "iopub.execute_input": "2024-12-17T18:06:00.981850Z",
     "iopub.status.busy": "2024-12-17T18:06:00.980849Z",
     "iopub.status.idle": "2024-12-17T18:06:00.999808Z",
     "shell.execute_reply": "2024-12-17T18:06:00.998679Z"
    },
    "papermill": {
     "duration": 0.032963,
     "end_time": "2024-12-17T18:06:01.003802",
     "exception": false,
     "start_time": "2024-12-17T18:06:00.970839",
     "status": "completed"
    },
    "tags": [
     "injected-parameters"
    ]
   },
   "outputs": [],
   "source": [
    "# Parameters\n",
    "output_folder_path = \"C:\\\\Users\\\\dpere\\\\Documents\\\\JTMT\\\\Projects\\\\\\u05ea\\u05d7\\u05d6\\u05d9\\u05d5\\u05ea_\\u05d3\\u05de\\u05d5\\u05d2\\u05e8\\u05e4\\u05d9\\u05d5\\u05ea\\\\\\u05e7\\u05d1\\u05e6\\u05d9 \\u05e2\\u05d1\\u05d5\\u05d3\\u05d4\\\\142_\\u05de\\u05ea\\u05d7\\u05dd_\\u05d0\\u05e0\\u05d2\\u05dc\\\\\\u05d1\\u05d4\\u05ea\\\\For_approval\\\\Reference_tabels\"\n",
    "new_layer_path = \"C:\\\\Users\\\\dpere\\\\Documents\\\\JTMT\\\\Projects\\\\\\u05ea\\u05d7\\u05d6\\u05d9\\u05d5\\u05ea_\\u05d3\\u05de\\u05d5\\u05d2\\u05e8\\u05e4\\u05d9\\u05d5\\u05ea\\\\\\u05e7\\u05d1\\u05e6\\u05d9 \\u05e2\\u05d1\\u05d5\\u05d3\\u05d4\\\\142_\\u05de\\u05ea\\u05d7\\u05dd_\\u05d0\\u05e0\\u05d2\\u05dc\\\\\\u05d1\\u05d4\\u05ea\\\\For_approval\\\\Reference_tabels\\\\shp\\\\TAZ_V4_240627_with_geo_info.shp\"\n"
   ]
  },
  {
   "cell_type": "markdown",
   "id": "bf9c7c4d",
   "metadata": {
    "papermill": {
     "duration": 0.008026,
     "end_time": "2024-12-17T18:06:01.017729",
     "exception": false,
     "start_time": "2024-12-17T18:06:01.009703",
     "status": "completed"
    },
    "tags": []
   },
   "source": [
    "### ייבוא ספריות\n"
   ]
  },
  {
   "cell_type": "code",
   "execution_count": 2,
   "id": "bfd2b618",
   "metadata": {
    "execution": {
     "iopub.execute_input": "2024-12-17T18:06:01.035264Z",
     "iopub.status.busy": "2024-12-17T18:06:01.034265Z",
     "iopub.status.idle": "2024-12-17T18:06:01.042371Z",
     "shell.execute_reply": "2024-12-17T18:06:01.040899Z"
    },
    "papermill": {
     "duration": 0.021665,
     "end_time": "2024-12-17T18:06:01.046392",
     "exception": false,
     "start_time": "2024-12-17T18:06:01.024727",
     "status": "completed"
    },
    "tags": []
   },
   "outputs": [],
   "source": [
    "params = {\"output_folder_path\": output_folder_path, \"new_layer_path\": new_layer_path}"
   ]
  },
  {
   "cell_type": "code",
   "execution_count": 3,
   "id": "8a039f2e",
   "metadata": {
    "execution": {
     "iopub.execute_input": "2024-12-17T18:06:01.059386Z",
     "iopub.status.busy": "2024-12-17T18:06:01.058387Z",
     "iopub.status.idle": "2024-12-17T18:06:01.065242Z",
     "shell.execute_reply": "2024-12-17T18:06:01.064229Z"
    },
    "papermill": {
     "duration": 0.015933,
     "end_time": "2024-12-17T18:06:01.068337",
     "exception": false,
     "start_time": "2024-12-17T18:06:01.052404",
     "status": "completed"
    },
    "tags": []
   },
   "outputs": [],
   "source": [
    "import os\n",
    "import sys"
   ]
  },
  {
   "cell_type": "markdown",
   "id": "1532b676",
   "metadata": {
    "papermill": {
     "duration": 0.006999,
     "end_time": "2024-12-17T18:06:01.087370",
     "exception": false,
     "start_time": "2024-12-17T18:06:01.080371",
     "status": "completed"
    },
    "tags": []
   },
   "source": [
    "### הגדרת נתיבים\n"
   ]
  },
  {
   "cell_type": "code",
   "execution_count": 4,
   "id": "72a41f84",
   "metadata": {
    "execution": {
     "iopub.execute_input": "2024-12-17T18:06:01.103894Z",
     "iopub.status.busy": "2024-12-17T18:06:01.102888Z",
     "iopub.status.idle": "2024-12-17T18:06:01.110322Z",
     "shell.execute_reply": "2024-12-17T18:06:01.108314Z"
    },
    "papermill": {
     "duration": 0.018434,
     "end_time": "2024-12-17T18:06:01.112325",
     "exception": false,
     "start_time": "2024-12-17T18:06:01.093891",
     "status": "completed"
    },
    "tags": []
   },
   "outputs": [],
   "source": [
    "# cwd: מאחסן את הנתיב הנוכחי.\n",
    "cwd = os.getcwd()\n",
    "\n",
    "# arab_and_palestinian מגדיר נתיב לתיקית\n",
    "arab_and_palestinian_directory = r'{}\\arab_and_palestinian'.format(cwd)\n",
    "\n",
    "# current מגדיר נתיב לתיקית\n",
    "current_directory = r'{}\\current'.format(cwd)"
   ]
  },
  {
   "cell_type": "markdown",
   "id": "728ab5e1",
   "metadata": {
    "papermill": {
     "duration": 0.003999,
     "end_time": "2024-12-17T18:06:01.119322",
     "exception": false,
     "start_time": "2024-12-17T18:06:01.115323",
     "status": "completed"
    },
    "tags": []
   },
   "source": [
    "### הוספת נתיבים\n"
   ]
  },
  {
   "cell_type": "code",
   "execution_count": 5,
   "id": "71964023",
   "metadata": {
    "execution": {
     "iopub.execute_input": "2024-12-17T18:06:01.126087Z",
     "iopub.status.busy": "2024-12-17T18:06:01.126087Z",
     "iopub.status.idle": "2024-12-17T18:06:01.131835Z",
     "shell.execute_reply": "2024-12-17T18:06:01.130069Z"
    },
    "papermill": {
     "duration": 0.010593,
     "end_time": "2024-12-17T18:06:01.132916",
     "exception": false,
     "start_time": "2024-12-17T18:06:01.122323",
     "status": "completed"
    },
    "tags": []
   },
   "outputs": [],
   "source": [
    "# מוסיף את הנתיבים של התיקיות השונות, כך שניתן לייבא מודולים מהתיקיות הללו.\n",
    "sys.path.append(arab_and_palestinian_directory)\n",
    "sys.path.append(current_directory)"
   ]
  },
  {
   "cell_type": "markdown",
   "id": "f06b492c",
   "metadata": {
    "papermill": {
     "duration": 0.002222,
     "end_time": "2024-12-17T18:06:01.138455",
     "exception": false,
     "start_time": "2024-12-17T18:06:01.136233",
     "status": "completed"
    },
    "tags": []
   },
   "source": [
    "### ייבוא מודולים\n"
   ]
  },
  {
   "cell_type": "code",
   "execution_count": 6,
   "id": "c8aae81a",
   "metadata": {
    "execution": {
     "iopub.execute_input": "2024-12-17T18:06:01.146185Z",
     "iopub.status.busy": "2024-12-17T18:06:01.146124Z",
     "iopub.status.idle": "2024-12-17T18:06:01.809199Z",
     "shell.execute_reply": "2024-12-17T18:06:01.808188Z"
    },
    "papermill": {
     "duration": 0.670417,
     "end_time": "2024-12-17T18:06:01.812216",
     "exception": false,
     "start_time": "2024-12-17T18:06:01.141799",
     "status": "completed"
    },
    "tags": []
   },
   "outputs": [],
   "source": [
    "# מייבא את המודולים המכילים את הפונקציות להרצת המחברות\n",
    "import run_current"
   ]
  },
  {
   "cell_type": "markdown",
   "id": "2c842e64",
   "metadata": {
    "papermill": {
     "duration": 0.005997,
     "end_time": "2024-12-17T18:06:01.824202",
     "exception": false,
     "start_time": "2024-12-17T18:06:01.818205",
     "status": "completed"
    },
    "tags": []
   },
   "source": [
    "### הרצת מחברות\n"
   ]
  },
  {
   "cell_type": "code",
   "execution_count": null,
   "id": "18270c7f",
   "metadata": {
    "execution": {
     "iopub.execute_input": "2024-12-17T18:06:01.837311Z",
     "iopub.status.busy": "2024-12-17T18:06:01.836212Z",
     "iopub.status.idle": "2024-12-17T18:06:31.367423Z",
     "shell.execute_reply": "2024-12-17T18:06:31.366598Z"
    },
    "papermill": {
     "duration": 29.538312,
     "end_time": "2024-12-17T18:06:31.369530",
     "exception": false,
     "start_time": "2024-12-17T18:06:01.831218",
     "status": "completed"
    },
    "tags": []
   },
   "outputs": [],
   "source": [
    "# מחליף את הנתיב הנוכחי לתיקייה current\n",
    "os.chdir(current_directory)\n",
    "\n",
    "# מריץ את המחברת באמצעות הפונקציה run_notebook\n",
    "run_current.run_notebook(r'{}\\current\\run_current.ipynb'.format(cwd), params)"
   ]
  }
 ],
 "metadata": {
  "kernelspec": {
   "display_name": "creat_forecast_ad_hoc_env",
   "language": "python",
   "name": "python3"
  },
  "language_info": {
   "codemirror_mode": {
    "name": "ipython",
    "version": 3
   },
   "file_extension": ".py",
   "mimetype": "text/x-python",
   "name": "python",
   "nbconvert_exporter": "python",
   "pygments_lexer": "ipython3",
   "version": "3.11.5"
  },
  "papermill": {
   "default_parameters": {},
   "duration": 33.208345,
   "end_time": "2024-12-17T18:06:31.734946",
   "environment_variables": {},
   "exception": null,
   "input_path": "c:\\Users\\dpere\\Documents\\JTMT\\create_forecast_ad_hoc\\create_forecast_basic\\run_basic.ipynb",
   "output_path": "c:\\Users\\dpere\\Documents\\JTMT\\create_forecast_ad_hoc\\create_forecast_basic\\run_basic_output.ipynb",
   "parameters": {
    "new_layer_path": "C:\\Users\\dpere\\Documents\\JTMT\\Projects\\תחזיות_דמוגרפיות\\קבצי עבודה\\142_מתחם_אנגל\\בהת\\For_approval\\Reference_tabels\\shp\\TAZ_V4_240627_with_geo_info.shp",
    "output_folder_path": "C:\\Users\\dpere\\Documents\\JTMT\\Projects\\תחזיות_דמוגרפיות\\קבצי עבודה\\142_מתחם_אנגל\\בהת\\For_approval\\Reference_tabels"
   },
   "start_time": "2024-12-17T18:05:58.526601",
   "version": "2.6.0"
  },
  "widgets": {
   "application/vnd.jupyter.widget-state+json": {
    "state": {
     "0db2e4b98d464fe68d460f81b1fe6017": {
      "model_module": "@jupyter-widgets/controls",
      "model_module_version": "1.5.0",
      "model_name": "ProgressStyleModel",
      "state": {
       "_model_module": "@jupyter-widgets/controls",
       "_model_module_version": "1.5.0",
       "_model_name": "ProgressStyleModel",
       "_view_count": null,
       "_view_module": "@jupyter-widgets/base",
       "_view_module_version": "1.2.0",
       "_view_name": "StyleView",
       "bar_color": null,
       "description_width": ""
      }
     },
     "11feffe9614a496f8f0b3d447d88c437": {
      "model_module": "@jupyter-widgets/base",
      "model_module_version": "1.2.0",
      "model_name": "LayoutModel",
      "state": {
       "_model_module": "@jupyter-widgets/base",
       "_model_module_version": "1.2.0",
       "_model_name": "LayoutModel",
       "_view_count": null,
       "_view_module": "@jupyter-widgets/base",
       "_view_module_version": "1.2.0",
       "_view_name": "LayoutView",
       "align_content": null,
       "align_items": null,
       "align_self": null,
       "border": null,
       "bottom": null,
       "display": null,
       "flex": null,
       "flex_flow": null,
       "grid_area": null,
       "grid_auto_columns": null,
       "grid_auto_flow": null,
       "grid_auto_rows": null,
       "grid_column": null,
       "grid_gap": null,
       "grid_row": null,
       "grid_template_areas": null,
       "grid_template_columns": null,
       "grid_template_rows": null,
       "height": null,
       "justify_content": null,
       "justify_items": null,
       "left": null,
       "margin": null,
       "max_height": null,
       "max_width": null,
       "min_height": null,
       "min_width": null,
       "object_fit": null,
       "object_position": null,
       "order": null,
       "overflow": null,
       "overflow_x": null,
       "overflow_y": null,
       "padding": null,
       "right": null,
       "top": null,
       "visibility": null,
       "width": null
      }
     },
     "377abfcf1dec4f2f8cf9f9e6d327f71c": {
      "model_module": "@jupyter-widgets/controls",
      "model_module_version": "1.5.0",
      "model_name": "FloatProgressModel",
      "state": {
       "_dom_classes": [],
       "_model_module": "@jupyter-widgets/controls",
       "_model_module_version": "1.5.0",
       "_model_name": "FloatProgressModel",
       "_view_count": null,
       "_view_module": "@jupyter-widgets/controls",
       "_view_module_version": "1.5.0",
       "_view_name": "ProgressView",
       "bar_style": "success",
       "description": "",
       "description_tooltip": null,
       "layout": "IPY_MODEL_b79290e78766486d8f85e8a9c1a31c2c",
       "max": 13,
       "min": 0,
       "orientation": "horizontal",
       "style": "IPY_MODEL_0db2e4b98d464fe68d460f81b1fe6017",
       "value": 13
      }
     },
     "9881c07c5ea640ddbbf0f6173500fbb0": {
      "model_module": "@jupyter-widgets/controls",
      "model_module_version": "1.5.0",
      "model_name": "DescriptionStyleModel",
      "state": {
       "_model_module": "@jupyter-widgets/controls",
       "_model_module_version": "1.5.0",
       "_model_name": "DescriptionStyleModel",
       "_view_count": null,
       "_view_module": "@jupyter-widgets/base",
       "_view_module_version": "1.2.0",
       "_view_name": "StyleView",
       "description_width": ""
      }
     },
     "9b28c7f808ff423e9f9b11c51286efec": {
      "model_module": "@jupyter-widgets/base",
      "model_module_version": "1.2.0",
      "model_name": "LayoutModel",
      "state": {
       "_model_module": "@jupyter-widgets/base",
       "_model_module_version": "1.2.0",
       "_model_name": "LayoutModel",
       "_view_count": null,
       "_view_module": "@jupyter-widgets/base",
       "_view_module_version": "1.2.0",
       "_view_name": "LayoutView",
       "align_content": null,
       "align_items": null,
       "align_self": null,
       "border": null,
       "bottom": null,
       "display": null,
       "flex": null,
       "flex_flow": null,
       "grid_area": null,
       "grid_auto_columns": null,
       "grid_auto_flow": null,
       "grid_auto_rows": null,
       "grid_column": null,
       "grid_gap": null,
       "grid_row": null,
       "grid_template_areas": null,
       "grid_template_columns": null,
       "grid_template_rows": null,
       "height": null,
       "justify_content": null,
       "justify_items": null,
       "left": null,
       "margin": null,
       "max_height": null,
       "max_width": null,
       "min_height": null,
       "min_width": null,
       "object_fit": null,
       "object_position": null,
       "order": null,
       "overflow": null,
       "overflow_x": null,
       "overflow_y": null,
       "padding": null,
       "right": null,
       "top": null,
       "visibility": null,
       "width": null
      }
     },
     "b27caa9f50cd427fb5c9de9bb6de73f4": {
      "model_module": "@jupyter-widgets/base",
      "model_module_version": "1.2.0",
      "model_name": "LayoutModel",
      "state": {
       "_model_module": "@jupyter-widgets/base",
       "_model_module_version": "1.2.0",
       "_model_name": "LayoutModel",
       "_view_count": null,
       "_view_module": "@jupyter-widgets/base",
       "_view_module_version": "1.2.0",
       "_view_name": "LayoutView",
       "align_content": null,
       "align_items": null,
       "align_self": null,
       "border": null,
       "bottom": null,
       "display": null,
       "flex": null,
       "flex_flow": null,
       "grid_area": null,
       "grid_auto_columns": null,
       "grid_auto_flow": null,
       "grid_auto_rows": null,
       "grid_column": null,
       "grid_gap": null,
       "grid_row": null,
       "grid_template_areas": null,
       "grid_template_columns": null,
       "grid_template_rows": null,
       "height": null,
       "justify_content": null,
       "justify_items": null,
       "left": null,
       "margin": null,
       "max_height": null,
       "max_width": null,
       "min_height": null,
       "min_width": null,
       "object_fit": null,
       "object_position": null,
       "order": null,
       "overflow": null,
       "overflow_x": null,
       "overflow_y": null,
       "padding": null,
       "right": null,
       "top": null,
       "visibility": null,
       "width": null
      }
     },
     "b79290e78766486d8f85e8a9c1a31c2c": {
      "model_module": "@jupyter-widgets/base",
      "model_module_version": "1.2.0",
      "model_name": "LayoutModel",
      "state": {
       "_model_module": "@jupyter-widgets/base",
       "_model_module_version": "1.2.0",
       "_model_name": "LayoutModel",
       "_view_count": null,
       "_view_module": "@jupyter-widgets/base",
       "_view_module_version": "1.2.0",
       "_view_name": "LayoutView",
       "align_content": null,
       "align_items": null,
       "align_self": null,
       "border": null,
       "bottom": null,
       "display": null,
       "flex": null,
       "flex_flow": null,
       "grid_area": null,
       "grid_auto_columns": null,
       "grid_auto_flow": null,
       "grid_auto_rows": null,
       "grid_column": null,
       "grid_gap": null,
       "grid_row": null,
       "grid_template_areas": null,
       "grid_template_columns": null,
       "grid_template_rows": null,
       "height": null,
       "justify_content": null,
       "justify_items": null,
       "left": null,
       "margin": null,
       "max_height": null,
       "max_width": null,
       "min_height": null,
       "min_width": null,
       "object_fit": null,
       "object_position": null,
       "order": null,
       "overflow": null,
       "overflow_x": null,
       "overflow_y": null,
       "padding": null,
       "right": null,
       "top": null,
       "visibility": null,
       "width": null
      }
     },
     "ba4ea199add84419b5c351659ba13fe8": {
      "model_module": "@jupyter-widgets/controls",
      "model_module_version": "1.5.0",
      "model_name": "HTMLModel",
      "state": {
       "_dom_classes": [],
       "_model_module": "@jupyter-widgets/controls",
       "_model_module_version": "1.5.0",
       "_model_name": "HTMLModel",
       "_view_count": null,
       "_view_module": "@jupyter-widgets/controls",
       "_view_module_version": "1.5.0",
       "_view_name": "HTMLView",
       "description": "",
       "description_tooltip": null,
       "layout": "IPY_MODEL_11feffe9614a496f8f0b3d447d88c437",
       "placeholder": "​",
       "style": "IPY_MODEL_e79f128e2c6d402b923d66b44479e08f",
       "value": " 13/13 [00:29&lt;00:00,  3.73s/cell]"
      }
     },
     "ce9b9a803e424bc68753206a0de5c4e9": {
      "model_module": "@jupyter-widgets/controls",
      "model_module_version": "1.5.0",
      "model_name": "HTMLModel",
      "state": {
       "_dom_classes": [],
       "_model_module": "@jupyter-widgets/controls",
       "_model_module_version": "1.5.0",
       "_model_name": "HTMLModel",
       "_view_count": null,
       "_view_module": "@jupyter-widgets/controls",
       "_view_module_version": "1.5.0",
       "_view_name": "HTMLView",
       "description": "",
       "description_tooltip": null,
       "layout": "IPY_MODEL_b27caa9f50cd427fb5c9de9bb6de73f4",
       "placeholder": "​",
       "style": "IPY_MODEL_9881c07c5ea640ddbbf0f6173500fbb0",
       "value": "Executing: 100%"
      }
     },
     "e79f128e2c6d402b923d66b44479e08f": {
      "model_module": "@jupyter-widgets/controls",
      "model_module_version": "1.5.0",
      "model_name": "DescriptionStyleModel",
      "state": {
       "_model_module": "@jupyter-widgets/controls",
       "_model_module_version": "1.5.0",
       "_model_name": "DescriptionStyleModel",
       "_view_count": null,
       "_view_module": "@jupyter-widgets/base",
       "_view_module_version": "1.2.0",
       "_view_name": "StyleView",
       "description_width": ""
      }
     },
     "f3bd03d740e84b71bf2fb584a7ce5170": {
      "model_module": "@jupyter-widgets/controls",
      "model_module_version": "1.5.0",
      "model_name": "HBoxModel",
      "state": {
       "_dom_classes": [],
       "_model_module": "@jupyter-widgets/controls",
       "_model_module_version": "1.5.0",
       "_model_name": "HBoxModel",
       "_view_count": null,
       "_view_module": "@jupyter-widgets/controls",
       "_view_module_version": "1.5.0",
       "_view_name": "HBoxView",
       "box_style": "",
       "children": [
        "IPY_MODEL_ce9b9a803e424bc68753206a0de5c4e9",
        "IPY_MODEL_377abfcf1dec4f2f8cf9f9e6d327f71c",
        "IPY_MODEL_ba4ea199add84419b5c351659ba13fe8"
       ],
       "layout": "IPY_MODEL_9b28c7f808ff423e9f9b11c51286efec"
      }
     }
    },
    "version_major": 2,
    "version_minor": 0
   }
  }
 },
 "nbformat": 4,
 "nbformat_minor": 5
}
