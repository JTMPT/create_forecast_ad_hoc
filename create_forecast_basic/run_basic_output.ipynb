{
 "cells": [
  {
   "cell_type": "code",
   "execution_count": 1,
   "id": "70d3f1e8",
   "metadata": {
    "execution": {
     "iopub.execute_input": "2025-02-04T10:05:34.981236Z",
     "iopub.status.busy": "2025-02-04T10:05:34.980839Z",
     "iopub.status.idle": "2025-02-04T10:05:34.986653Z",
     "shell.execute_reply": "2025-02-04T10:05:34.985731Z"
    },
    "papermill": {
     "duration": 0.048738,
     "end_time": "2025-02-04T10:05:34.989350",
     "exception": false,
     "start_time": "2025-02-04T10:05:34.940612",
     "status": "completed"
    },
    "tags": [
     "injected-parameters"
    ]
   },
   "outputs": [],
   "source": [
    "# Parameters\n",
    "output_folder_path = \"W:\\\\Projects\\\\\\u05ea\\u05db\\u05e0\\u05d9\\u05d5\\u05ea \\u05de\\u05e8\\u05d7\\u05d1\\u05d9\\u05d5\\u05ea\\\\\\u05d1\\u05d3\\u05d9\\u05e7\\u05d4 \\u05de\\u05e8\\u05d7\\u05d1\\u05d9\\u05ea \\u05d0\\u05e8\\u05de\\u05d5\\u05df \\u05d4\\u05e0\\u05e6\\u05d9\\u05d1 - Copy\\\\\\u05e7\\u05d1\\u05e6\\u05d9 \\u05e2\\u05d1\\u05d5\\u05d3\\u05d4\\\\\\u05ea\\u05d7\\u05d6\\u05d9\\u05d5\\u05ea_\\u05d3\\u05de\\u05d5\\u05d2\\u05e8\\u05e4\\u05d9\\u05d5\\u05ea\\\\For_approval\\\\Reference_tabels\"\n",
    "new_layer_path = \"W:\\\\Projects\\\\\\u05ea\\u05db\\u05e0\\u05d9\\u05d5\\u05ea \\u05de\\u05e8\\u05d7\\u05d1\\u05d9\\u05d5\\u05ea\\\\\\u05d1\\u05d3\\u05d9\\u05e7\\u05d4 \\u05de\\u05e8\\u05d7\\u05d1\\u05d9\\u05ea \\u05d0\\u05e8\\u05de\\u05d5\\u05df \\u05d4\\u05e0\\u05e6\\u05d9\\u05d1 - Copy\\\\\\u05e7\\u05d1\\u05e6\\u05d9 \\u05e2\\u05d1\\u05d5\\u05d3\\u05d4\\\\\\u05ea\\u05d7\\u05d6\\u05d9\\u05d5\\u05ea_\\u05d3\\u05de\\u05d5\\u05d2\\u05e8\\u05e4\\u05d9\\u05d5\\u05ea\\\\For_approval\\\\Reference_tabels\\\\shp\\\\TAZ_V4_241103_with_geo_info.shp\"\n"
   ]
  },
  {
   "cell_type": "markdown",
   "id": "bfadcd46",
   "metadata": {
    "papermill": {
     "duration": 0.035429,
     "end_time": "2025-02-04T10:05:35.064400",
     "exception": false,
     "start_time": "2025-02-04T10:05:35.028971",
     "status": "completed"
    },
    "tags": []
   },
   "source": [
    "### ייבוא ספריות\n"
   ]
  },
  {
   "cell_type": "code",
   "execution_count": 2,
   "id": "d8ccc81f",
   "metadata": {
    "execution": {
     "iopub.execute_input": "2025-02-04T10:05:35.140618Z",
     "iopub.status.busy": "2025-02-04T10:05:35.139557Z",
     "iopub.status.idle": "2025-02-04T10:05:35.146309Z",
     "shell.execute_reply": "2025-02-04T10:05:35.145033Z"
    },
    "papermill": {
     "duration": 0.048702,
     "end_time": "2025-02-04T10:05:35.149138",
     "exception": false,
     "start_time": "2025-02-04T10:05:35.100436",
     "status": "completed"
    },
    "tags": []
   },
   "outputs": [],
   "source": [
    "params = {\"output_folder_path\": output_folder_path, \"new_layer_path\": new_layer_path}"
   ]
  },
  {
   "cell_type": "code",
   "execution_count": 3,
   "id": "c5299549",
   "metadata": {
    "execution": {
     "iopub.execute_input": "2025-02-04T10:05:35.228241Z",
     "iopub.status.busy": "2025-02-04T10:05:35.227928Z",
     "iopub.status.idle": "2025-02-04T10:05:35.231695Z",
     "shell.execute_reply": "2025-02-04T10:05:35.230840Z"
    },
    "papermill": {
     "duration": 0.044039,
     "end_time": "2025-02-04T10:05:35.233358",
     "exception": false,
     "start_time": "2025-02-04T10:05:35.189319",
     "status": "completed"
    },
    "tags": []
   },
   "outputs": [],
   "source": [
    "import os\n",
    "import sys"
   ]
  },
  {
   "cell_type": "markdown",
   "id": "62195b42",
   "metadata": {
    "papermill": {
     "duration": 0.032239,
     "end_time": "2025-02-04T10:05:35.297879",
     "exception": false,
     "start_time": "2025-02-04T10:05:35.265640",
     "status": "completed"
    },
    "tags": []
   },
   "source": [
    "### הגדרת נתיבים\n"
   ]
  },
  {
   "cell_type": "code",
   "execution_count": 4,
   "id": "eaf45814",
   "metadata": {
    "execution": {
     "iopub.execute_input": "2025-02-04T10:05:35.373130Z",
     "iopub.status.busy": "2025-02-04T10:05:35.372323Z",
     "iopub.status.idle": "2025-02-04T10:05:35.377275Z",
     "shell.execute_reply": "2025-02-04T10:05:35.376322Z"
    },
    "papermill": {
     "duration": 0.044704,
     "end_time": "2025-02-04T10:05:35.378624",
     "exception": false,
     "start_time": "2025-02-04T10:05:35.333920",
     "status": "completed"
    },
    "tags": []
   },
   "outputs": [],
   "source": [
    "# cwd: מאחסן את הנתיב הנוכחי.\n",
    "cwd = os.getcwd()\n",
    "\n",
    "# arab_and_palestinian מגדיר נתיב לתיקית\n",
    "arab_and_palestinian_directory = r'{}\\arab_and_palestinian'.format(cwd)\n",
    "\n",
    "# current מגדיר נתיב לתיקית\n",
    "current_directory = r'{}\\current'.format(cwd)"
   ]
  },
  {
   "cell_type": "markdown",
   "id": "b95a02b0",
   "metadata": {
    "papermill": {
     "duration": 0.033114,
     "end_time": "2025-02-04T10:05:35.447446",
     "exception": false,
     "start_time": "2025-02-04T10:05:35.414332",
     "status": "completed"
    },
    "tags": []
   },
   "source": [
    "### הוספת נתיבים\n"
   ]
  },
  {
   "cell_type": "code",
   "execution_count": 5,
   "id": "c236a6a8",
   "metadata": {
    "execution": {
     "iopub.execute_input": "2025-02-04T10:05:35.526054Z",
     "iopub.status.busy": "2025-02-04T10:05:35.525418Z",
     "iopub.status.idle": "2025-02-04T10:05:35.530183Z",
     "shell.execute_reply": "2025-02-04T10:05:35.529073Z"
    },
    "papermill": {
     "duration": 0.050051,
     "end_time": "2025-02-04T10:05:35.531872",
     "exception": false,
     "start_time": "2025-02-04T10:05:35.481821",
     "status": "completed"
    },
    "tags": []
   },
   "outputs": [],
   "source": [
    "# מוסיף את הנתיבים של התיקיות השונות, כך שניתן לייבא מודולים מהתיקיות הללו.\n",
    "sys.path.append(arab_and_palestinian_directory)\n",
    "sys.path.append(current_directory)"
   ]
  },
  {
   "cell_type": "markdown",
   "id": "91ce7d02",
   "metadata": {
    "papermill": {
     "duration": 0.03052,
     "end_time": "2025-02-04T10:05:35.597764",
     "exception": false,
     "start_time": "2025-02-04T10:05:35.567244",
     "status": "completed"
    },
    "tags": []
   },
   "source": [
    "### ייבוא מודולים\n"
   ]
  },
  {
   "cell_type": "code",
   "execution_count": 6,
   "id": "6a51a301",
   "metadata": {
    "execution": {
     "iopub.execute_input": "2025-02-04T10:05:35.660449Z",
     "iopub.status.busy": "2025-02-04T10:05:35.660201Z",
     "iopub.status.idle": "2025-02-04T10:05:36.869734Z",
     "shell.execute_reply": "2025-02-04T10:05:36.869005Z"
    },
    "papermill": {
     "duration": 1.242701,
     "end_time": "2025-02-04T10:05:36.870801",
     "exception": false,
     "start_time": "2025-02-04T10:05:35.628100",
     "status": "completed"
    },
    "tags": []
   },
   "outputs": [],
   "source": [
    "# מייבא את המודולים המכילים את הפונקציות להרצת המחברות\n",
    "import run_current"
   ]
  },
  {
   "cell_type": "markdown",
   "id": "ec381d3e",
   "metadata": {
    "papermill": {
     "duration": 0.034822,
     "end_time": "2025-02-04T10:05:36.938595",
     "exception": false,
     "start_time": "2025-02-04T10:05:36.903773",
     "status": "completed"
    },
    "tags": []
   },
   "source": [
    "### הרצת מחברות\n"
   ]
  },
  {
   "cell_type": "code",
   "execution_count": 7,
   "id": "7f6b217e",
   "metadata": {
    "execution": {
     "iopub.execute_input": "2025-02-04T10:05:37.013753Z",
     "iopub.status.busy": "2025-02-04T10:05:37.013420Z",
     "iopub.status.idle": "2025-02-04T10:07:14.539148Z",
     "shell.execute_reply": "2025-02-04T10:07:14.536930Z"
    },
    "papermill": {
     "duration": 97.566414,
     "end_time": "2025-02-04T10:07:14.542347",
     "exception": false,
     "start_time": "2025-02-04T10:05:36.975933",
     "status": "completed"
    },
    "tags": []
   },
   "outputs": [
    {
     "name": "stderr",
     "output_type": "stream",
     "text": [
      "Passed unknown parameter: output_folder_path\n"
     ]
    },
    {
     "name": "stderr",
     "output_type": "stream",
     "text": [
      "Passed unknown parameter: new_layer_path\n"
     ]
    },
    {
     "name": "stderr",
     "output_type": "stream",
     "text": [
      "Input notebook does not contain a cell with tag 'parameters'\n"
     ]
    },
    {
     "name": "stderr",
     "output_type": "stream",
     "text": [
      "c:\\Users\\mark\\AppData\\Local\\Programs\\Python\\Python313\\Lib\\site-packages\\tqdm\\auto.py:21: TqdmWarning: IProgress not found. Please update jupyter and ipywidgets. See https://ipywidgets.readthedocs.io/en/stable/user_install.html\n",
      "  from .autonotebook import tqdm as notebook_tqdm\n"
     ]
    },
    {
     "name": "stderr",
     "output_type": "stream",
     "text": [
      "\r",
      "Executing:   0%|          | 0/13 [00:00<?, ?cell/s]"
     ]
    },
    {
     "name": "stderr",
     "output_type": "stream",
     "text": [
      "\r",
      "Executing:   8%|▊         | 1/13 [00:02<00:25,  2.09s/cell]"
     ]
    },
    {
     "name": "stderr",
     "output_type": "stream",
     "text": [
      "\r",
      "Executing:  23%|██▎       | 3/13 [00:02<00:06,  1.66cell/s]"
     ]
    },
    {
     "name": "stderr",
     "output_type": "stream",
     "text": [
      "\r",
      "Executing:  38%|███▊      | 5/13 [00:02<00:02,  2.96cell/s]"
     ]
    },
    {
     "name": "stderr",
     "output_type": "stream",
     "text": [
      "\r",
      "Executing:  54%|█████▍    | 7/13 [00:02<00:01,  3.77cell/s]"
     ]
    },
    {
     "name": "stderr",
     "output_type": "stream",
     "text": [
      "\r",
      "Executing:  69%|██████▉   | 9/13 [00:04<00:01,  2.50cell/s]"
     ]
    },
    {
     "name": "stderr",
     "output_type": "stream",
     "text": [
      "\r",
      "Executing:  85%|████████▍ | 11/13 [01:00<00:20, 10.14s/cell]"
     ]
    },
    {
     "name": "stderr",
     "output_type": "stream",
     "text": [
      "\r",
      "Executing:  92%|█████████▏| 12/13 [01:25<00:13, 13.12s/cell]"
     ]
    },
    {
     "name": "stderr",
     "output_type": "stream",
     "text": [
      "\r",
      "Executing: 100%|██████████| 13/13 [01:36<00:00, 12.59s/cell]"
     ]
    },
    {
     "name": "stderr",
     "output_type": "stream",
     "text": [
      "\r",
      "Executing: 100%|██████████| 13/13 [01:37<00:00,  7.48s/cell]"
     ]
    },
    {
     "name": "stdout",
     "output_type": "stream",
     "text": [
      "Error executing notebook: \n",
      "---------------------------------------------------------------------------\n",
      "Exception encountered at \"In [9]\":\n",
      "---------------------------------------------------------------------------\n",
      "FileNotFoundError                         Traceback (most recent call last)\n",
      "File ~\\AppData\\Local\\Temp\\ipykernel_15348\\3278135569.py:1\n",
      "----> 1 forecast_version_folder_location=get_forecast_version_folder_location(r'{}\\background_files\\forecast_version_folder_location.txt'.format(create_forecast_basic_folder_path))\n",
      "      3 forecast_version_folder_location=r'{}\\BASE_YEAR'.format(forecast_version_folder_location)\n",
      "\n",
      "File w:\\Data\\Forecast\\Tools\\create_forecast_ad_hoc\\create_forecast_basic\\global_functions.py:253, in get_forecast_version_folder_location(file_path)\n",
      "    252 def get_forecast_version_folder_location(file_path):\n",
      "--> 253     with open(file_path, 'r') as file:\n",
      "    254         forecast_version_folder_location = file.read()\n",
      "    255     return forecast_version_folder_location\n",
      "\n",
      "FileNotFoundError: [Errno 2] No such file or directory: 'w:\\\\Data\\\\Forecast\\\\Tools\\\\create_forecast_ad_hoc\\\\create_forecast_basic\\\\background_files\\\\forecast_version_folder_location.txt'\n",
      "\n"
     ]
    },
    {
     "name": "stderr",
     "output_type": "stream",
     "text": [
      "\n"
     ]
    },
    {
     "data": {
      "text/plain": [
       "False"
      ]
     },
     "execution_count": 7,
     "metadata": {},
     "output_type": "execute_result"
    }
   ],
   "source": [
    "# מחליף את הנתיב הנוכחי לתיקייה current\n",
    "os.chdir(current_directory)\n",
    "\n",
    "# מריץ את המחברת באמצעות הפונקציה run_notebook\n",
    "run_current.run_notebook(r'{}\\current\\run_current.ipynb'.format(cwd), params)"
   ]
  }
 ],
 "metadata": {
  "kernelspec": {
   "display_name": "creat_forecast_ad_hoc_env",
   "language": "python",
   "name": "python3"
  },
  "language_info": {
   "codemirror_mode": {
    "name": "ipython",
    "version": 3
   },
   "file_extension": ".py",
   "mimetype": "text/x-python",
   "name": "python",
   "nbconvert_exporter": "python",
   "pygments_lexer": "ipython3",
   "version": "3.13.1"
  },
  "papermill": {
   "default_parameters": {},
   "duration": 102.944184,
   "end_time": "2025-02-04T10:07:14.942069",
   "environment_variables": {},
   "exception": null,
   "input_path": "w:\\Data\\Forecast\\Tools\\create_forecast_ad_hoc\\create_forecast_basic\\run_basic.ipynb",
   "output_path": "w:\\Data\\Forecast\\Tools\\create_forecast_ad_hoc\\create_forecast_basic\\run_basic_output.ipynb",
   "parameters": {
    "new_layer_path": "W:\\Projects\\תכניות מרחביות\\בדיקה מרחבית ארמון הנציב - Copy\\קבצי עבודה\\תחזיות_דמוגרפיות\\For_approval\\Reference_tabels\\shp\\TAZ_V4_241103_with_geo_info.shp",
    "output_folder_path": "W:\\Projects\\תכניות מרחביות\\בדיקה מרחבית ארמון הנציב - Copy\\קבצי עבודה\\תחזיות_דמוגרפיות\\For_approval\\Reference_tabels"
   },
   "start_time": "2025-02-04T10:05:31.997885",
   "version": "2.6.0"
  }
 },
 "nbformat": 4,
 "nbformat_minor": 5
}