{
 "cells": [
  {
   "cell_type": "code",
   "execution_count": 1,
   "id": "74babfa7",
   "metadata": {
    "execution": {
     "iopub.execute_input": "2025-01-30T15:16:55.033999Z",
     "iopub.status.busy": "2025-01-30T15:16:55.033497Z",
     "iopub.status.idle": "2025-01-30T15:16:55.041368Z",
     "shell.execute_reply": "2025-01-30T15:16:55.040098Z"
    },
    "papermill": {
     "duration": 0.104767,
     "end_time": "2025-01-30T15:16:55.043078",
     "exception": false,
     "start_time": "2025-01-30T15:16:54.938311",
     "status": "completed"
    },
    "tags": [
     "injected-parameters"
    ]
   },
   "outputs": [],
   "source": [
    "# Parameters\n",
    "output_folder_path = \"W:\\\\Projects\\\\\\u05ea\\u05db\\u05e0\\u05d9\\u05d5\\u05ea \\u05de\\u05e8\\u05d7\\u05d1\\u05d9\\u05d5\\u05ea\\\\\\u05d1\\u05d3\\u05d9\\u05e7\\u05d4 \\u05de\\u05e8\\u05d7\\u05d1\\u05d9\\u05ea \\u05d0\\u05e8\\u05de\\u05d5\\u05df \\u05d4\\u05e0\\u05e6\\u05d9\\u05d1 - Copy\\\\\\u05e7\\u05d1\\u05e6\\u05d9 \\u05e2\\u05d1\\u05d5\\u05d3\\u05d4\\\\\\u05ea\\u05d7\\u05d6\\u05d9\\u05d5\\u05ea_\\u05d3\\u05de\\u05d5\\u05d2\\u05e8\\u05e4\\u05d9\\u05d5\\u05ea\\\\For_approval\\\\Reference_tabels\"\n",
    "new_layer_path = \"W:\\\\Projects\\\\\\u05ea\\u05db\\u05e0\\u05d9\\u05d5\\u05ea \\u05de\\u05e8\\u05d7\\u05d1\\u05d9\\u05d5\\u05ea\\\\\\u05d1\\u05d3\\u05d9\\u05e7\\u05d4 \\u05de\\u05e8\\u05d7\\u05d1\\u05d9\\u05ea \\u05d0\\u05e8\\u05de\\u05d5\\u05df \\u05d4\\u05e0\\u05e6\\u05d9\\u05d1 - Copy\\\\\\u05e7\\u05d1\\u05e6\\u05d9 \\u05e2\\u05d1\\u05d5\\u05d3\\u05d4\\\\\\u05ea\\u05d7\\u05d6\\u05d9\\u05d5\\u05ea_\\u05d3\\u05de\\u05d5\\u05d2\\u05e8\\u05e4\\u05d9\\u05d5\\u05ea\\\\For_approval\\\\Reference_tabels\\\\shp\\\\TAZ_V4_241103_with_geo_info.shp\"\n"
   ]
  },
  {
   "cell_type": "markdown",
   "id": "8060fcb4",
   "metadata": {
    "papermill": {
     "duration": 0.087419,
     "end_time": "2025-01-30T15:16:55.218230",
     "exception": false,
     "start_time": "2025-01-30T15:16:55.130811",
     "status": "completed"
    },
    "tags": []
   },
   "source": [
    "### ייבוא ספריות\n"
   ]
  },
  {
   "cell_type": "code",
   "execution_count": 2,
   "id": "58064711",
   "metadata": {
    "execution": {
     "iopub.execute_input": "2025-01-30T15:16:55.393310Z",
     "iopub.status.busy": "2025-01-30T15:16:55.392105Z",
     "iopub.status.idle": "2025-01-30T15:16:55.399078Z",
     "shell.execute_reply": "2025-01-30T15:16:55.397840Z"
    },
    "papermill": {
     "duration": 0.096296,
     "end_time": "2025-01-30T15:16:55.400786",
     "exception": false,
     "start_time": "2025-01-30T15:16:55.304490",
     "status": "completed"
    },
    "tags": []
   },
   "outputs": [],
   "source": [
    "params = {\"output_folder_path\": output_folder_path, \"new_layer_path\": new_layer_path}"
   ]
  },
  {
   "cell_type": "code",
   "execution_count": 3,
   "id": "c1ad68ce",
   "metadata": {
    "execution": {
     "iopub.execute_input": "2025-01-30T15:16:55.585363Z",
     "iopub.status.busy": "2025-01-30T15:16:55.584602Z",
     "iopub.status.idle": "2025-01-30T15:16:55.588671Z",
     "shell.execute_reply": "2025-01-30T15:16:55.587817Z"
    },
    "papermill": {
     "duration": 0.098743,
     "end_time": "2025-01-30T15:16:55.589905",
     "exception": false,
     "start_time": "2025-01-30T15:16:55.491162",
     "status": "completed"
    },
    "tags": []
   },
   "outputs": [],
   "source": [
    "import os\n",
    "import sys"
   ]
  },
  {
   "cell_type": "markdown",
   "id": "af07ae7f",
   "metadata": {
    "papermill": {
     "duration": 0.129549,
     "end_time": "2025-01-30T15:16:55.816405",
     "exception": false,
     "start_time": "2025-01-30T15:16:55.686856",
     "status": "completed"
    },
    "tags": []
   },
   "source": [
    "### הגדרת נתיבים\n"
   ]
  },
  {
   "cell_type": "code",
   "execution_count": 4,
   "id": "774e9b58",
   "metadata": {
    "execution": {
     "iopub.execute_input": "2025-01-30T15:16:56.025447Z",
     "iopub.status.busy": "2025-01-30T15:16:56.025065Z",
     "iopub.status.idle": "2025-01-30T15:16:56.030216Z",
     "shell.execute_reply": "2025-01-30T15:16:56.028913Z"
    },
    "papermill": {
     "duration": 0.103716,
     "end_time": "2025-01-30T15:16:56.031677",
     "exception": false,
     "start_time": "2025-01-30T15:16:55.927961",
     "status": "completed"
    },
    "tags": []
   },
   "outputs": [],
   "source": [
    "# cwd: מאחסן את הנתיב הנוכחי.\n",
    "cwd = os.getcwd()\n",
    "\n",
    "# arab_and_palestinian מגדיר נתיב לתיקית\n",
    "arab_and_palestinian_directory = r'{}\\arab_and_palestinian'.format(cwd)\n",
    "\n",
    "# current מגדיר נתיב לתיקית\n",
    "current_directory = r'{}\\current'.format(cwd)"
   ]
  },
  {
   "cell_type": "markdown",
   "id": "4f4c4d0b",
   "metadata": {
    "papermill": {
     "duration": 0.16739,
     "end_time": "2025-01-30T15:16:56.286837",
     "exception": false,
     "start_time": "2025-01-30T15:16:56.119447",
     "status": "completed"
    },
    "tags": []
   },
   "source": [
    "### הוספת נתיבים\n"
   ]
  },
  {
   "cell_type": "code",
   "execution_count": 5,
   "id": "a431d0d7",
   "metadata": {
    "execution": {
     "iopub.execute_input": "2025-01-30T15:16:56.522476Z",
     "iopub.status.busy": "2025-01-30T15:16:56.521850Z",
     "iopub.status.idle": "2025-01-30T15:16:56.527519Z",
     "shell.execute_reply": "2025-01-30T15:16:56.526673Z"
    },
    "papermill": {
     "duration": 0.121036,
     "end_time": "2025-01-30T15:16:56.529489",
     "exception": false,
     "start_time": "2025-01-30T15:16:56.408453",
     "status": "completed"
    },
    "tags": []
   },
   "outputs": [],
   "source": [
    "# מוסיף את הנתיבים של התיקיות השונות, כך שניתן לייבא מודולים מהתיקיות הללו.\n",
    "sys.path.append(arab_and_palestinian_directory)\n",
    "sys.path.append(current_directory)"
   ]
  },
  {
   "cell_type": "markdown",
   "id": "5df10f4c",
   "metadata": {
    "papermill": {
     "duration": 0.114981,
     "end_time": "2025-01-30T15:16:56.730260",
     "exception": false,
     "start_time": "2025-01-30T15:16:56.615279",
     "status": "completed"
    },
    "tags": []
   },
   "source": [
    "### ייבוא מודולים\n"
   ]
  },
  {
   "cell_type": "code",
   "execution_count": 6,
   "id": "6ba84256",
   "metadata": {
    "execution": {
     "iopub.execute_input": "2025-01-30T15:16:57.198913Z",
     "iopub.status.busy": "2025-01-30T15:16:57.197859Z",
     "iopub.status.idle": "2025-01-30T15:16:58.565902Z",
     "shell.execute_reply": "2025-01-30T15:16:58.565051Z"
    },
    "papermill": {
     "duration": 1.74305,
     "end_time": "2025-01-30T15:16:58.567375",
     "exception": false,
     "start_time": "2025-01-30T15:16:56.824325",
     "status": "completed"
    },
    "tags": []
   },
   "outputs": [],
   "source": [
    "# מייבא את המודולים המכילים את הפונקציות להרצת המחברות\n",
    "import run_current"
   ]
  },
  {
   "cell_type": "markdown",
   "id": "d11fd740",
   "metadata": {
    "papermill": {
     "duration": 0.092415,
     "end_time": "2025-01-30T15:16:58.750977",
     "exception": false,
     "start_time": "2025-01-30T15:16:58.658562",
     "status": "completed"
    },
    "tags": []
   },
   "source": [
    "### הרצת מחברות\n"
   ]
  },
  {
   "cell_type": "code",
   "execution_count": 7,
   "id": "11b5dc8f",
   "metadata": {
    "execution": {
     "iopub.execute_input": "2025-01-30T15:16:58.951438Z",
     "iopub.status.busy": "2025-01-30T15:16:58.951170Z",
     "iopub.status.idle": "2025-01-30T15:19:16.458235Z",
     "shell.execute_reply": "2025-01-30T15:19:16.457509Z"
    },
    "papermill": {
     "duration": 137.61329,
     "end_time": "2025-01-30T15:19:16.462394",
     "exception": false,
     "start_time": "2025-01-30T15:16:58.849104",
     "status": "completed"
    },
    "tags": []
   },
   "outputs": [
    {
     "name": "stderr",
     "output_type": "stream",
     "text": [
      "Passed unknown parameter: output_folder_path\n"
     ]
    },
    {
     "name": "stderr",
     "output_type": "stream",
     "text": [
      "Passed unknown parameter: new_layer_path\n"
     ]
    },
    {
     "name": "stderr",
     "output_type": "stream",
     "text": [
      "Input notebook does not contain a cell with tag 'parameters'\n"
     ]
    },
    {
     "name": "stderr",
     "output_type": "stream",
     "text": [
      "c:\\Users\\mark\\AppData\\Local\\Programs\\Python\\Python313\\Lib\\site-packages\\tqdm\\auto.py:21: TqdmWarning: IProgress not found. Please update jupyter and ipywidgets. See https://ipywidgets.readthedocs.io/en/stable/user_install.html\n",
      "  from .autonotebook import tqdm as notebook_tqdm\n"
     ]
    },
    {
     "name": "stderr",
     "output_type": "stream",
     "text": [
      "\r",
      "Executing:   0%|          | 0/13 [00:00<?, ?cell/s]"
     ]
    },
    {
     "name": "stderr",
     "output_type": "stream",
     "text": [
      "\r",
      "Executing:   8%|▊         | 1/13 [00:02<00:25,  2.13s/cell]"
     ]
    },
    {
     "name": "stderr",
     "output_type": "stream",
     "text": [
      "\r",
      "Executing:  15%|█▌        | 2/13 [00:02<00:11,  1.00s/cell]"
     ]
    },
    {
     "name": "stderr",
     "output_type": "stream",
     "text": [
      "\r",
      "Executing:  23%|██▎       | 3/13 [00:02<00:06,  1.57cell/s]"
     ]
    },
    {
     "name": "stderr",
     "output_type": "stream",
     "text": [
      "\r",
      "Executing:  31%|███       | 4/13 [00:02<00:04,  2.14cell/s]"
     ]
    },
    {
     "name": "stderr",
     "output_type": "stream",
     "text": [
      "\r",
      "Executing:  38%|███▊      | 5/13 [00:02<00:02,  2.69cell/s]"
     ]
    },
    {
     "name": "stderr",
     "output_type": "stream",
     "text": [
      "\r",
      "Executing:  46%|████▌     | 6/13 [00:03<00:02,  3.14cell/s]"
     ]
    },
    {
     "name": "stderr",
     "output_type": "stream",
     "text": [
      "\r",
      "Executing:  54%|█████▍    | 7/13 [00:03<00:02,  2.42cell/s]"
     ]
    },
    {
     "name": "stderr",
     "output_type": "stream",
     "text": [
      "\r",
      "Executing:  62%|██████▏   | 8/13 [00:04<00:02,  2.26cell/s]"
     ]
    },
    {
     "name": "stderr",
     "output_type": "stream",
     "text": [
      "\r",
      "Executing:  69%|██████▉   | 9/13 [00:05<00:03,  1.25cell/s]"
     ]
    },
    {
     "name": "stderr",
     "output_type": "stream",
     "text": [
      "\r",
      "Executing:  77%|███████▋  | 10/13 [00:06<00:01,  1.64cell/s]"
     ]
    },
    {
     "name": "stderr",
     "output_type": "stream",
     "text": [
      "\r",
      "Executing:  85%|████████▍ | 11/13 [01:04<00:36, 18.25s/cell]"
     ]
    },
    {
     "name": "stderr",
     "output_type": "stream",
     "text": [
      "\r",
      "Executing:  92%|█████████▏| 12/13 [01:39<00:23, 23.44s/cell]"
     ]
    },
    {
     "name": "stderr",
     "output_type": "stream",
     "text": [
      "\r",
      "Executing: 100%|██████████| 13/13 [02:15<00:00, 27.08s/cell]"
     ]
    },
    {
     "name": "stderr",
     "output_type": "stream",
     "text": [
      "\r",
      "Executing: 100%|██████████| 13/13 [02:17<00:00, 10.54s/cell]"
     ]
    },
    {
     "name": "stdout",
     "output_type": "stream",
     "text": [
      "Error executing notebook: \n",
      "---------------------------------------------------------------------------\n",
      "Exception encountered at \"In [9]\":\n",
      "---------------------------------------------------------------------------\n",
      "FileNotFoundError                         Traceback (most recent call last)\n",
      "File ~\\AppData\\Local\\Temp\\ipykernel_44276\\3278135569.py:1\n",
      "----> 1 forecast_version_folder_location=get_forecast_version_folder_location(r'{}\\background_files\\forecast_version_folder_location.txt'.format(create_forecast_basic_folder_path))\n",
      "      3 forecast_version_folder_location=r'{}\\BASE_YEAR'.format(forecast_version_folder_location)\n",
      "\n",
      "File w:\\Data\\Forecast\\Tools\\create_forecast_ad_hoc\\create_forecast_basic\\global_functions.py:253, in get_forecast_version_folder_location(file_path)\n",
      "    252 def get_forecast_version_folder_location(file_path):\n",
      "--> 253     with open(file_path, 'r') as file:\n",
      "    254         forecast_version_folder_location = file.read()\n",
      "    255     return forecast_version_folder_location\n",
      "\n",
      "FileNotFoundError: [Errno 2] No such file or directory: 'w:\\\\Data\\\\Forecast\\\\Tools\\\\create_forecast_ad_hoc\\\\create_forecast_basic\\\\background_files\\\\forecast_version_folder_location.txt'\n",
      "\n"
     ]
    },
    {
     "name": "stderr",
     "output_type": "stream",
     "text": [
      "\n"
     ]
    },
    {
     "data": {
      "text/plain": [
       "False"
      ]
     },
     "execution_count": 7,
     "metadata": {},
     "output_type": "execute_result"
    }
   ],
   "source": [
    "# מחליף את הנתיב הנוכחי לתיקייה current\n",
    "os.chdir(current_directory)\n",
    "\n",
    "# מריץ את המחברת באמצעות הפונקציה run_notebook\n",
    "run_current.run_notebook(r'{}\\current\\run_current.ipynb'.format(cwd), params)"
   ]
  }
 ],
 "metadata": {
  "kernelspec": {
   "display_name": "creat_forecast_ad_hoc_env",
   "language": "python",
   "name": "python3"
  },
  "language_info": {
   "codemirror_mode": {
    "name": "ipython",
    "version": 3
   },
   "file_extension": ".py",
   "mimetype": "text/x-python",
   "name": "python",
   "nbconvert_exporter": "python",
   "pygments_lexer": "ipython3",
   "version": "3.13.1"
  },
  "papermill": {
   "default_parameters": {},
   "duration": 143.514742,
   "end_time": "2025-01-30T15:19:16.801032",
   "environment_variables": {},
   "exception": null,
   "input_path": "w:\\Data\\Forecast\\Tools\\create_forecast_ad_hoc\\create_forecast_basic\\run_basic.ipynb",
   "output_path": "w:\\Data\\Forecast\\Tools\\create_forecast_ad_hoc\\create_forecast_basic\\run_basic_output.ipynb",
   "parameters": {
    "new_layer_path": "W:\\Projects\\תכניות מרחביות\\בדיקה מרחבית ארמון הנציב - Copy\\קבצי עבודה\\תחזיות_דמוגרפיות\\For_approval\\Reference_tabels\\shp\\TAZ_V4_241103_with_geo_info.shp",
    "output_folder_path": "W:\\Projects\\תכניות מרחביות\\בדיקה מרחבית ארמון הנציב - Copy\\קבצי עבודה\\תחזיות_דמוגרפיות\\For_approval\\Reference_tabels"
   },
   "start_time": "2025-01-30T15:16:53.286290",
   "version": "2.6.0"
  }
 },
 "nbformat": 4,
 "nbformat_minor": 5
}