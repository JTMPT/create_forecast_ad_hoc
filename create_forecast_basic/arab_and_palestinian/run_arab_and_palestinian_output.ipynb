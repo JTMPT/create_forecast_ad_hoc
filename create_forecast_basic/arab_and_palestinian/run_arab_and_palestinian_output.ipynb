{
 "cells": [
  {
   "cell_type": "code",
   "execution_count": 1,
   "id": "5f4af9c8",
   "metadata": {
    "execution": {
     "iopub.execute_input": "2024-12-17T18:06:08.830599Z",
     "iopub.status.busy": "2024-12-17T18:06:08.828599Z",
     "iopub.status.idle": "2024-12-17T18:06:08.844319Z",
     "shell.execute_reply": "2024-12-17T18:06:08.843312Z"
    },
    "papermill": {
     "duration": 0.028146,
     "end_time": "2024-12-17T18:06:08.848840",
     "exception": false,
     "start_time": "2024-12-17T18:06:08.820694",
     "status": "completed"
    },
    "tags": [
     "injected-parameters"
    ]
   },
   "outputs": [],
   "source": [
    "# Parameters\n",
    "output_folder_path = \"C:\\\\Users\\\\dpere\\\\Documents\\\\JTMT\\\\Projects\\\\\\u05ea\\u05d7\\u05d6\\u05d9\\u05d5\\u05ea_\\u05d3\\u05de\\u05d5\\u05d2\\u05e8\\u05e4\\u05d9\\u05d5\\u05ea\\\\\\u05e7\\u05d1\\u05e6\\u05d9 \\u05e2\\u05d1\\u05d5\\u05d3\\u05d4\\\\142_\\u05de\\u05ea\\u05d7\\u05dd_\\u05d0\\u05e0\\u05d2\\u05dc\\\\\\u05d1\\u05d4\\u05ea\\\\For_approval\\\\Reference_tabels\"\n",
    "new_layer_path = \"C:\\\\Users\\\\dpere\\\\Documents\\\\JTMT\\\\Projects\\\\\\u05ea\\u05d7\\u05d6\\u05d9\\u05d5\\u05ea_\\u05d3\\u05de\\u05d5\\u05d2\\u05e8\\u05e4\\u05d9\\u05d5\\u05ea\\\\\\u05e7\\u05d1\\u05e6\\u05d9 \\u05e2\\u05d1\\u05d5\\u05d3\\u05d4\\\\142_\\u05de\\u05ea\\u05d7\\u05dd_\\u05d0\\u05e0\\u05d2\\u05dc\\\\\\u05d1\\u05d4\\u05ea\\\\For_approval\\\\Reference_tabels\\\\shp\\\\TAZ_V4_240627_with_geo_info.shp\"\n"
   ]
  },
  {
   "cell_type": "markdown",
   "id": "3efea8a3",
   "metadata": {
    "papermill": {
     "duration": 0.004017,
     "end_time": "2024-12-17T18:06:08.855867",
     "exception": false,
     "start_time": "2024-12-17T18:06:08.851850",
     "status": "completed"
    },
    "tags": []
   },
   "source": [
    "### ייבוא ספריות\n"
   ]
  },
  {
   "cell_type": "code",
   "execution_count": 2,
   "id": "62a3324b",
   "metadata": {
    "execution": {
     "iopub.execute_input": "2024-12-17T18:06:08.860855Z",
     "iopub.status.busy": "2024-12-17T18:06:08.860855Z",
     "iopub.status.idle": "2024-12-17T18:06:08.865731Z",
     "shell.execute_reply": "2024-12-17T18:06:08.864721Z"
    },
    "papermill": {
     "duration": 0.010388,
     "end_time": "2024-12-17T18:06:08.868242",
     "exception": false,
     "start_time": "2024-12-17T18:06:08.857854",
     "status": "completed"
    },
    "tags": []
   },
   "outputs": [],
   "source": [
    "import os"
   ]
  },
  {
   "cell_type": "code",
   "execution_count": 3,
   "id": "f8eba2f5",
   "metadata": {
    "execution": {
     "iopub.execute_input": "2024-12-17T18:06:08.873249Z",
     "iopub.status.busy": "2024-12-17T18:06:08.872254Z",
     "iopub.status.idle": "2024-12-17T18:06:08.876275Z",
     "shell.execute_reply": "2024-12-17T18:06:08.876275Z"
    },
    "papermill": {
     "duration": 0.006997,
     "end_time": "2024-12-17T18:06:08.877282",
     "exception": false,
     "start_time": "2024-12-17T18:06:08.870285",
     "status": "completed"
    },
    "tags": []
   },
   "outputs": [],
   "source": [
    "def delete_folder_contents(folder_path):\n",
    "    # רץ על כל הקבצים והתיקיות בתיקייה.\n",
    "    for filename in os.listdir(folder_path):\n",
    "        file_path = os.path.join(folder_path, filename)\n",
    "        # בודק אם הפריט הוא קובץ או תיקייה.\n",
    "        if os.path.isfile(file_path):\n",
    "            # אם הפריט הוא קובץ, מוחק אותו באמצעות os.remove\n",
    "            os.remove(file_path)\n",
    "        elif os.path.isdir(file_path):\n",
    "            # אם הפריט הוא תיקייה, מוחק את התוכן שלה\n",
    "            delete_folder_contents(file_path)\n",
    "            # מוחק את התיקייה עצמה באמצעות os.rmdir\n",
    "            os.rmdir(file_path)"
   ]
  },
  {
   "cell_type": "markdown",
   "id": "04b291c6",
   "metadata": {
    "papermill": {
     "duration": 0.001999,
     "end_time": "2024-12-17T18:06:08.881281",
     "exception": false,
     "start_time": "2024-12-17T18:06:08.879282",
     "status": "completed"
    },
    "tags": []
   },
   "source": [
    "### הגדרת נתיב תיקייה ומחיקת תוכן\n"
   ]
  },
  {
   "cell_type": "code",
   "execution_count": 4,
   "id": "224f565a",
   "metadata": {
    "execution": {
     "iopub.execute_input": "2024-12-17T18:06:08.885586Z",
     "iopub.status.busy": "2024-12-17T18:06:08.885586Z",
     "iopub.status.idle": "2024-12-17T18:06:09.082595Z",
     "shell.execute_reply": "2024-12-17T18:06:09.080577Z"
    },
    "papermill": {
     "duration": 0.202026,
     "end_time": "2024-12-17T18:06:09.085597",
     "exception": false,
     "start_time": "2024-12-17T18:06:08.883571",
     "status": "completed"
    },
    "tags": []
   },
   "outputs": [],
   "source": [
    "# מגדיר את הנתיב לתיקייה בשם \"Intermediates\".\n",
    "folder_path = './Intermediates'\n",
    "\n",
    "# קורא לפונקציה delete_folder_contents כדי למחוק את התוכן של התיקייה\n",
    "delete_folder_contents(folder_path)"
   ]
  },
  {
   "cell_type": "markdown",
   "id": "f8a03c63",
   "metadata": {
    "papermill": {
     "duration": 0.007002,
     "end_time": "2024-12-17T18:06:09.097613",
     "exception": false,
     "start_time": "2024-12-17T18:06:09.090611",
     "status": "completed"
    },
    "tags": []
   },
   "source": [
    "### הרצת מחברות\n"
   ]
  },
  {
   "cell_type": "code",
   "execution_count": 5,
   "id": "c9866751",
   "metadata": {
    "execution": {
     "iopub.execute_input": "2024-12-17T18:06:09.109148Z",
     "iopub.status.busy": "2024-12-17T18:06:09.109148Z",
     "iopub.status.idle": "2024-12-17T18:06:16.039083Z",
     "shell.execute_reply": "2024-12-17T18:06:16.038064Z"
    },
    "papermill": {
     "duration": 6.939007,
     "end_time": "2024-12-17T18:06:16.042160",
     "exception": false,
     "start_time": "2024-12-17T18:06:09.103153",
     "status": "completed"
    },
    "tags": []
   },
   "outputs": [
    {
     "name": "stderr",
     "output_type": "stream",
     "text": [
      "C:\\Users\\dpere\\AppData\\Local\\Temp\\ipykernel_25592\\858144232.py:16: FutureWarning: The provided callable <built-in function sum> is currently using DataFrameGroupBy.sum. In a future version of pandas, the provided callable will be used directly. To keep current behavior pass the string \"sum\" instead.\n",
      "  demo=demo.pivot_table(index='Proj_Area',aggfunc=sum)[col]\n"
     ]
    },
    {
     "name": "stderr",
     "output_type": "stream",
     "text": [
      "c:\\Users\\dpere\\miniconda3\\envs\\creat_forecast_ad_hoc_env\\Lib\\site-packages\\geopandas\\geodataframe.py:2469: UserWarning: `keep_geom_type=True` in overlay resulted in 4 dropped geometries of different geometry types than df1 has. Set `keep_geom_type=False` to retain all geometries\n",
      "  return geopandas.overlay(\n",
      "C:\\Users\\dpere\\AppData\\Local\\Temp\\ipykernel_25592\\1244303127.py:1: FutureWarning: The provided callable <built-in function sum> is currently using DataFrameGroupBy.sum. In a future version of pandas, the provided callable will be used directly. To keep current behavior pass the string \"sum\" instead.\n",
      "  taz_demo_pls=drop_geo(demo_taz_bld).pivot_table(index='Taz_num',aggfunc=sum)\n"
     ]
    }
   ],
   "source": [
    "%run \"./palestinian_from_demo_230622.ipynb\" "
   ]
  },
  {
   "cell_type": "code",
   "execution_count": 6,
   "id": "2b9da2e6",
   "metadata": {
    "execution": {
     "iopub.execute_input": "2024-12-17T18:06:16.055399Z",
     "iopub.status.busy": "2024-12-17T18:06:16.055399Z",
     "iopub.status.idle": "2024-12-17T18:06:17.146487Z",
     "shell.execute_reply": "2024-12-17T18:06:17.146487Z"
    },
    "papermill": {
     "duration": 1.102738,
     "end_time": "2024-12-17T18:06:17.149913",
     "exception": false,
     "start_time": "2024-12-17T18:06:16.047175",
     "status": "completed"
    },
    "tags": []
   },
   "outputs": [
    {
     "name": "stderr",
     "output_type": "stream",
     "text": [
      "C:\\Users\\dpere\\AppData\\Local\\Temp\\ipykernel_25592\\3984579034.py:1: FutureWarning: The provided callable <built-in function sum> is currently using DataFrameGroupBy.sum. In a future version of pandas, the provided callable will be used directly. To keep current behavior pass the string \"sum\" instead.\n",
      "  taz_arab_demo=pd.pivot_table(taz_arab_demo,index='taz',aggfunc=sum)[['pop_2020',\n",
      "C:\\Users\\dpere\\AppData\\Local\\Temp\\ipykernel_25592\\1852264142.py:6: UserWarning: Column names longer than 10 characters will be truncated when saved to ESRI Shapefile.\n",
      "  pd.merge(taz16_info,locals()['taz_arab_demo_age_{}'.format(y)],how='left',on='taz').dissolve(by=col_age_new)[['geometry']].reset_index().to_file(r'{}\\Intermediates\\pre_demo_growth_dislov_{}.shp'.format(cwd,y))\n",
      "C:\\Users\\dpere\\AppData\\Local\\Temp\\ipykernel_25592\\1852264142.py:6: UserWarning: Column names longer than 10 characters will be truncated when saved to ESRI Shapefile.\n",
      "  pd.merge(taz16_info,locals()['taz_arab_demo_age_{}'.format(y)],how='left',on='taz').dissolve(by=col_age_new)[['geometry']].reset_index().to_file(r'{}\\Intermediates\\pre_demo_growth_dislov_{}.shp'.format(cwd,y))\n"
     ]
    },
    {
     "name": "stderr",
     "output_type": "stream",
     "text": [
      "C:\\Users\\dpere\\AppData\\Local\\Temp\\ipykernel_25592\\1852264142.py:6: UserWarning: Column names longer than 10 characters will be truncated when saved to ESRI Shapefile.\n",
      "  pd.merge(taz16_info,locals()['taz_arab_demo_age_{}'.format(y)],how='left',on='taz').dissolve(by=col_age_new)[['geometry']].reset_index().to_file(r'{}\\Intermediates\\pre_demo_growth_dislov_{}.shp'.format(cwd,y))\n",
      "C:\\Users\\dpere\\AppData\\Local\\Temp\\ipykernel_25592\\1852264142.py:6: UserWarning: Column names longer than 10 characters will be truncated when saved to ESRI Shapefile.\n",
      "  pd.merge(taz16_info,locals()['taz_arab_demo_age_{}'.format(y)],how='left',on='taz').dissolve(by=col_age_new)[['geometry']].reset_index().to_file(r'{}\\Intermediates\\pre_demo_growth_dislov_{}.shp'.format(cwd,y))\n",
      "C:\\Users\\dpere\\AppData\\Local\\Temp\\ipykernel_25592\\1852264142.py:6: UserWarning: Column names longer than 10 characters will be truncated when saved to ESRI Shapefile.\n",
      "  pd.merge(taz16_info,locals()['taz_arab_demo_age_{}'.format(y)],how='left',on='taz').dissolve(by=col_age_new)[['geometry']].reset_index().to_file(r'{}\\Intermediates\\pre_demo_growth_dislov_{}.shp'.format(cwd,y))\n",
      "C:\\Users\\dpere\\AppData\\Local\\Temp\\ipykernel_25592\\1852264142.py:6: UserWarning: Column names longer than 10 characters will be truncated when saved to ESRI Shapefile.\n",
      "  pd.merge(taz16_info,locals()['taz_arab_demo_age_{}'.format(y)],how='left',on='taz').dissolve(by=col_age_new)[['geometry']].reset_index().to_file(r'{}\\Intermediates\\pre_demo_growth_dislov_{}.shp'.format(cwd,y))\n"
     ]
    }
   ],
   "source": [
    "%run \"./arab_growth_till_2050_from_demo_230618.ipynb\""
   ]
  },
  {
   "cell_type": "code",
   "execution_count": 7,
   "id": "ca936dda",
   "metadata": {
    "execution": {
     "iopub.execute_input": "2024-12-17T18:06:17.164909Z",
     "iopub.status.busy": "2024-12-17T18:06:17.163903Z",
     "iopub.status.idle": "2024-12-17T18:06:20.080410Z",
     "shell.execute_reply": "2024-12-17T18:06:20.080410Z"
    },
    "papermill": {
     "duration": 2.923504,
     "end_time": "2024-12-17T18:06:20.081415",
     "exception": false,
     "start_time": "2024-12-17T18:06:17.157911",
     "status": "completed"
    },
    "tags": []
   },
   "outputs": [
    {
     "name": "stdout",
     "output_type": "stream",
     "text": [
      "------------------------------------------\n",
      "2025\n",
      "total_kibolet:  235869.44800000003\n",
      "total_demand:  47403.17443089148\n",
      "pop_not_fit_in_taz:  343.6068327890348\n",
      "pop_kibolet_left:  188809.88040189756\n",
      "pop_not_fit_in_taz<=pop_kibolet_left\n",
      "------------------------------------------\n",
      "2030\n",
      "total_kibolet:  188466.2735691085\n",
      "total_demand:  50996.84569862979\n",
      "pop_not_fit_in_taz:  2693.0681255527084\n",
      "pop_kibolet_left:  140162.49599603144\n",
      "pop_not_fit_in_taz<=pop_kibolet_left\n"
     ]
    },
    {
     "name": "stderr",
     "output_type": "stream",
     "text": [
      "C:\\Users\\dpere\\AppData\\Local\\Temp\\ipykernel_25592\\3784191077.py:38: FutureWarning: Setting an item of incompatible dtype is deprecated and will raise in a future error of pandas. Value 'pop_demand' has dtype incompatible with float64, please explicitly cast to a compatible dtype first.\n",
      "  taz.loc[taz['pop_delta']>0,'pop_{}_explanation'.format(y)]='pop_demand'\n",
      "C:\\Users\\dpere\\AppData\\Local\\Temp\\ipykernel_25592\\3784191077.py:38: FutureWarning: Setting an item of incompatible dtype is deprecated and will raise in a future error of pandas. Value 'pop_demand' has dtype incompatible with float64, please explicitly cast to a compatible dtype first.\n",
      "  taz.loc[taz['pop_delta']>0,'pop_{}_explanation'.format(y)]='pop_demand'\n"
     ]
    },
    {
     "name": "stdout",
     "output_type": "stream",
     "text": [
      "------------------------------------------\n",
      "2035\n",
      "total_kibolet:  137469.42787047874\n",
      "total_demand:  51084.47622402458\n",
      "pop_not_fit_in_taz:  13325.873380146573\n",
      "pop_kibolet_left:  99710.82502660074\n",
      "pop_not_fit_in_taz<=pop_kibolet_left\n"
     ]
    },
    {
     "name": "stderr",
     "output_type": "stream",
     "text": [
      "C:\\Users\\dpere\\AppData\\Local\\Temp\\ipykernel_25592\\3784191077.py:38: FutureWarning: Setting an item of incompatible dtype is deprecated and will raise in a future error of pandas. Value 'pop_demand' has dtype incompatible with float64, please explicitly cast to a compatible dtype first.\n",
      "  taz.loc[taz['pop_delta']>0,'pop_{}_explanation'.format(y)]='pop_demand'\n",
      "C:\\Users\\dpere\\AppData\\Local\\Temp\\ipykernel_25592\\3784191077.py:38: FutureWarning: Setting an item of incompatible dtype is deprecated and will raise in a future error of pandas. Value 'pop_demand' has dtype incompatible with float64, please explicitly cast to a compatible dtype first.\n",
      "  taz.loc[taz['pop_delta']>0,'pop_{}_explanation'.format(y)]='pop_demand'\n"
     ]
    },
    {
     "name": "stdout",
     "output_type": "stream",
     "text": [
      "------------------------------------------\n",
      "2040\n",
      "total_kibolet:  86384.95164645417\n",
      "total_demand:  49848.94958649689\n",
      "pop_not_fit_in_taz:  25012.190465657328\n",
      "pop_kibolet_left:  61548.1925256146\n",
      "pop_not_fit_in_taz<=pop_kibolet_left\n",
      "------------------------------------------\n",
      "2045\n",
      "total_kibolet:  36536.00205995727\n",
      "total_demand:  48058.58387954002\n",
      "pop_not_fit_in_taz:  34825.59739065956\n",
      "pop_kibolet_left:  23303.01557107681\n",
      "pop_not_fit_in_taz>pop_kibolet_left\n",
      "pop_not_fit_in_jeru:  11522.581819582752\n"
     ]
    },
    {
     "name": "stderr",
     "output_type": "stream",
     "text": [
      "C:\\Users\\dpere\\AppData\\Local\\Temp\\ipykernel_25592\\3784191077.py:38: FutureWarning: Setting an item of incompatible dtype is deprecated and will raise in a future error of pandas. Value 'pop_demand' has dtype incompatible with float64, please explicitly cast to a compatible dtype first.\n",
      "  taz.loc[taz['pop_delta']>0,'pop_{}_explanation'.format(y)]='pop_demand'\n",
      "C:\\Users\\dpere\\AppData\\Local\\Temp\\ipykernel_25592\\3784191077.py:38: FutureWarning: Setting an item of incompatible dtype is deprecated and will raise in a future error of pandas. Value 'pop_demand' has dtype incompatible with float64, please explicitly cast to a compatible dtype first.\n",
      "  taz.loc[taz['pop_delta']>0,'pop_{}_explanation'.format(y)]='pop_demand'\n"
     ]
    },
    {
     "name": "stdout",
     "output_type": "stream",
     "text": [
      "------------------------------------------\n",
      "2050\n",
      "total_kibolet:  0\n",
      "total_demand:  46506.1053317131\n",
      "pop_not_fit_in_taz:  46506.1053317131\n",
      "pop_kibolet_left:  0\n",
      "pop_not_fit_in_taz>pop_kibolet_left\n",
      "pop_not_fit_in_jeru:  46506.1053317131\n"
     ]
    }
   ],
   "source": [
    "%run \"./230709_arab_growth_vs_kibolt.ipynb\""
   ]
  }
 ],
 "metadata": {
  "kernelspec": {
   "display_name": "creat_forecast_ad_hoc_env",
   "language": "python",
   "name": "python3"
  },
  "language_info": {
   "codemirror_mode": {
    "name": "ipython",
    "version": 3
   },
   "file_extension": ".py",
   "mimetype": "text/x-python",
   "name": "python",
   "nbconvert_exporter": "python",
   "pygments_lexer": "ipython3",
   "version": "3.11.5"
  },
  "papermill": {
   "default_parameters": {},
   "duration": 14.393128,
   "end_time": "2024-12-17T18:06:20.658657",
   "environment_variables": {},
   "exception": null,
   "input_path": "c:\\Users\\dpere\\Documents\\JTMT\\create_forecast_ad_hoc\\create_forecast_basic\\arab_and_palestinian\\run_arab_and_palestinian.ipynb",
   "output_path": "c:\\Users\\dpere\\Documents\\JTMT\\create_forecast_ad_hoc\\create_forecast_basic\\arab_and_palestinian\\run_arab_and_palestinian_output.ipynb",
   "parameters": {
    "new_layer_path": "C:\\Users\\dpere\\Documents\\JTMT\\Projects\\תחזיות_דמוגרפיות\\קבצי עבודה\\142_מתחם_אנגל\\בהת\\For_approval\\Reference_tabels\\shp\\TAZ_V4_240627_with_geo_info.shp",
    "output_folder_path": "C:\\Users\\dpere\\Documents\\JTMT\\Projects\\תחזיות_דמוגרפיות\\קבצי עבודה\\142_מתחם_אנגל\\בהת\\For_approval\\Reference_tabels"
   },
   "start_time": "2024-12-17T18:06:06.265529",
   "version": "2.6.0"
  }
 },
 "nbformat": 4,
 "nbformat_minor": 5
}