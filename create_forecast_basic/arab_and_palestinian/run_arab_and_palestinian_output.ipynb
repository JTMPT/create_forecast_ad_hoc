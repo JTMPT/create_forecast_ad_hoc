{
 "cells": [
  {
   "cell_type": "code",
   "execution_count": 1,
   "id": "f35ca89f",
   "metadata": {
    "execution": {
     "iopub.execute_input": "2025-02-04T10:06:40.348933Z",
     "iopub.status.busy": "2025-02-04T10:06:40.348673Z",
     "iopub.status.idle": "2025-02-04T10:06:40.356207Z",
     "shell.execute_reply": "2025-02-04T10:06:40.353929Z"
    },
    "papermill": {
     "duration": 0.052066,
     "end_time": "2025-02-04T10:06:40.357990",
     "exception": false,
     "start_time": "2025-02-04T10:06:40.305924",
     "status": "completed"
    },
    "tags": [
     "injected-parameters"
    ]
   },
   "outputs": [],
   "source": [
    "# Parameters\n",
    "output_folder_path = \"W:\\\\Projects\\\\\\u05ea\\u05db\\u05e0\\u05d9\\u05d5\\u05ea \\u05de\\u05e8\\u05d7\\u05d1\\u05d9\\u05d5\\u05ea\\\\\\u05d1\\u05d3\\u05d9\\u05e7\\u05d4 \\u05de\\u05e8\\u05d7\\u05d1\\u05d9\\u05ea \\u05d0\\u05e8\\u05de\\u05d5\\u05df \\u05d4\\u05e0\\u05e6\\u05d9\\u05d1 - Copy\\\\\\u05e7\\u05d1\\u05e6\\u05d9 \\u05e2\\u05d1\\u05d5\\u05d3\\u05d4\\\\\\u05ea\\u05d7\\u05d6\\u05d9\\u05d5\\u05ea_\\u05d3\\u05de\\u05d5\\u05d2\\u05e8\\u05e4\\u05d9\\u05d5\\u05ea\\\\For_approval\\\\Reference_tabels\"\n",
    "new_layer_path = \"W:\\\\Projects\\\\\\u05ea\\u05db\\u05e0\\u05d9\\u05d5\\u05ea \\u05de\\u05e8\\u05d7\\u05d1\\u05d9\\u05d5\\u05ea\\\\\\u05d1\\u05d3\\u05d9\\u05e7\\u05d4 \\u05de\\u05e8\\u05d7\\u05d1\\u05d9\\u05ea \\u05d0\\u05e8\\u05de\\u05d5\\u05df \\u05d4\\u05e0\\u05e6\\u05d9\\u05d1 - Copy\\\\\\u05e7\\u05d1\\u05e6\\u05d9 \\u05e2\\u05d1\\u05d5\\u05d3\\u05d4\\\\\\u05ea\\u05d7\\u05d6\\u05d9\\u05d5\\u05ea_\\u05d3\\u05de\\u05d5\\u05d2\\u05e8\\u05e4\\u05d9\\u05d5\\u05ea\\\\For_approval\\\\Reference_tabels\\\\shp\\\\TAZ_V4_241103_with_geo_info.shp\"\n"
   ]
  },
  {
   "cell_type": "markdown",
   "id": "a69f8020",
   "metadata": {
    "papermill": {
     "duration": 0.035551,
     "end_time": "2025-02-04T10:06:40.431364",
     "exception": false,
     "start_time": "2025-02-04T10:06:40.395813",
     "status": "completed"
    },
    "tags": []
   },
   "source": [
    "### ייבוא ספריות\n"
   ]
  },
  {
   "cell_type": "code",
   "execution_count": 2,
   "id": "7cbbb6b3",
   "metadata": {
    "execution": {
     "iopub.execute_input": "2025-02-04T10:06:40.505739Z",
     "iopub.status.busy": "2025-02-04T10:06:40.504866Z",
     "iopub.status.idle": "2025-02-04T10:06:40.509863Z",
     "shell.execute_reply": "2025-02-04T10:06:40.508869Z"
    },
    "papermill": {
     "duration": 0.046412,
     "end_time": "2025-02-04T10:06:40.511334",
     "exception": false,
     "start_time": "2025-02-04T10:06:40.464922",
     "status": "completed"
    },
    "tags": []
   },
   "outputs": [],
   "source": [
    "import os"
   ]
  },
  {
   "cell_type": "code",
   "execution_count": 3,
   "id": "b384e149",
   "metadata": {
    "execution": {
     "iopub.execute_input": "2025-02-04T10:06:40.590433Z",
     "iopub.status.busy": "2025-02-04T10:06:40.589658Z",
     "iopub.status.idle": "2025-02-04T10:06:40.594365Z",
     "shell.execute_reply": "2025-02-04T10:06:40.593749Z"
    },
    "papermill": {
     "duration": 0.046397,
     "end_time": "2025-02-04T10:06:40.596149",
     "exception": false,
     "start_time": "2025-02-04T10:06:40.549752",
     "status": "completed"
    },
    "tags": []
   },
   "outputs": [],
   "source": [
    "def delete_folder_contents(folder_path):\n",
    "    # רץ על כל הקבצים והתיקיות בתיקייה.\n",
    "    for filename in os.listdir(folder_path):\n",
    "        file_path = os.path.join(folder_path, filename)\n",
    "        # בודק אם הפריט הוא קובץ או תיקייה.\n",
    "        if os.path.isfile(file_path):\n",
    "            # אם הפריט הוא קובץ, מוחק אותו באמצעות os.remove\n",
    "            os.remove(file_path)\n",
    "        elif os.path.isdir(file_path):\n",
    "            # אם הפריט הוא תיקייה, מוחק את התוכן שלה\n",
    "            delete_folder_contents(file_path)\n",
    "            # מוחק את התיקייה עצמה באמצעות os.rmdir\n",
    "            os.rmdir(file_path)"
   ]
  },
  {
   "cell_type": "markdown",
   "id": "aad7ca79",
   "metadata": {
    "papermill": {
     "duration": 0.041131,
     "end_time": "2025-02-04T10:06:40.675969",
     "exception": false,
     "start_time": "2025-02-04T10:06:40.634838",
     "status": "completed"
    },
    "tags": []
   },
   "source": [
    "### הגדרת נתיב תיקייה ומחיקת תוכן\n"
   ]
  },
  {
   "cell_type": "code",
   "execution_count": 4,
   "id": "22a32c1c",
   "metadata": {
    "execution": {
     "iopub.execute_input": "2025-02-04T10:06:40.754410Z",
     "iopub.status.busy": "2025-02-04T10:06:40.753526Z",
     "iopub.status.idle": "2025-02-04T10:06:42.100095Z",
     "shell.execute_reply": "2025-02-04T10:06:42.098915Z"
    },
    "papermill": {
     "duration": 1.385805,
     "end_time": "2025-02-04T10:06:42.101999",
     "exception": false,
     "start_time": "2025-02-04T10:06:40.716194",
     "status": "completed"
    },
    "tags": []
   },
   "outputs": [],
   "source": [
    "# מגדיר את הנתיב לתיקייה בשם \"Intermediates\".\n",
    "folder_path = './Intermediates'\n",
    "\n",
    "# קורא לפונקציה delete_folder_contents כדי למחוק את התוכן של התיקייה\n",
    "delete_folder_contents(folder_path)"
   ]
  },
  {
   "cell_type": "markdown",
   "id": "5f509c8a",
   "metadata": {
    "papermill": {
     "duration": 0.038399,
     "end_time": "2025-02-04T10:06:42.182075",
     "exception": false,
     "start_time": "2025-02-04T10:06:42.143676",
     "status": "completed"
    },
    "tags": []
   },
   "source": [
    "### הרצת מחברות\n"
   ]
  },
  {
   "cell_type": "code",
   "execution_count": 5,
   "id": "9deb5cab",
   "metadata": {
    "execution": {
     "iopub.execute_input": "2025-02-04T10:06:42.265698Z",
     "iopub.status.busy": "2025-02-04T10:06:42.265432Z",
     "iopub.status.idle": "2025-02-04T10:06:56.176781Z",
     "shell.execute_reply": "2025-02-04T10:06:56.175326Z"
    },
    "papermill": {
     "duration": 13.958362,
     "end_time": "2025-02-04T10:06:56.178544",
     "exception": false,
     "start_time": "2025-02-04T10:06:42.220182",
     "status": "completed"
    },
    "tags": []
   },
   "outputs": [
    {
     "name": "stderr",
     "output_type": "stream",
     "text": [
      "C:\\Users\\mark\\AppData\\Local\\Temp\\ipykernel_5208\\858144232.py:16: FutureWarning: The provided callable <built-in function sum> is currently using DataFrameGroupBy.sum. In a future version of pandas, the provided callable will be used directly. To keep current behavior pass the string \"sum\" instead.\n",
      "  demo=demo.pivot_table(index='Proj_Area',aggfunc=sum)[col]\n"
     ]
    },
    {
     "name": "stderr",
     "output_type": "stream",
     "text": [
      "c:\\Users\\mark\\AppData\\Local\\Programs\\Python\\Python313\\Lib\\site-packages\\geopandas\\geodataframe.py:2675: UserWarning: `keep_geom_type=True` in overlay resulted in 4 dropped geometries of different geometry types than df1 has. Set `keep_geom_type=False` to retain all geometries\n",
      "  return geopandas.overlay(\n",
      "C:\\Users\\mark\\AppData\\Local\\Temp\\ipykernel_5208\\1244303127.py:1: FutureWarning: The provided callable <built-in function sum> is currently using DataFrameGroupBy.sum. In a future version of pandas, the provided callable will be used directly. To keep current behavior pass the string \"sum\" instead.\n",
      "  taz_demo_pls=drop_geo(demo_taz_bld).pivot_table(index='Taz_num',aggfunc=sum)\n"
     ]
    }
   ],
   "source": [
    "%run \"./palestinian_from_demo_230622.ipynb\" "
   ]
  },
  {
   "cell_type": "code",
   "execution_count": 6,
   "id": "fa01d1ab",
   "metadata": {
    "execution": {
     "iopub.execute_input": "2025-02-04T10:06:56.264045Z",
     "iopub.status.busy": "2025-02-04T10:06:56.263621Z",
     "iopub.status.idle": "2025-02-04T10:06:58.618445Z",
     "shell.execute_reply": "2025-02-04T10:06:58.617407Z"
    },
    "papermill": {
     "duration": 2.398732,
     "end_time": "2025-02-04T10:06:58.620340",
     "exception": false,
     "start_time": "2025-02-04T10:06:56.221608",
     "status": "completed"
    },
    "tags": []
   },
   "outputs": [
    {
     "name": "stderr",
     "output_type": "stream",
     "text": [
      "C:\\Users\\mark\\AppData\\Local\\Temp\\ipykernel_5208\\3984579034.py:1: FutureWarning: The provided callable <built-in function sum> is currently using DataFrameGroupBy.sum. In a future version of pandas, the provided callable will be used directly. To keep current behavior pass the string \"sum\" instead.\n",
      "  taz_arab_demo=pd.pivot_table(taz_arab_demo,index='taz',aggfunc=sum)[['pop_2020',\n",
      "C:\\Users\\mark\\AppData\\Local\\Temp\\ipykernel_5208\\1852264142.py:6: UserWarning: Column names longer than 10 characters will be truncated when saved to ESRI Shapefile.\n",
      "  pd.merge(taz16_info,locals()['taz_arab_demo_age_{}'.format(y)],how='left',on='taz').dissolve(by=col_age_new)[['geometry']].reset_index().to_file(r'{}\\Intermediates\\pre_demo_growth_dislov_{}.shp'.format(cwd,y))\n"
     ]
    },
    {
     "name": "stderr",
     "output_type": "stream",
     "text": [
      "c:\\Users\\mark\\AppData\\Local\\Programs\\Python\\Python313\\Lib\\site-packages\\pyogrio\\raw.py:723: RuntimeWarning: Normalized/laundered field name: 'precent_add_pop_2025' to 'precent_ad'\n",
      "  ogr_write(\n",
      "C:\\Users\\mark\\AppData\\Local\\Temp\\ipykernel_5208\\1852264142.py:6: UserWarning: Column names longer than 10 characters will be truncated when saved to ESRI Shapefile.\n",
      "  pd.merge(taz16_info,locals()['taz_arab_demo_age_{}'.format(y)],how='left',on='taz').dissolve(by=col_age_new)[['geometry']].reset_index().to_file(r'{}\\Intermediates\\pre_demo_growth_dislov_{}.shp'.format(cwd,y))\n"
     ]
    },
    {
     "name": "stderr",
     "output_type": "stream",
     "text": [
      "c:\\Users\\mark\\AppData\\Local\\Programs\\Python\\Python313\\Lib\\site-packages\\pyogrio\\raw.py:723: RuntimeWarning: Normalized/laundered field name: 'precent_add_pop_2030' to 'precent_ad'\n",
      "  ogr_write(\n",
      "C:\\Users\\mark\\AppData\\Local\\Temp\\ipykernel_5208\\1852264142.py:6: UserWarning: Column names longer than 10 characters will be truncated when saved to ESRI Shapefile.\n",
      "  pd.merge(taz16_info,locals()['taz_arab_demo_age_{}'.format(y)],how='left',on='taz').dissolve(by=col_age_new)[['geometry']].reset_index().to_file(r'{}\\Intermediates\\pre_demo_growth_dislov_{}.shp'.format(cwd,y))\n"
     ]
    },
    {
     "name": "stderr",
     "output_type": "stream",
     "text": [
      "c:\\Users\\mark\\AppData\\Local\\Programs\\Python\\Python313\\Lib\\site-packages\\pyogrio\\raw.py:723: RuntimeWarning: Normalized/laundered field name: 'precent_add_pop_2035' to 'precent_ad'\n",
      "  ogr_write(\n",
      "C:\\Users\\mark\\AppData\\Local\\Temp\\ipykernel_5208\\1852264142.py:6: UserWarning: Column names longer than 10 characters will be truncated when saved to ESRI Shapefile.\n",
      "  pd.merge(taz16_info,locals()['taz_arab_demo_age_{}'.format(y)],how='left',on='taz').dissolve(by=col_age_new)[['geometry']].reset_index().to_file(r'{}\\Intermediates\\pre_demo_growth_dislov_{}.shp'.format(cwd,y))\n",
      "c:\\Users\\mark\\AppData\\Local\\Programs\\Python\\Python313\\Lib\\site-packages\\pyogrio\\raw.py:723: RuntimeWarning: Normalized/laundered field name: 'precent_add_pop_2040' to 'precent_ad'\n",
      "  ogr_write(\n"
     ]
    },
    {
     "name": "stderr",
     "output_type": "stream",
     "text": [
      "C:\\Users\\mark\\AppData\\Local\\Temp\\ipykernel_5208\\1852264142.py:6: UserWarning: Column names longer than 10 characters will be truncated when saved to ESRI Shapefile.\n",
      "  pd.merge(taz16_info,locals()['taz_arab_demo_age_{}'.format(y)],how='left',on='taz').dissolve(by=col_age_new)[['geometry']].reset_index().to_file(r'{}\\Intermediates\\pre_demo_growth_dislov_{}.shp'.format(cwd,y))\n",
      "c:\\Users\\mark\\AppData\\Local\\Programs\\Python\\Python313\\Lib\\site-packages\\pyogrio\\raw.py:723: RuntimeWarning: Normalized/laundered field name: 'precent_add_pop_2045' to 'precent_ad'\n",
      "  ogr_write(\n"
     ]
    },
    {
     "name": "stderr",
     "output_type": "stream",
     "text": [
      "C:\\Users\\mark\\AppData\\Local\\Temp\\ipykernel_5208\\1852264142.py:6: UserWarning: Column names longer than 10 characters will be truncated when saved to ESRI Shapefile.\n",
      "  pd.merge(taz16_info,locals()['taz_arab_demo_age_{}'.format(y)],how='left',on='taz').dissolve(by=col_age_new)[['geometry']].reset_index().to_file(r'{}\\Intermediates\\pre_demo_growth_dislov_{}.shp'.format(cwd,y))\n",
      "c:\\Users\\mark\\AppData\\Local\\Programs\\Python\\Python313\\Lib\\site-packages\\pyogrio\\raw.py:723: RuntimeWarning: Normalized/laundered field name: 'precent_add_pop_2050' to 'precent_ad'\n",
      "  ogr_write(\n"
     ]
    }
   ],
   "source": [
    "%run \"./arab_growth_till_2050_from_demo_230618.ipynb\""
   ]
  },
  {
   "cell_type": "code",
   "execution_count": 7,
   "id": "294d2351",
   "metadata": {
    "execution": {
     "iopub.execute_input": "2025-02-04T10:06:58.696679Z",
     "iopub.status.busy": "2025-02-04T10:06:58.696280Z",
     "iopub.status.idle": "2025-02-04T10:07:02.040144Z",
     "shell.execute_reply": "2025-02-04T10:07:02.039187Z"
    },
    "papermill": {
     "duration": 3.383366,
     "end_time": "2025-02-04T10:07:02.042327",
     "exception": false,
     "start_time": "2025-02-04T10:06:58.658961",
     "status": "completed"
    },
    "tags": []
   },
   "outputs": [
    {
     "name": "stdout",
     "output_type": "stream",
     "text": [
      "------------------------------------------\n",
      "2025\n",
      "total_kibolet:  235869.44800000003\n",
      "total_demand:  47403.019640463695\n",
      "pop_not_fit_in_taz:  343.6068327890348\n",
      "pop_kibolet_left:  188810.03519232533\n",
      "pop_not_fit_in_taz<=pop_kibolet_left\n"
     ]
    },
    {
     "name": "stdout",
     "output_type": "stream",
     "text": [
      "------------------------------------------\n",
      "2030\n",
      "total_kibolet:  188466.4283595363\n",
      "total_demand:  50996.67956277139\n",
      "pop_not_fit_in_taz:  2692.464699015499\n",
      "pop_kibolet_left:  140162.21349578045\n",
      "pop_not_fit_in_taz<=pop_kibolet_left\n"
     ]
    },
    {
     "name": "stdout",
     "output_type": "stream",
     "text": [
      "------------------------------------------\n",
      "2035\n",
      "total_kibolet:  137469.74879676494\n",
      "total_demand:  51084.32396381108\n",
      "pop_not_fit_in_taz:  13325.627766576057\n",
      "pop_kibolet_left:  99711.05259952991\n",
      "pop_not_fit_in_taz<=pop_kibolet_left\n"
     ]
    },
    {
     "name": "stdout",
     "output_type": "stream",
     "text": [
      "------------------------------------------\n",
      "2040\n",
      "total_kibolet:  86385.42483295384\n",
      "total_demand:  49848.79894354526\n",
      "pop_not_fit_in_taz:  25012.44120736223\n",
      "pop_kibolet_left:  61549.06709677083\n",
      "pop_not_fit_in_taz<=pop_kibolet_left\n"
     ]
    },
    {
     "name": "stdout",
     "output_type": "stream",
     "text": [
      "------------------------------------------\n",
      "2045\n",
      "total_kibolet:  36536.62588940859\n",
      "total_demand:  48058.44139476365\n",
      "pop_not_fit_in_taz:  34841.34515628156\n",
      "pop_kibolet_left:  23319.529650926503\n",
      "pop_not_fit_in_taz>pop_kibolet_left\n",
      "pop_not_fit_in_jeru:  11521.815505355058\n"
     ]
    },
    {
     "name": "stdout",
     "output_type": "stream",
     "text": [
      "------------------------------------------\n",
      "2050\n",
      "total_kibolet:  0\n",
      "total_demand:  46506.02277681827\n",
      "pop_not_fit_in_taz:  46506.02277681828\n",
      "pop_kibolet_left:  0\n",
      "pop_not_fit_in_taz>pop_kibolet_left\n",
      "pop_not_fit_in_jeru:  46506.02277681828\n"
     ]
    }
   ],
   "source": [
    "%run \"./230709_arab_growth_vs_kibolt.ipynb\""
   ]
  }
 ],
 "metadata": {
  "kernelspec": {
   "display_name": "creat_forecast_ad_hoc_env",
   "language": "python",
   "name": "python3"
  },
  "language_info": {
   "codemirror_mode": {
    "name": "ipython",
    "version": 3
   },
   "file_extension": ".py",
   "mimetype": "text/x-python",
   "name": "python",
   "nbconvert_exporter": "python",
   "pygments_lexer": "ipython3",
   "version": "3.13.1"
  },
  "papermill": {
   "default_parameters": {},
   "duration": 24.663378,
   "end_time": "2025-02-04T10:07:02.538724",
   "environment_variables": {},
   "exception": null,
   "input_path": "w:\\Data\\Forecast\\Tools\\create_forecast_ad_hoc\\create_forecast_basic\\arab_and_palestinian\\run_arab_and_palestinian.ipynb",
   "output_path": "w:\\Data\\Forecast\\Tools\\create_forecast_ad_hoc\\create_forecast_basic\\arab_and_palestinian\\run_arab_and_palestinian_output.ipynb",
   "parameters": {
    "new_layer_path": "W:\\Projects\\תכניות מרחביות\\בדיקה מרחבית ארמון הנציב - Copy\\קבצי עבודה\\תחזיות_דמוגרפיות\\For_approval\\Reference_tabels\\shp\\TAZ_V4_241103_with_geo_info.shp",
    "output_folder_path": "W:\\Projects\\תכניות מרחביות\\בדיקה מרחבית ארמון הנציב - Copy\\קבצי עבודה\\תחזיות_דמוגרפיות\\For_approval\\Reference_tabels"
   },
   "start_time": "2025-02-04T10:06:37.875346",
   "version": "2.6.0"
  }
 },
 "nbformat": 4,
 "nbformat_minor": 5
}