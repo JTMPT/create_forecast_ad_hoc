{
 "cells": [
  {
   "cell_type": "markdown",
   "id": "50107ac4",
   "metadata": {
    "tags": [
     "papermill-error-cell-tag"
    ]
   },
   "source": [
    "<span style=\"color:red; font-family:Helvetica Neue, Helvetica, Arial, sans-serif; font-size:2em;\">An Exception was encountered at '<a href=\"#papermill-error-cell\">In [9]</a>'.</span>\n"
   ]
  },
  {
   "cell_type": "code",
   "execution_count": 1,
   "id": "eed5802b",
   "metadata": {
    "execution": {
     "iopub.execute_input": "2024-12-17T18:06:04.524293Z",
     "iopub.status.busy": "2024-12-17T18:06:04.523338Z",
     "iopub.status.idle": "2024-12-17T18:06:04.538734Z",
     "shell.execute_reply": "2024-12-17T18:06:04.536709Z"
    },
    "papermill": {
     "duration": 0.024379,
     "end_time": "2024-12-17T18:06:04.540726",
     "exception": false,
     "start_time": "2024-12-17T18:06:04.516347",
     "status": "completed"
    },
    "tags": [
     "injected-parameters"
    ]
   },
   "outputs": [],
   "source": [
    "# Parameters\n",
    "output_folder_path = \"C:\\\\Users\\\\dpere\\\\Documents\\\\JTMT\\\\Projects\\\\\\u05ea\\u05d7\\u05d6\\u05d9\\u05d5\\u05ea_\\u05d3\\u05de\\u05d5\\u05d2\\u05e8\\u05e4\\u05d9\\u05d5\\u05ea\\\\\\u05e7\\u05d1\\u05e6\\u05d9 \\u05e2\\u05d1\\u05d5\\u05d3\\u05d4\\\\142_\\u05de\\u05ea\\u05d7\\u05dd_\\u05d0\\u05e0\\u05d2\\u05dc\\\\\\u05d1\\u05d4\\u05ea\\\\For_approval\\\\Reference_tabels\"\n",
    "new_layer_path = \"C:\\\\Users\\\\dpere\\\\Documents\\\\JTMT\\\\Projects\\\\\\u05ea\\u05d7\\u05d6\\u05d9\\u05d5\\u05ea_\\u05d3\\u05de\\u05d5\\u05d2\\u05e8\\u05e4\\u05d9\\u05d5\\u05ea\\\\\\u05e7\\u05d1\\u05e6\\u05d9 \\u05e2\\u05d1\\u05d5\\u05d3\\u05d4\\\\142_\\u05de\\u05ea\\u05d7\\u05dd_\\u05d0\\u05e0\\u05d2\\u05dc\\\\\\u05d1\\u05d4\\u05ea\\\\For_approval\\\\Reference_tabels\\\\shp\\\\TAZ_V4_240627_with_geo_info.shp\"\n"
   ]
  },
  {
   "cell_type": "markdown",
   "id": "632e0eb7",
   "metadata": {
    "papermill": {
     "duration": 0.00699,
     "end_time": "2024-12-17T18:06:04.556728",
     "exception": false,
     "start_time": "2024-12-17T18:06:04.549738",
     "status": "completed"
    },
    "tags": []
   },
   "source": [
    "### ייבוא ספריות\n"
   ]
  },
  {
   "cell_type": "code",
   "execution_count": 2,
   "id": "9bc8969e",
   "metadata": {
    "execution": {
     "iopub.execute_input": "2024-12-17T18:06:04.571729Z",
     "iopub.status.busy": "2024-12-17T18:06:04.570730Z",
     "iopub.status.idle": "2024-12-17T18:06:04.578332Z",
     "shell.execute_reply": "2024-12-17T18:06:04.577315Z"
    },
    "papermill": {
     "duration": 0.020742,
     "end_time": "2024-12-17T18:06:04.582471",
     "exception": false,
     "start_time": "2024-12-17T18:06:04.561729",
     "status": "completed"
    },
    "tags": []
   },
   "outputs": [],
   "source": [
    "params = {\"output_folder_path\": output_folder_path, \"new_layer_path\": new_layer_path}"
   ]
  },
  {
   "cell_type": "code",
   "execution_count": 3,
   "id": "b6a5f0e6",
   "metadata": {
    "execution": {
     "iopub.execute_input": "2024-12-17T18:06:04.595865Z",
     "iopub.status.busy": "2024-12-17T18:06:04.594453Z",
     "iopub.status.idle": "2024-12-17T18:06:04.602636Z",
     "shell.execute_reply": "2024-12-17T18:06:04.601606Z"
    },
    "papermill": {
     "duration": 0.019439,
     "end_time": "2024-12-17T18:06:04.606789",
     "exception": false,
     "start_time": "2024-12-17T18:06:04.587350",
     "status": "completed"
    },
    "tags": []
   },
   "outputs": [],
   "source": [
    "import os\n",
    "import sys"
   ]
  },
  {
   "cell_type": "code",
   "execution_count": 4,
   "id": "5ef0838d",
   "metadata": {
    "execution": {
     "iopub.execute_input": "2024-12-17T18:06:04.637464Z",
     "iopub.status.busy": "2024-12-17T18:06:04.635454Z",
     "iopub.status.idle": "2024-12-17T18:06:04.651396Z",
     "shell.execute_reply": "2024-12-17T18:06:04.649319Z"
    },
    "papermill": {
     "duration": 0.041966,
     "end_time": "2024-12-17T18:06:04.654707",
     "exception": false,
     "start_time": "2024-12-17T18:06:04.612741",
     "status": "completed"
    },
    "tags": []
   },
   "outputs": [],
   "source": [
    "def delete_folder_contents(folder_path):\n",
    "    # רץ על כל הקבצים והתיקיות בתיקייה.\n",
    "    for filename in os.listdir(folder_path):\n",
    "        file_path = os.path.join(folder_path, filename)\n",
    "        # בודק אם הפריט הוא קובץ או תיקייה.\n",
    "        if os.path.isfile(file_path):\n",
    "            # אם הפריט הוא קובץ, מוחק אותו באמצעות os.remove\n",
    "            os.remove(file_path)\n",
    "        elif os.path.isdir(file_path):\n",
    "            # אם הפריט הוא תיקייה, מוחק את התוכן שלה\n",
    "            delete_folder_contents(file_path)\n",
    "            # מוחק את התיקייה עצמה באמצעות os.rmdir\n",
    "            os.rmdir(file_path)"
   ]
  },
  {
   "cell_type": "markdown",
   "id": "3be428f4",
   "metadata": {
    "papermill": {
     "duration": 0.004996,
     "end_time": "2024-12-17T18:06:04.689030",
     "exception": false,
     "start_time": "2024-12-17T18:06:04.684034",
     "status": "completed"
    },
    "tags": []
   },
   "source": [
    "### הגדרת נתיב תיקייה ומחיקת תוכן\n"
   ]
  },
  {
   "cell_type": "code",
   "execution_count": 5,
   "id": "8be53bed",
   "metadata": {
    "execution": {
     "iopub.execute_input": "2024-12-17T18:06:04.699524Z",
     "iopub.status.busy": "2024-12-17T18:06:04.698524Z",
     "iopub.status.idle": "2024-12-17T18:06:04.703806Z",
     "shell.execute_reply": "2024-12-17T18:06:04.702791Z"
    },
    "papermill": {
     "duration": 0.0128,
     "end_time": "2024-12-17T18:06:04.705807",
     "exception": false,
     "start_time": "2024-12-17T18:06:04.693007",
     "status": "completed"
    },
    "tags": []
   },
   "outputs": [],
   "source": [
    "# # מגדיר את הנתיב לתיקייה בשם \"Intermediates\".\n",
    "# folder_path = './Intermediates'\n",
    "\n",
    "# # קורא לפונקציה delete_folder_contents כדי למחוק את התוכן של התיקייה\n",
    "# delete_folder_contents(folder_path)"
   ]
  },
  {
   "cell_type": "markdown",
   "id": "4564f3c5",
   "metadata": {
    "papermill": {
     "duration": 0.005003,
     "end_time": "2024-12-17T18:06:04.714814",
     "exception": false,
     "start_time": "2024-12-17T18:06:04.709811",
     "status": "completed"
    },
    "tags": []
   },
   "source": [
    "### הגדרת נתיבים וייבוא מודולים\n"
   ]
  },
  {
   "cell_type": "code",
   "execution_count": 6,
   "id": "815f0469",
   "metadata": {
    "execution": {
     "iopub.execute_input": "2024-12-17T18:06:04.721904Z",
     "iopub.status.busy": "2024-12-17T18:06:04.721904Z",
     "iopub.status.idle": "2024-12-17T18:06:05.748310Z",
     "shell.execute_reply": "2024-12-17T18:06:05.745559Z"
    },
    "papermill": {
     "duration": 1.036284,
     "end_time": "2024-12-17T18:06:05.754177",
     "exception": false,
     "start_time": "2024-12-17T18:06:04.717893",
     "status": "completed"
    },
    "tags": []
   },
   "outputs": [],
   "source": [
    "# cwd: מאחסן את הנתיב הנוכחי.\n",
    "cwd = os.getcwd()\n",
    "\n",
    "# create_forecast_basic מגדיר נתיב לתיקית\n",
    "create_forecast_basic_folder_path = os.path.dirname(cwd)\n",
    "\n",
    "# arab_and_palestinian מגדיר נתיב לתיקית\n",
    "arab_and_palestinian_directory = r'{}\\arab_and_palestinian'.format(create_forecast_basic_folder_path)\n",
    "\n",
    "# מוסיף את הנתיב של התיקייה \"arab_and_palestinian\", כך שניתן לייבא מודולים מהתיקייה הזו.\n",
    "sys.path.append(arab_and_palestinian_directory)\n",
    "\n",
    "# מייבא את המודול run_arab_and_palestinian הנמצא בתיקייה \"arab_and_palestinian\".\n",
    "import run_arab_and_palestinian"
   ]
  },
  {
   "cell_type": "markdown",
   "id": "ac34bde6",
   "metadata": {
    "papermill": {
     "duration": 0.011025,
     "end_time": "2024-12-17T18:06:05.782475",
     "exception": false,
     "start_time": "2024-12-17T18:06:05.771450",
     "status": "completed"
    },
    "tags": []
   },
   "source": [
    "### הרצת מחברות\n"
   ]
  },
  {
   "cell_type": "code",
   "execution_count": 7,
   "id": "58d83cc3",
   "metadata": {
    "execution": {
     "iopub.execute_input": "2024-12-17T18:06:05.861741Z",
     "iopub.status.busy": "2024-12-17T18:06:05.858673Z",
     "iopub.status.idle": "2024-12-17T18:06:05.875041Z",
     "shell.execute_reply": "2024-12-17T18:06:05.871065Z"
    },
    "papermill": {
     "duration": 0.092741,
     "end_time": "2024-12-17T18:06:05.883207",
     "exception": false,
     "start_time": "2024-12-17T18:06:05.790466",
     "status": "completed"
    },
    "tags": []
   },
   "outputs": [],
   "source": [
    "# %run \"./fix_cbs_data_230717.ipynb\"\n",
    "# %run \"./from_sa_cbs_to_ta_jtmt.ipynb\"\n",
    "# %run \"./create_gov_student_num_by_muni.ipynb\"\n",
    "# %run \"./prepare_students.ipynb\""
   ]
  },
  {
   "cell_type": "code",
   "execution_count": null,
   "id": "0775c733",
   "metadata": {
    "execution": {
     "iopub.execute_input": "2024-12-17T18:06:05.927196Z",
     "iopub.status.busy": "2024-12-17T18:06:05.924198Z",
     "iopub.status.idle": "2024-12-17T18:06:20.697920Z",
     "shell.execute_reply": "2024-12-17T18:06:20.694880Z"
    },
    "papermill": {
     "duration": 14.802312,
     "end_time": "2024-12-17T18:06:20.703921",
     "exception": false,
     "start_time": "2024-12-17T18:06:05.901609",
     "status": "completed"
    },
    "tags": []
   },
   "outputs": [],
   "source": [
    "# os.chdir(arab_and_palestinian_directory): משנה את הספרייה הנוכחית לספרייה שבה נמצאת המחברת הראשונה.\n",
    "os.chdir(arab_and_palestinian_directory)\n",
    "\n",
    "# קורא לפונקציה run_notebook שבמודול run_arab_and_palestinian כדי להריץ את המחברת run_arab_and_palestinian.ipynb.\n",
    "run_arab_and_palestinian.run_notebook(r'{}\\run_arab_and_palestinian.ipynb'.format(arab_and_palestinian_directory), params)"
   ]
  },
  {
   "cell_type": "markdown",
   "id": "1d62cae7",
   "metadata": {
    "tags": [
     "papermill-error-cell-tag"
    ]
   },
   "source": [
    "<span id=\"papermill-error-cell\" style=\"color:red; font-family:Helvetica Neue, Helvetica, Arial, sans-serif; font-size:2em;\">Execution using papermill encountered an exception here and stopped:</span>\n"
   ]
  },
  {
   "cell_type": "code",
   "execution_count": null,
   "id": "6c0b7bab",
   "metadata": {
    "execution": {
     "iopub.execute_input": "2024-12-17T18:06:20.734041Z",
     "iopub.status.busy": "2024-12-17T18:06:20.732502Z",
     "iopub.status.idle": "2024-12-17T18:06:30.643726Z",
     "shell.execute_reply": "2024-12-17T18:06:30.642717Z"
    },
    "papermill": {
     "duration": 9.930279,
     "end_time": "2024-12-17T18:06:30.645725",
     "exception": true,
     "start_time": "2024-12-17T18:06:20.715446",
     "status": "failed"
    },
    "tags": []
   },
   "outputs": [],
   "source": [
    "# os.chdir(cwd): מחזיר את הספרייה הנוכחית לספרייה המקורית.\n",
    "os.chdir(cwd)\n",
    "\n",
    "# הרצת מחברות\n",
    "%run \"./emp_current_year.ipynb\"\n",
    "%run \"./add_geo_info_and_export.ipynb\"\n",
    "%run \"./Determining_type_of_age_distribution_230719.ipynb\""
   ]
  }
 ],
 "metadata": {
  "kernelspec": {
   "display_name": "creat_forecast_ad_hoc_env",
   "language": "python",
   "name": "python3"
  },
  "language_info": {
   "codemirror_mode": {
    "name": "ipython",
    "version": 3
   },
   "file_extension": ".py",
   "mimetype": "text/x-python",
   "name": "python",
   "nbconvert_exporter": "python",
   "pygments_lexer": "ipython3",
   "version": "3.11.5"
  },
  "papermill": {
   "default_parameters": {},
   "duration": 29.249014,
   "end_time": "2024-12-17T18:06:31.337509",
   "environment_variables": {},
   "exception": true,
   "input_path": "c:\\Users\\dpere\\Documents\\JTMT\\create_forecast_ad_hoc\\create_forecast_basic\\current\\run_current.ipynb",
   "output_path": "c:\\Users\\dpere\\Documents\\JTMT\\create_forecast_ad_hoc\\create_forecast_basic\\current\\run_current_output.ipynb",
   "parameters": {
    "new_layer_path": "C:\\Users\\dpere\\Documents\\JTMT\\Projects\\תחזיות_דמוגרפיות\\קבצי עבודה\\142_מתחם_אנגל\\בהת\\For_approval\\Reference_tabels\\shp\\TAZ_V4_240627_with_geo_info.shp",
    "output_folder_path": "C:\\Users\\dpere\\Documents\\JTMT\\Projects\\תחזיות_דמוגרפיות\\קבצי עבודה\\142_מתחם_אנגל\\בהת\\For_approval\\Reference_tabels"
   },
   "start_time": "2024-12-17T18:06:02.088495",
   "version": "2.6.0"
  },
  "widgets": {
   "application/vnd.jupyter.widget-state+json": {
    "state": {
     "04fa515dd31243b7be6babfe60733a15": {
      "model_module": "@jupyter-widgets/base",
      "model_module_version": "1.2.0",
      "model_name": "LayoutModel",
      "state": {
       "_model_module": "@jupyter-widgets/base",
       "_model_module_version": "1.2.0",
       "_model_name": "LayoutModel",
       "_view_count": null,
       "_view_module": "@jupyter-widgets/base",
       "_view_module_version": "1.2.0",
       "_view_name": "LayoutView",
       "align_content": null,
       "align_items": null,
       "align_self": null,
       "border": null,
       "bottom": null,
       "display": null,
       "flex": null,
       "flex_flow": null,
       "grid_area": null,
       "grid_auto_columns": null,
       "grid_auto_flow": null,
       "grid_auto_rows": null,
       "grid_column": null,
       "grid_gap": null,
       "grid_row": null,
       "grid_template_areas": null,
       "grid_template_columns": null,
       "grid_template_rows": null,
       "height": null,
       "justify_content": null,
       "justify_items": null,
       "left": null,
       "margin": null,
       "max_height": null,
       "max_width": null,
       "min_height": null,
       "min_width": null,
       "object_fit": null,
       "object_position": null,
       "order": null,
       "overflow": null,
       "overflow_x": null,
       "overflow_y": null,
       "padding": null,
       "right": null,
       "top": null,
       "visibility": null,
       "width": null
      }
     },
     "2a1f688e76994bcb925ee3561341a21f": {
      "model_module": "@jupyter-widgets/controls",
      "model_module_version": "1.5.0",
      "model_name": "DescriptionStyleModel",
      "state": {
       "_model_module": "@jupyter-widgets/controls",
       "_model_module_version": "1.5.0",
       "_model_name": "DescriptionStyleModel",
       "_view_count": null,
       "_view_module": "@jupyter-widgets/base",
       "_view_module_version": "1.2.0",
       "_view_name": "StyleView",
       "description_width": ""
      }
     },
     "4511a3e61aff4d109cdeee66da643bcf": {
      "model_module": "@jupyter-widgets/controls",
      "model_module_version": "1.5.0",
      "model_name": "HTMLModel",
      "state": {
       "_dom_classes": [],
       "_model_module": "@jupyter-widgets/controls",
       "_model_module_version": "1.5.0",
       "_model_name": "HTMLModel",
       "_view_count": null,
       "_view_module": "@jupyter-widgets/controls",
       "_view_module_version": "1.5.0",
       "_view_name": "HTMLView",
       "description": "",
       "description_tooltip": null,
       "layout": "IPY_MODEL_04fa515dd31243b7be6babfe60733a15",
       "placeholder": "​",
       "style": "IPY_MODEL_2a1f688e76994bcb925ee3561341a21f",
       "value": "Executing: 100%"
      }
     },
     "56e181d396af41e3945c3dfabefe811c": {
      "model_module": "@jupyter-widgets/controls",
      "model_module_version": "1.5.0",
      "model_name": "HTMLModel",
      "state": {
       "_dom_classes": [],
       "_model_module": "@jupyter-widgets/controls",
       "_model_module_version": "1.5.0",
       "_model_name": "HTMLModel",
       "_view_count": null,
       "_view_module": "@jupyter-widgets/controls",
       "_view_module_version": "1.5.0",
       "_view_name": "HTMLView",
       "description": "",
       "description_tooltip": null,
       "layout": "IPY_MODEL_8898bf0bd51349daa194853c8e93fb62",
       "placeholder": "​",
       "style": "IPY_MODEL_f5012a4585f1480997937f98309fccc2",
       "value": " 10/10 [00:14&lt;00:00,  1.69s/cell]"
      }
     },
     "8898bf0bd51349daa194853c8e93fb62": {
      "model_module": "@jupyter-widgets/base",
      "model_module_version": "1.2.0",
      "model_name": "LayoutModel",
      "state": {
       "_model_module": "@jupyter-widgets/base",
       "_model_module_version": "1.2.0",
       "_model_name": "LayoutModel",
       "_view_count": null,
       "_view_module": "@jupyter-widgets/base",
       "_view_module_version": "1.2.0",
       "_view_name": "LayoutView",
       "align_content": null,
       "align_items": null,
       "align_self": null,
       "border": null,
       "bottom": null,
       "display": null,
       "flex": null,
       "flex_flow": null,
       "grid_area": null,
       "grid_auto_columns": null,
       "grid_auto_flow": null,
       "grid_auto_rows": null,
       "grid_column": null,
       "grid_gap": null,
       "grid_row": null,
       "grid_template_areas": null,
       "grid_template_columns": null,
       "grid_template_rows": null,
       "height": null,
       "justify_content": null,
       "justify_items": null,
       "left": null,
       "margin": null,
       "max_height": null,
       "max_width": null,
       "min_height": null,
       "min_width": null,
       "object_fit": null,
       "object_position": null,
       "order": null,
       "overflow": null,
       "overflow_x": null,
       "overflow_y": null,
       "padding": null,
       "right": null,
       "top": null,
       "visibility": null,
       "width": null
      }
     },
     "a2224c0f407643e3842a718d28f13429": {
      "model_module": "@jupyter-widgets/controls",
      "model_module_version": "1.5.0",
      "model_name": "HBoxModel",
      "state": {
       "_dom_classes": [],
       "_model_module": "@jupyter-widgets/controls",
       "_model_module_version": "1.5.0",
       "_model_name": "HBoxModel",
       "_view_count": null,
       "_view_module": "@jupyter-widgets/controls",
       "_view_module_version": "1.5.0",
       "_view_name": "HBoxView",
       "box_style": "",
       "children": [
        "IPY_MODEL_4511a3e61aff4d109cdeee66da643bcf",
        "IPY_MODEL_db8133fb711b4c638ae9d6cc393caaab",
        "IPY_MODEL_56e181d396af41e3945c3dfabefe811c"
       ],
       "layout": "IPY_MODEL_d2a75a6a35ba476984c9e9d40091511d"
      }
     },
     "d2a75a6a35ba476984c9e9d40091511d": {
      "model_module": "@jupyter-widgets/base",
      "model_module_version": "1.2.0",
      "model_name": "LayoutModel",
      "state": {
       "_model_module": "@jupyter-widgets/base",
       "_model_module_version": "1.2.0",
       "_model_name": "LayoutModel",
       "_view_count": null,
       "_view_module": "@jupyter-widgets/base",
       "_view_module_version": "1.2.0",
       "_view_name": "LayoutView",
       "align_content": null,
       "align_items": null,
       "align_self": null,
       "border": null,
       "bottom": null,
       "display": null,
       "flex": null,
       "flex_flow": null,
       "grid_area": null,
       "grid_auto_columns": null,
       "grid_auto_flow": null,
       "grid_auto_rows": null,
       "grid_column": null,
       "grid_gap": null,
       "grid_row": null,
       "grid_template_areas": null,
       "grid_template_columns": null,
       "grid_template_rows": null,
       "height": null,
       "justify_content": null,
       "justify_items": null,
       "left": null,
       "margin": null,
       "max_height": null,
       "max_width": null,
       "min_height": null,
       "min_width": null,
       "object_fit": null,
       "object_position": null,
       "order": null,
       "overflow": null,
       "overflow_x": null,
       "overflow_y": null,
       "padding": null,
       "right": null,
       "top": null,
       "visibility": null,
       "width": null
      }
     },
     "db8133fb711b4c638ae9d6cc393caaab": {
      "model_module": "@jupyter-widgets/controls",
      "model_module_version": "1.5.0",
      "model_name": "FloatProgressModel",
      "state": {
       "_dom_classes": [],
       "_model_module": "@jupyter-widgets/controls",
       "_model_module_version": "1.5.0",
       "_model_name": "FloatProgressModel",
       "_view_count": null,
       "_view_module": "@jupyter-widgets/controls",
       "_view_module_version": "1.5.0",
       "_view_name": "ProgressView",
       "bar_style": "success",
       "description": "",
       "description_tooltip": null,
       "layout": "IPY_MODEL_e6c0c3a017ac46adb1117b91f512b479",
       "max": 10,
       "min": 0,
       "orientation": "horizontal",
       "style": "IPY_MODEL_f36e188d84244e88ae23e701aa57c8b4",
       "value": 10
      }
     },
     "e6c0c3a017ac46adb1117b91f512b479": {
      "model_module": "@jupyter-widgets/base",
      "model_module_version": "1.2.0",
      "model_name": "LayoutModel",
      "state": {
       "_model_module": "@jupyter-widgets/base",
       "_model_module_version": "1.2.0",
       "_model_name": "LayoutModel",
       "_view_count": null,
       "_view_module": "@jupyter-widgets/base",
       "_view_module_version": "1.2.0",
       "_view_name": "LayoutView",
       "align_content": null,
       "align_items": null,
       "align_self": null,
       "border": null,
       "bottom": null,
       "display": null,
       "flex": null,
       "flex_flow": null,
       "grid_area": null,
       "grid_auto_columns": null,
       "grid_auto_flow": null,
       "grid_auto_rows": null,
       "grid_column": null,
       "grid_gap": null,
       "grid_row": null,
       "grid_template_areas": null,
       "grid_template_columns": null,
       "grid_template_rows": null,
       "height": null,
       "justify_content": null,
       "justify_items": null,
       "left": null,
       "margin": null,
       "max_height": null,
       "max_width": null,
       "min_height": null,
       "min_width": null,
       "object_fit": null,
       "object_position": null,
       "order": null,
       "overflow": null,
       "overflow_x": null,
       "overflow_y": null,
       "padding": null,
       "right": null,
       "top": null,
       "visibility": null,
       "width": null
      }
     },
     "f36e188d84244e88ae23e701aa57c8b4": {
      "model_module": "@jupyter-widgets/controls",
      "model_module_version": "1.5.0",
      "model_name": "ProgressStyleModel",
      "state": {
       "_model_module": "@jupyter-widgets/controls",
       "_model_module_version": "1.5.0",
       "_model_name": "ProgressStyleModel",
       "_view_count": null,
       "_view_module": "@jupyter-widgets/base",
       "_view_module_version": "1.2.0",
       "_view_name": "StyleView",
       "bar_color": null,
       "description_width": ""
      }
     },
     "f5012a4585f1480997937f98309fccc2": {
      "model_module": "@jupyter-widgets/controls",
      "model_module_version": "1.5.0",
      "model_name": "DescriptionStyleModel",
      "state": {
       "_model_module": "@jupyter-widgets/controls",
       "_model_module_version": "1.5.0",
       "_model_name": "DescriptionStyleModel",
       "_view_count": null,
       "_view_module": "@jupyter-widgets/base",
       "_view_module_version": "1.2.0",
       "_view_name": "StyleView",
       "description_width": ""
      }
     }
    },
    "version_major": 2,
    "version_minor": 0
   }
  }
 },
 "nbformat": 4,
 "nbformat_minor": 5
}
