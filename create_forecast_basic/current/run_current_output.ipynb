{
 "cells": [
  {
   "cell_type": "markdown",
   "id": "5416cc58",
   "metadata": {
    "tags": [
     "papermill-error-cell-tag"
    ]
   },
   "source": [
    "<span style=\"color:red; font-family:Helvetica Neue, Helvetica, Arial, sans-serif; font-size:2em;\">An Exception was encountered at '<a href=\"#papermill-error-cell\">In [9]</a>'.</span>"
   ]
  },
  {
   "cell_type": "code",
   "execution_count": 1,
   "id": "4f47a805",
   "metadata": {
    "execution": {
     "iopub.execute_input": "2025-01-30T15:17:01.243886Z",
     "iopub.status.busy": "2025-01-30T15:17:01.243338Z",
     "iopub.status.idle": "2025-01-30T15:17:01.248549Z",
     "shell.execute_reply": "2025-01-30T15:17:01.247795Z"
    },
    "papermill": {
     "duration": 0.09617,
     "end_time": "2025-01-30T15:17:01.249646",
     "exception": false,
     "start_time": "2025-01-30T15:17:01.153476",
     "status": "completed"
    },
    "tags": [
     "injected-parameters"
    ]
   },
   "outputs": [],
   "source": [
    "# Parameters\n",
    "output_folder_path = \"W:\\\\Projects\\\\\\u05ea\\u05db\\u05e0\\u05d9\\u05d5\\u05ea \\u05de\\u05e8\\u05d7\\u05d1\\u05d9\\u05d5\\u05ea\\\\\\u05d1\\u05d3\\u05d9\\u05e7\\u05d4 \\u05de\\u05e8\\u05d7\\u05d1\\u05d9\\u05ea \\u05d0\\u05e8\\u05de\\u05d5\\u05df \\u05d4\\u05e0\\u05e6\\u05d9\\u05d1 - Copy\\\\\\u05e7\\u05d1\\u05e6\\u05d9 \\u05e2\\u05d1\\u05d5\\u05d3\\u05d4\\\\\\u05ea\\u05d7\\u05d6\\u05d9\\u05d5\\u05ea_\\u05d3\\u05de\\u05d5\\u05d2\\u05e8\\u05e4\\u05d9\\u05d5\\u05ea\\\\For_approval\\\\Reference_tabels\"\n",
    "new_layer_path = \"W:\\\\Projects\\\\\\u05ea\\u05db\\u05e0\\u05d9\\u05d5\\u05ea \\u05de\\u05e8\\u05d7\\u05d1\\u05d9\\u05d5\\u05ea\\\\\\u05d1\\u05d3\\u05d9\\u05e7\\u05d4 \\u05de\\u05e8\\u05d7\\u05d1\\u05d9\\u05ea \\u05d0\\u05e8\\u05de\\u05d5\\u05df \\u05d4\\u05e0\\u05e6\\u05d9\\u05d1 - Copy\\\\\\u05e7\\u05d1\\u05e6\\u05d9 \\u05e2\\u05d1\\u05d5\\u05d3\\u05d4\\\\\\u05ea\\u05d7\\u05d6\\u05d9\\u05d5\\u05ea_\\u05d3\\u05de\\u05d5\\u05d2\\u05e8\\u05e4\\u05d9\\u05d5\\u05ea\\\\For_approval\\\\Reference_tabels\\\\shp\\\\TAZ_V4_241103_with_geo_info.shp\"\n"
   ]
  },
  {
   "cell_type": "markdown",
   "id": "9e6f45e9",
   "metadata": {
    "papermill": {
     "duration": 0.103842,
     "end_time": "2025-01-30T15:17:01.444253",
     "exception": false,
     "start_time": "2025-01-30T15:17:01.340411",
     "status": "completed"
    },
    "tags": []
   },
   "source": [
    "### ייבוא ספריות\n"
   ]
  },
  {
   "cell_type": "code",
   "execution_count": 2,
   "id": "e6601dd2",
   "metadata": {
    "execution": {
     "iopub.execute_input": "2025-01-30T15:17:01.655258Z",
     "iopub.status.busy": "2025-01-30T15:17:01.654954Z",
     "iopub.status.idle": "2025-01-30T15:17:01.659442Z",
     "shell.execute_reply": "2025-01-30T15:17:01.658177Z"
    },
    "papermill": {
     "duration": 0.108073,
     "end_time": "2025-01-30T15:17:01.661009",
     "exception": false,
     "start_time": "2025-01-30T15:17:01.552936",
     "status": "completed"
    },
    "tags": []
   },
   "outputs": [],
   "source": [
    "params = {\"output_folder_path\": output_folder_path, \"new_layer_path\": new_layer_path}"
   ]
  },
  {
   "cell_type": "code",
   "execution_count": 3,
   "id": "6a91ae6c",
   "metadata": {
    "execution": {
     "iopub.execute_input": "2025-01-30T15:17:01.856963Z",
     "iopub.status.busy": "2025-01-30T15:17:01.856621Z",
     "iopub.status.idle": "2025-01-30T15:17:01.861468Z",
     "shell.execute_reply": "2025-01-30T15:17:01.860358Z"
    },
    "papermill": {
     "duration": 0.106671,
     "end_time": "2025-01-30T15:17:01.863225",
     "exception": false,
     "start_time": "2025-01-30T15:17:01.756554",
     "status": "completed"
    },
    "tags": []
   },
   "outputs": [],
   "source": [
    "import os\n",
    "import sys"
   ]
  },
  {
   "cell_type": "code",
   "execution_count": 4,
   "id": "91021029",
   "metadata": {
    "execution": {
     "iopub.execute_input": "2025-01-30T15:17:02.057223Z",
     "iopub.status.busy": "2025-01-30T15:17:02.056399Z",
     "iopub.status.idle": "2025-01-30T15:17:02.063133Z",
     "shell.execute_reply": "2025-01-30T15:17:02.061978Z"
    },
    "papermill": {
     "duration": 0.103357,
     "end_time": "2025-01-30T15:17:02.064622",
     "exception": false,
     "start_time": "2025-01-30T15:17:01.961265",
     "status": "completed"
    },
    "tags": []
   },
   "outputs": [],
   "source": [
    "def delete_folder_contents(folder_path):\n",
    "    # רץ על כל הקבצים והתיקיות בתיקייה.\n",
    "    for filename in os.listdir(folder_path):\n",
    "        file_path = os.path.join(folder_path, filename)\n",
    "        # בודק אם הפריט הוא קובץ או תיקייה.\n",
    "        if os.path.isfile(file_path):\n",
    "            # אם הפריט הוא קובץ, מוחק אותו באמצעות os.remove\n",
    "            os.remove(file_path)\n",
    "        elif os.path.isdir(file_path):\n",
    "            # אם הפריט הוא תיקייה, מוחק את התוכן שלה\n",
    "            delete_folder_contents(file_path)\n",
    "            # מוחק את התיקייה עצמה באמצעות os.rmdir\n",
    "            os.rmdir(file_path)"
   ]
  },
  {
   "cell_type": "markdown",
   "id": "05f31d80",
   "metadata": {
    "papermill": {
     "duration": 0.103871,
     "end_time": "2025-01-30T15:17:02.268209",
     "exception": false,
     "start_time": "2025-01-30T15:17:02.164338",
     "status": "completed"
    },
    "tags": []
   },
   "source": [
    "### הגדרת נתיב תיקייה ומחיקת תוכן\n"
   ]
  },
  {
   "cell_type": "code",
   "execution_count": 5,
   "id": "99fb0d8d",
   "metadata": {
    "execution": {
     "iopub.execute_input": "2025-01-30T15:17:02.493884Z",
     "iopub.status.busy": "2025-01-30T15:17:02.493331Z",
     "iopub.status.idle": "2025-01-30T15:17:02.767620Z",
     "shell.execute_reply": "2025-01-30T15:17:02.766924Z"
    },
    "papermill": {
     "duration": 0.38952,
     "end_time": "2025-01-30T15:17:02.768842",
     "exception": false,
     "start_time": "2025-01-30T15:17:02.379322",
     "status": "completed"
    },
    "tags": []
   },
   "outputs": [],
   "source": [
    "# מגדיר את הנתיב לתיקייה בשם \"Intermediates\".\n",
    "folder_path = './Intermediates'\n",
    "\n",
    "# קורא לפונקציה delete_folder_contents כדי למחוק את התוכן של התיקייה\n",
    "delete_folder_contents(folder_path)"
   ]
  },
  {
   "cell_type": "markdown",
   "id": "c2489b40",
   "metadata": {
    "papermill": {
     "duration": 0.269959,
     "end_time": "2025-01-30T15:17:03.257372",
     "exception": false,
     "start_time": "2025-01-30T15:17:02.987413",
     "status": "completed"
    },
    "tags": []
   },
   "source": [
    "### הגדרת נתיבים וייבוא מודולים\n"
   ]
  },
  {
   "cell_type": "code",
   "execution_count": 6,
   "id": "eca7e514",
   "metadata": {
    "execution": {
     "iopub.execute_input": "2025-01-30T15:17:03.627153Z",
     "iopub.status.busy": "2025-01-30T15:17:03.626432Z",
     "iopub.status.idle": "2025-01-30T15:17:04.986113Z",
     "shell.execute_reply": "2025-01-30T15:17:04.985387Z"
    },
    "papermill": {
     "duration": 1.495244,
     "end_time": "2025-01-30T15:17:04.987382",
     "exception": false,
     "start_time": "2025-01-30T15:17:03.492138",
     "status": "completed"
    },
    "tags": []
   },
   "outputs": [],
   "source": [
    "# cwd: מאחסן את הנתיב הנוכחי.\n",
    "cwd = os.getcwd()\n",
    "\n",
    "# create_forecast_basic מגדיר נתיב לתיקית\n",
    "create_forecast_basic_folder_path = os.path.dirname(cwd)\n",
    "\n",
    "# arab_and_palestinian מגדיר נתיב לתיקית\n",
    "arab_and_palestinian_directory = r'{}\\arab_and_palestinian'.format(create_forecast_basic_folder_path)\n",
    "\n",
    "# מוסיף את הנתיב של התיקייה \"arab_and_palestinian\", כך שניתן לייבא מודולים מהתיקייה הזו.\n",
    "sys.path.append(arab_and_palestinian_directory)\n",
    "\n",
    "# מייבא את המודול run_arab_and_palestinian הנמצא בתיקייה \"arab_and_palestinian\".\n",
    "import run_arab_and_palestinian"
   ]
  },
  {
   "cell_type": "markdown",
   "id": "3873a08b",
   "metadata": {
    "papermill": {
     "duration": 0.086243,
     "end_time": "2025-01-30T15:17:05.159916",
     "exception": false,
     "start_time": "2025-01-30T15:17:05.073673",
     "status": "completed"
    },
    "tags": []
   },
   "source": [
    "### הרצת מחברות\n"
   ]
  },
  {
   "cell_type": "code",
   "execution_count": 7,
   "id": "06edebd8",
   "metadata": {
    "execution": {
     "iopub.execute_input": "2025-01-30T15:17:05.359267Z",
     "iopub.status.busy": "2025-01-30T15:17:05.357973Z",
     "iopub.status.idle": "2025-01-30T15:18:03.415136Z",
     "shell.execute_reply": "2025-01-30T15:18:03.413313Z"
    },
    "papermill": {
     "duration": 58.151799,
     "end_time": "2025-01-30T15:18:03.418079",
     "exception": false,
     "start_time": "2025-01-30T15:17:05.266280",
     "status": "completed"
    },
    "tags": []
   },
   "outputs": [
    {
     "name": "stdout",
     "output_type": "stream",
     "text": [
      "W:\\Projects\\תכניות מרחביות\\בדיקה מרחבית ארמון הנציב - Copy\\קבצי עבודה\\תחזיות_דמוגרפיות\\For_approval\\Reference_tabels\n",
      "W:\\Projects\\תכניות מרחביות\\בדיקה מרחבית ארמון הנציב - Copy\\קבצי עבודה\\תחזיות_דמוגרפיות\\For_approval\\Reference_tabels\\shp\\TAZ_V4_241103_with_geo_info.shp\n"
     ]
    },
    {
     "name": "stderr",
     "output_type": "stream",
     "text": [
      "C:\\Users\\mark\\AppData\\Local\\Temp\\ipykernel_44276\\3666940613.py:1: FutureWarning: Setting an item of incompatible dtype is deprecated and will raise an error in a future version of pandas. Value '235652.6' has dtype incompatible with int64, please explicitly cast to a compatible dtype first.\n",
      "  group_pop_jtmt.loc['east_jeru_left','pop']=group_pop_delta.item()\n"
     ]
    },
    {
     "name": "stderr",
     "output_type": "stream",
     "text": [
      "C:\\Users\\mark\\AppData\\Local\\Temp\\ipykernel_44276\\1360134725.py:2: FutureWarning: The provided callable <built-in function sum> is currently using DataFrameGroupBy.sum. In a future version of pandas, the provided callable will be used directly. To keep current behavior pass the string \"sum\" instead.\n",
      "  hh_size_by_classification=drop_geo(stat).loc[(stat['aprt_20']>0)&(stat['STAT'].isin(cbs_not_lie_lst))].pivot_table(index='classification_name',aggfunc=sum)[['aprt_20','pop','count']]\n",
      "C:\\Users\\mark\\AppData\\Local\\Temp\\ipykernel_44276\\423562680.py:2: FutureWarning: The provided callable <built-in function sum> is currently using DataFrameGroupBy.sum. In a future version of pandas, the provided callable will be used directly. To keep current behavior pass the string \"sum\" instead.\n",
      "  stat_by_muni_sum=drop_geo(stat).pivot_table(index='CR_PNIM',aggfunc=sum)[['pop_cbs','pop']]\n"
     ]
    },
    {
     "name": "stderr",
     "output_type": "stream",
     "text": [
      "C:\\Users\\mark\\AppData\\Local\\Temp\\ipykernel_44276\\511634374.py:1: FutureWarning: Downcasting object dtype arrays on .fillna, .ffill, .bfill is deprecated and will change in a future version. Call result.infer_objects(copy=False) instead. To opt-in to the future behavior, set `pd.set_option('future.no_silent_downcasting', True)`\n",
      "  bld_point=make_point(bld).fillna(0)\n",
      "C:\\Users\\mark\\AppData\\Local\\Temp\\ipykernel_44276\\3159188487.py:1: FutureWarning: Setting an item of incompatible dtype is deprecated and will raise an error in a future version of pandas. Value '[ 31.3225      20.58816099  23.03316663 ...  79.56155771  86.00171698\n",
      " 411.10230836]' has dtype incompatible with int64, please explicitly cast to a compatible dtype first.\n",
      "  bld_point.loc[(bld_point['HEIGHT']-ceiling_height)<=0,'bld_m3']=bld_point['bld_area']\n"
     ]
    },
    {
     "name": "stderr",
     "output_type": "stream",
     "text": [
      "C:\\Users\\mark\\AppData\\Local\\Temp\\ipykernel_44276\\3533048335.py:1: FutureWarning: The provided callable <built-in function sum> is currently using DataFrameGroupBy.sum. In a future version of pandas, the provided callable will be used directly. To keep current behavior pass the string \"sum\" instead.\n",
      "  sum_bld_m3=pd.pivot_table(bld_point.drop(columns='centroid'),index=['Taz_num','STAT'],aggfunc=sum)[['bld_m3']].reset_index()\n",
      "C:\\Users\\mark\\AppData\\Local\\Temp\\ipykernel_44276\\3687277795.py:1: FutureWarning: The provided callable <built-in function sum> is currently using DataFrameGroupBy.sum. In a future version of pandas, the provided callable will be used directly. To keep current behavior pass the string \"sum\" instead.\n",
      "  sum_bld_m3_by_stat=sum_bld_m3.pivot_table(index='STAT',aggfunc=sum)[['bld_m3']].rename(columns={'bld_m3':'bld_m3_stat'}).reset_index()\n",
      "C:\\Users\\mark\\AppData\\Local\\Temp\\ipykernel_44276\\573162633.py:1: FutureWarning: The provided callable <built-in function sum> is currently using DataFrameGroupBy.sum. In a future version of pandas, the provided callable will be used directly. To keep current behavior pass the string \"sum\" instead.\n",
      "  sum_bld_m3_by_stat=sum_bld_m3.pivot_table(index='STAT',aggfunc=sum)[['bld_m3']].rename(columns={'bld_m3':'bld_m3_stat_new'}).reset_index()\n"
     ]
    },
    {
     "name": "stderr",
     "output_type": "stream",
     "text": [
      "C:\\Users\\mark\\AppData\\Local\\Temp\\ipykernel_44276\\3759065189.py:1: FutureWarning: The provided callable <built-in function sum> is currently using DataFrameGroupBy.sum. In a future version of pandas, the provided callable will be used directly. To keep current behavior pass the string \"sum\" instead.\n",
      "  taz=pd.pivot_table(taz,index='Taz_num',aggfunc=sum)\n"
     ]
    },
    {
     "name": "stderr",
     "output_type": "stream",
     "text": [
      "C:\\Users\\mark\\AppData\\Local\\Temp\\ipykernel_44276\\3236687485.py:1: FutureWarning: The provided callable <built-in function sum> is currently using DataFrameGroupBy.sum. In a future version of pandas, the provided callable will be used directly. To keep current behavior pass the string \"sum\" instead.\n",
      "  shcl_with_taz_arab=shcl_with_taz.loc[shcl_with_taz['sector']==1].pivot_table(index='Taz_num',aggfunc=sum)[old_col]\n",
      "C:\\Users\\mark\\AppData\\Local\\Temp\\ipykernel_44276\\2028788263.py:1: FutureWarning: The provided callable <built-in function sum> is currently using DataFrameGroupBy.sum. In a future version of pandas, the provided callable will be used directly. To keep current behavior pass the string \"sum\" instead.\n",
      "  shcl_with_taz_hardi=shcl_with_taz.loc[shcl_with_taz['sector']==2].pivot_table(index='Taz_num',aggfunc=sum)[old_col]\n",
      "C:\\Users\\mark\\AppData\\Local\\Temp\\ipykernel_44276\\2629452214.py:1: FutureWarning: The provided callable <built-in function sum> is currently using DataFrameGroupBy.sum. In a future version of pandas, the provided callable will be used directly. To keep current behavior pass the string \"sum\" instead.\n",
      "  shcl_with_taz_Jewish=shcl_with_taz.loc[shcl_with_taz['sector']==3].pivot_table(index='Taz_num',aggfunc=sum)[old_col]\n"
     ]
    },
    {
     "name": "stderr",
     "output_type": "stream",
     "text": [
      "C:\\Users\\mark\\AppData\\Local\\Temp\\ipykernel_44276\\3903377412.py:2: SettingWithCopyWarning: \n",
      "A value is trying to be set on a copy of a slice from a DataFrame.\n",
      "Try using .loc[row_indexer,col_indexer] = value instead\n",
      "\n",
      "See the caveats in the documentation: https://pandas.pydata.org/pandas-docs/stable/user_guide/indexing.html#returning-a-view-versus-a-copy\n",
      "  sum_students_by_muni_sector_demand_add_from_gov_by_muni.loc[filter_condition, 'sum_add_students'] = 3000\n"
     ]
    }
   ],
   "source": [
    "%run \"./fix_cbs_data_230717.ipynb\"\n",
    "%run \"./from_sa_cbs_to_ta_jtmt.ipynb\"\n",
    "%run \"./create_gov_student_num_by_muni.ipynb\"\n",
    "%run \"./prepare_students.ipynb\""
   ]
  },
  {
   "cell_type": "code",
   "execution_count": 8,
   "id": "e3471d1c",
   "metadata": {
    "execution": {
     "iopub.execute_input": "2025-01-30T15:18:03.610725Z",
     "iopub.status.busy": "2025-01-30T15:18:03.610324Z",
     "iopub.status.idle": "2025-01-30T15:18:38.694388Z",
     "shell.execute_reply": "2025-01-30T15:18:38.693204Z"
    },
    "papermill": {
     "duration": 35.182957,
     "end_time": "2025-01-30T15:18:38.697092",
     "exception": false,
     "start_time": "2025-01-30T15:18:03.514135",
     "status": "completed"
    },
    "tags": []
   },
   "outputs": [
    {
     "name": "stderr",
     "output_type": "stream",
     "text": [
      "Passed unknown parameter: output_folder_path\n"
     ]
    },
    {
     "name": "stderr",
     "output_type": "stream",
     "text": [
      "Passed unknown parameter: new_layer_path\n"
     ]
    },
    {
     "name": "stderr",
     "output_type": "stream",
     "text": [
      "Input notebook does not contain a cell with tag 'parameters'\n"
     ]
    },
    {
     "name": "stderr",
     "output_type": "stream",
     "text": [
      "c:\\Users\\mark\\AppData\\Local\\Programs\\Python\\Python313\\Lib\\site-packages\\tqdm\\auto.py:21: TqdmWarning: IProgress not found. Please update jupyter and ipywidgets. See https://ipywidgets.readthedocs.io/en/stable/user_install.html\n",
      "  from .autonotebook import tqdm as notebook_tqdm\n"
     ]
    },
    {
     "name": "stderr",
     "output_type": "stream",
     "text": [
      "\r",
      "Executing:   0%|          | 0/10 [00:00<?, ?cell/s]"
     ]
    },
    {
     "name": "stderr",
     "output_type": "stream",
     "text": [
      "\r",
      "Executing:  10%|█         | 1/10 [00:02<00:19,  2.21s/cell]"
     ]
    },
    {
     "name": "stderr",
     "output_type": "stream",
     "text": [
      "\r",
      "Executing:  20%|██        | 2/10 [00:02<00:09,  1.20s/cell]"
     ]
    },
    {
     "name": "stderr",
     "output_type": "stream",
     "text": [
      "\r",
      "Executing:  30%|███       | 3/10 [00:02<00:05,  1.34cell/s]"
     ]
    },
    {
     "name": "stderr",
     "output_type": "stream",
     "text": [
      "\r",
      "Executing:  40%|████      | 4/10 [00:03<00:03,  1.91cell/s]"
     ]
    },
    {
     "name": "stderr",
     "output_type": "stream",
     "text": [
      "\r",
      "Executing:  50%|█████     | 5/10 [00:03<00:02,  2.26cell/s]"
     ]
    },
    {
     "name": "stderr",
     "output_type": "stream",
     "text": [
      "\r",
      "Executing:  60%|██████    | 6/10 [00:05<00:04,  1.05s/cell]"
     ]
    },
    {
     "name": "stderr",
     "output_type": "stream",
     "text": [
      "\r",
      "Executing:  70%|███████   | 7/10 [00:06<00:02,  1.17cell/s]"
     ]
    },
    {
     "name": "stderr",
     "output_type": "stream",
     "text": [
      "\r",
      "Executing:  80%|████████  | 8/10 [00:16<00:07,  3.93s/cell]"
     ]
    },
    {
     "name": "stderr",
     "output_type": "stream",
     "text": [
      "\r",
      "Executing:  90%|█████████ | 9/10 [00:19<00:03,  3.73s/cell]"
     ]
    },
    {
     "name": "stderr",
     "output_type": "stream",
     "text": [
      "\r",
      "Executing: 100%|██████████| 10/10 [00:34<00:00,  7.00s/cell]"
     ]
    },
    {
     "name": "stderr",
     "output_type": "stream",
     "text": [
      "\r",
      "Executing: 100%|██████████| 10/10 [00:34<00:00,  3.47s/cell]"
     ]
    },
    {
     "name": "stdout",
     "output_type": "stream",
     "text": [
      "Notebook executed successfully: w:\\Data\\Forecast\\Tools\\create_forecast_ad_hoc\\create_forecast_basic\\arab_and_palestinian\\run_arab_and_palestinian_output.ipynb\n"
     ]
    },
    {
     "name": "stderr",
     "output_type": "stream",
     "text": [
      "\n"
     ]
    },
    {
     "data": {
      "text/plain": [
       "True"
      ]
     },
     "execution_count": 8,
     "metadata": {},
     "output_type": "execute_result"
    }
   ],
   "source": [
    "# os.chdir(arab_and_palestinian_directory): משנה את הספרייה הנוכחית לספרייה שבה נמצאת המחברת הראשונה.\n",
    "os.chdir(arab_and_palestinian_directory)\n",
    "\n",
    "# קורא לפונקציה run_notebook שבמודול run_arab_and_palestinian כדי להריץ את המחברת run_arab_and_palestinian.ipynb.\n",
    "run_arab_and_palestinian.run_notebook(r'{}\\run_arab_and_palestinian.ipynb'.format(arab_and_palestinian_directory), params)"
   ]
  },
  {
   "cell_type": "markdown",
   "id": "98d28d73",
   "metadata": {
    "tags": [
     "papermill-error-cell-tag"
    ]
   },
   "source": [
    "<span id=\"papermill-error-cell\" style=\"color:red; font-family:Helvetica Neue, Helvetica, Arial, sans-serif; font-size:2em;\">Execution using papermill encountered an exception here and stopped:</span>"
   ]
  },
  {
   "cell_type": "code",
   "execution_count": 9,
   "id": "609f7272",
   "metadata": {
    "execution": {
     "iopub.execute_input": "2025-01-30T15:18:38.901757Z",
     "iopub.status.busy": "2025-01-30T15:18:38.900871Z",
     "iopub.status.idle": "2025-01-30T15:19:14.157782Z",
     "shell.execute_reply": "2025-01-30T15:19:14.156668Z"
    },
    "papermill": {
     "duration": 35.350585,
     "end_time": "2025-01-30T15:19:14.158949",
     "exception": true,
     "start_time": "2025-01-30T15:18:38.808364",
     "status": "failed"
    },
    "tags": []
   },
   "outputs": [
    {
     "name": "stderr",
     "output_type": "stream",
     "text": [
      "C:\\Users\\mark\\AppData\\Local\\Temp\\ipykernel_44276\\2539747398.py:3: FutureWarning: The provided callable <built-in function sum> is currently using DataFrameGroupBy.sum. In a future version of pandas, the provided callable will be used directly. To keep current behavior pass the string \"sum\" instead.\n",
      "  student_arab_not_gov=student_arab_not_gov.pivot_table(index='Taz_num',aggfunc=sum)[['num_student']]\n"
     ]
    },
    {
     "name": "stderr",
     "output_type": "stream",
     "text": [
      "C:\\Users\\mark\\AppData\\Local\\Temp\\ipykernel_44276\\2039466339.py:1: FutureWarning: The provided callable <built-in function sum> is currently using DataFrameGroupBy.sum. In a future version of pandas, the provided callable will be used directly. To keep current behavior pass the string \"sum\" instead.\n",
      "  taz['student_chardi_not_gov']=drop_geo(student_chardi_not_gov_with_taz).pivot_table(index='Taz_num',aggfunc=sum)[['num_students']]\n"
     ]
    },
    {
     "name": "stderr",
     "output_type": "stream",
     "text": [
      "C:\\Users\\mark\\AppData\\Local\\Temp\\ipykernel_44276\\2892090057.py:1: FutureWarning: The provided callable <built-in function sum> is currently using DataFrameGroupBy.sum. In a future version of pandas, the provided callable will be used directly. To keep current behavior pass the string \"sum\" instead.\n",
      "  uni_students_sum_by_taz=uni_students_with_taz[col].pivot_table(index='Taz_num',aggfunc=sum).reset_index()\n"
     ]
    },
    {
     "name": "stderr",
     "output_type": "stream",
     "text": [
      "C:\\Users\\mark\\AppData\\Local\\Temp\\ipykernel_44276\\997828904.py:1: FutureWarning: The provided callable <built-in function sum> is currently using DataFrameGroupBy.sum. In a future version of pandas, the provided callable will be used directly. To keep current behavior pass the string \"sum\" instead.\n",
      "  student_yeshiva_by_gender_taz=drop_geo(student_yeshiva).pivot_table(index=['Taz_num','gender'],aggfunc=sum).reset_index()\n"
     ]
    },
    {
     "name": "stderr",
     "output_type": "stream",
     "text": [
      "C:\\Users\\mark\\AppData\\Local\\Temp\\ipykernel_44276\\2734887127.py:1: FutureWarning: Setting an item of incompatible dtype is deprecated and will raise an error in a future version of pandas. Value '[211.55       311.6        203.4        219.5        344.425\n",
      " 136.35        56.075       25.39016076  73.20626374  73.23431062\n",
      "  82.10695662 230.30070665 343.62390833 337.025      366.03886321\n",
      " 105.80109167 231.87527165  55.25400185  77.16804338 253.975\n",
      " 271.6075202  128.8788284  132.64795356 192.81912699 152.39663145\n",
      "  41.96477747  13.99356016  95.41456334 242.36643815 121.83933175\n",
      " 217.05580154  79.4         61.525      194.025       89.10633285\n",
      " 261.06314994  13.61840831  66.66415402 125.9366734  493.40591382\n",
      "  13.875      303.175      179.34455817  52.35639892  74.39291965\n",
      " 534.43208035 416.82403926 222.70253076 354.0576974  276.\n",
      " 350.08974276 300.08391068   8.1        103.24850102  62.84563695\n",
      " 294.26060716 188.67566285  44.13980319 159.3154777  196.63301559\n",
      " 193.97893162  45.89112945]' has dtype incompatible with int64, please explicitly cast to a compatible dtype first.\n",
      "  taz.loc[(taz['main_secto']=='U_Orthodox')&(taz['kollim_demand']>taz['Yeshiva']),'add_from_kollim_demand']=taz['kollim_demand']-taz['Yeshiva']\n"
     ]
    },
    {
     "name": "stderr",
     "output_type": "stream",
     "text": [
      "C:\\Users\\mark\\AppData\\Local\\Temp\\ipykernel_44276\\219692974.py:3: FutureWarning: Setting an item of incompatible dtype is deprecated and will raise an error in a future version of pandas. Value '[1058.5125      925.0696     1368.9416     1401.4269      900.4801\n",
      "  662.6458      925.0599      926.6895      924.19908983  997.1115\n",
      "  567.256       832.8517     1120.5246      658.6882      794.8762\n",
      " 1469.065      1668.1284      882.8552     1070.52809036  835.6259\n",
      "  547.8269      625.63533771  421.00136291 1126.267       588.8191\n",
      "  497.06827099  192.98137702  550.82128767  652.67722429    0.\n",
      "  199.05712       0.         1029.46150669  958.554      1089.47169269\n",
      "  258.27169331  316.24394151  868.35219351  381.68004435  346.99131233\n",
      " 1150.0223      711.9509      910.0734      586.98056974  959.2192804\n",
      "  242.39101412  485.02180886  448.62910236  696.30593582  179.41638023\n",
      "  912.98938137  482.97741778    0.           31.82368444  345.50725071\n",
      "  424.43994929  572.3896783   674.3028217  1079.7244229   492.62749824\n",
      "  387.99716239  373.76496761   98.36363601  188.35185548  126.558586\n",
      "  223.64763843  264.48028347 1127.07201653  345.29532287  731.3357684\n",
      "  540.14168147 1054.80462152  395.49862658 1523.2298      594.36104784\n",
      "  435.31335216  221.451         0.            0.         1393.9198457\n",
      "  721.1368      704.8214      527.7338739   605.63014103  825.11645426\n",
      " 1169.80494574  763.64114769  722.70549344  363.89497342  859.62638597\n",
      "  337.5187576   331.66453881    0.         1149.159       807.03981728\n",
      "    0.          821.38017823  164.60664178    0.          859.88343512\n",
      "  874.92297156  958.18094175 1030.52232733 1260.89713291  813.1122\n",
      " 1294.95        883.7476     1285.5022      831.9884      994.5216\n",
      "  526.15593447 1330.4035     1047.30046553    0.          196.82521355\n",
      " 3559.29679765  386.69356528 3016.20211554 3209.42870797 1792.68761483\n",
      " 2014.03858517    0.            0.         1303.98795982    0.\n",
      "    0.            6.693         0.            0.            0.\n",
      "    0.            0.            0.         2327.0543108   767.54910769\n",
      "  862.49276997  692.2211     1139.98081887    0.            0.\n",
      "    0.         1778.49546086 1068.60878644  343.6128        0.\n",
      "    0.            0.          288.31147246  158.6891602     0.\n",
      "    0.            0.            0.            0.            0.\n",
      "    0.            0.            0.         1420.66653216 1756.07376784\n",
      "    0.            0.            0.         1284.46185064  651.42724071\n",
      "  806.00014809 1395.7161253  1064.02380638  523.46352561    0.\n",
      "  601.7333678   675.71254652    0.            0.        ]' has dtype incompatible with int64, please explicitly cast to a compatible dtype first.\n",
      "  taz.loc[taz['main_secto']==\"U_Orthodox\",'pop_emp_employed']=taz['pop_emp']*0.97\n"
     ]
    },
    {
     "name": "stderr",
     "output_type": "stream",
     "text": [
      "C:\\Users\\mark\\AppData\\Local\\Temp\\ipykernel_44276\\3194412414.py:3: FutureWarning: Setting an item of incompatible dtype is deprecated and will raise an error in a future version of pandas. Value '[1582.13264528  414.11127509  907.29513318  725.28590691  284.58806306\n",
      "  112.91357732  351.57784123  242.0320935   890.02572752  245.84149081\n",
      "  369.41328391   72.53131098  188.96910426  222.59339526   95.00486464\n",
      "   60.60706352  352.18270168  253.18806871  360.47993419  107.8411591\n",
      "  273.9633447   397.02074231  124.45926595  356.49818813  367.90232733\n",
      "  285.90212037  312.31113296  635.16136519  351.6        1591.83055646\n",
      "  509.18825869  365.97840049  269.28061128  197.22655225  197.44069442\n",
      "  152.23491854  450.64515181  487.28879736  239.23099838  436.78309472\n",
      "  423.01036932  313.89584919  361.87185103  540.05220057 1342.26794319\n",
      "   30.97802368  267.86296443  266.73460526  166.52677677  177.62647075\n",
      "   75.2271998   365.17778111  128.97591892  124.06830155  616.59006527\n",
      "  328.50545697]' has dtype incompatible with int64, please explicitly cast to a compatible dtype first.\n",
      "  taz.loc[(taz['jew']==0)&(taz['okev']==1),'emp_okev']=taz['aprt_20']*0.3\n",
      "C:\\Users\\mark\\AppData\\Local\\Temp\\ipykernel_44276\\1806380584.py:5: UserWarning: `keep_geom_type=True` in overlay resulted in 284 dropped geometries of different geometry types than df1 has. Set `keep_geom_type=False` to retain all geometries\n",
      "  EMP_kibolet_by_taz=gpd.overlay(taz.reset_index()[['Taz_num','taz_area','geometry']],EMP_kibolet)\n"
     ]
    },
    {
     "ename": "FileNotFoundError",
     "evalue": "[Errno 2] No such file or directory: 'w:\\\\Data\\\\Forecast\\\\Tools\\\\create_forecast_ad_hoc\\\\create_forecast_basic\\\\background_files\\\\forecast_version_folder_location.txt'",
     "output_type": "error",
     "traceback": [
      "\u001b[1;31m---------------------------------------------------------------------------\u001b[0m",
      "\u001b[1;31mFileNotFoundError\u001b[0m                         Traceback (most recent call last)",
      "File \u001b[1;32m~\\AppData\\Local\\Temp\\ipykernel_44276\\3278135569.py:1\u001b[0m\n\u001b[1;32m----> 1\u001b[0m forecast_version_folder_location\u001b[38;5;241m=\u001b[39m\u001b[43mget_forecast_version_folder_location\u001b[49m\u001b[43m(\u001b[49m\u001b[38;5;124;43mr\u001b[39;49m\u001b[38;5;124;43m'\u001b[39;49m\u001b[38;5;132;43;01m{}\u001b[39;49;00m\u001b[38;5;124;43m\\\u001b[39;49m\u001b[38;5;124;43mbackground_files\u001b[39;49m\u001b[38;5;124;43m\\\u001b[39;49m\u001b[38;5;124;43mforecast_version_folder_location.txt\u001b[39;49m\u001b[38;5;124;43m'\u001b[39;49m\u001b[38;5;241;43m.\u001b[39;49m\u001b[43mformat\u001b[49m\u001b[43m(\u001b[49m\u001b[43mcreate_forecast_basic_folder_path\u001b[49m\u001b[43m)\u001b[49m\u001b[43m)\u001b[49m\n\u001b[0;32m      3\u001b[0m forecast_version_folder_location\u001b[38;5;241m=\u001b[39m\u001b[38;5;124mr\u001b[39m\u001b[38;5;124m'\u001b[39m\u001b[38;5;132;01m{}\u001b[39;00m\u001b[38;5;124m\\\u001b[39m\u001b[38;5;124mBASE_YEAR\u001b[39m\u001b[38;5;124m'\u001b[39m\u001b[38;5;241m.\u001b[39mformat(forecast_version_folder_location)\n",
      "File \u001b[1;32mw:\\Data\\Forecast\\Tools\\create_forecast_ad_hoc\\create_forecast_basic\\global_functions.py:253\u001b[0m, in \u001b[0;36mget_forecast_version_folder_location\u001b[1;34m(file_path)\u001b[0m\n\u001b[0;32m    252\u001b[0m \u001b[38;5;28;01mdef\u001b[39;00m\u001b[38;5;250m \u001b[39m\u001b[38;5;21mget_forecast_version_folder_location\u001b[39m(file_path):\n\u001b[1;32m--> 253\u001b[0m     \u001b[38;5;28;01mwith\u001b[39;00m \u001b[38;5;28;43mopen\u001b[39;49m\u001b[43m(\u001b[49m\u001b[43mfile_path\u001b[49m\u001b[43m,\u001b[49m\u001b[43m \u001b[49m\u001b[38;5;124;43m'\u001b[39;49m\u001b[38;5;124;43mr\u001b[39;49m\u001b[38;5;124;43m'\u001b[39;49m\u001b[43m)\u001b[49m \u001b[38;5;28;01mas\u001b[39;00m file:\n\u001b[0;32m    254\u001b[0m         forecast_version_folder_location \u001b[38;5;241m=\u001b[39m file\u001b[38;5;241m.\u001b[39mread()\n\u001b[0;32m    255\u001b[0m     \u001b[38;5;28;01mreturn\u001b[39;00m forecast_version_folder_location\n",
      "\u001b[1;31mFileNotFoundError\u001b[0m: [Errno 2] No such file or directory: 'w:\\\\Data\\\\Forecast\\\\Tools\\\\create_forecast_ad_hoc\\\\create_forecast_basic\\\\background_files\\\\forecast_version_folder_location.txt'"
     ]
    },
    {
     "ename": "FileNotFoundError",
     "evalue": "[Errno 2] No such file or directory: 'w:\\\\Data\\\\Forecast\\\\Tools\\\\create_forecast_ad_hoc\\\\create_forecast_basic\\\\background_files\\\\forecast_version_folder_location.txt'",
     "output_type": "error",
     "traceback": [
      "\u001b[1;31m---------------------------------------------------------------------------\u001b[0m",
      "\u001b[1;31mFileNotFoundError\u001b[0m                         Traceback (most recent call last)",
      "Cell \u001b[1;32mIn[9], line 7\u001b[0m\n\u001b[0;32m      5\u001b[0m get_ipython()\u001b[38;5;241m.\u001b[39mrun_line_magic(\u001b[38;5;124m'\u001b[39m\u001b[38;5;124mrun\u001b[39m\u001b[38;5;124m'\u001b[39m, \u001b[38;5;124m'\u001b[39m\u001b[38;5;124m\"\u001b[39m\u001b[38;5;124m./emp_current_year.ipynb\u001b[39m\u001b[38;5;124m\"\u001b[39m\u001b[38;5;124m'\u001b[39m)\n\u001b[0;32m      6\u001b[0m get_ipython()\u001b[38;5;241m.\u001b[39mrun_line_magic(\u001b[38;5;124m'\u001b[39m\u001b[38;5;124mrun\u001b[39m\u001b[38;5;124m'\u001b[39m, \u001b[38;5;124m'\u001b[39m\u001b[38;5;124m\"\u001b[39m\u001b[38;5;124m./add_geo_info_and_export.ipynb\u001b[39m\u001b[38;5;124m\"\u001b[39m\u001b[38;5;124m'\u001b[39m)\n\u001b[1;32m----> 7\u001b[0m \u001b[43mget_ipython\u001b[49m\u001b[43m(\u001b[49m\u001b[43m)\u001b[49m\u001b[38;5;241;43m.\u001b[39;49m\u001b[43mrun_line_magic\u001b[49m\u001b[43m(\u001b[49m\u001b[38;5;124;43m'\u001b[39;49m\u001b[38;5;124;43mrun\u001b[39;49m\u001b[38;5;124;43m'\u001b[39;49m\u001b[43m,\u001b[49m\u001b[43m \u001b[49m\u001b[38;5;124;43m'\u001b[39;49m\u001b[38;5;124;43m\"\u001b[39;49m\u001b[38;5;124;43m./Determining_type_of_age_distribution_230719.ipynb\u001b[39;49m\u001b[38;5;124;43m\"\u001b[39;49m\u001b[38;5;124;43m'\u001b[39;49m\u001b[43m)\u001b[49m\n",
      "File \u001b[1;32m~\\AppData\\Roaming\\Python\\Python313\\site-packages\\IPython\\core\\interactiveshell.py:2480\u001b[0m, in \u001b[0;36mInteractiveShell.run_line_magic\u001b[1;34m(self, magic_name, line, _stack_depth)\u001b[0m\n\u001b[0;32m   2478\u001b[0m     kwargs[\u001b[38;5;124m'\u001b[39m\u001b[38;5;124mlocal_ns\u001b[39m\u001b[38;5;124m'\u001b[39m] \u001b[38;5;241m=\u001b[39m \u001b[38;5;28mself\u001b[39m\u001b[38;5;241m.\u001b[39mget_local_scope(stack_depth)\n\u001b[0;32m   2479\u001b[0m \u001b[38;5;28;01mwith\u001b[39;00m \u001b[38;5;28mself\u001b[39m\u001b[38;5;241m.\u001b[39mbuiltin_trap:\n\u001b[1;32m-> 2480\u001b[0m     result \u001b[38;5;241m=\u001b[39m \u001b[43mfn\u001b[49m\u001b[43m(\u001b[49m\u001b[38;5;241;43m*\u001b[39;49m\u001b[43margs\u001b[49m\u001b[43m,\u001b[49m\u001b[43m \u001b[49m\u001b[38;5;241;43m*\u001b[39;49m\u001b[38;5;241;43m*\u001b[39;49m\u001b[43mkwargs\u001b[49m\u001b[43m)\u001b[49m\n\u001b[0;32m   2482\u001b[0m \u001b[38;5;66;03m# The code below prevents the output from being displayed\u001b[39;00m\n\u001b[0;32m   2483\u001b[0m \u001b[38;5;66;03m# when using magics with decorator @output_can_be_silenced\u001b[39;00m\n\u001b[0;32m   2484\u001b[0m \u001b[38;5;66;03m# when the last Python token in the expression is a ';'.\u001b[39;00m\n\u001b[0;32m   2485\u001b[0m \u001b[38;5;28;01mif\u001b[39;00m \u001b[38;5;28mgetattr\u001b[39m(fn, magic\u001b[38;5;241m.\u001b[39mMAGIC_OUTPUT_CAN_BE_SILENCED, \u001b[38;5;28;01mFalse\u001b[39;00m):\n",
      "File \u001b[1;32m~\\AppData\\Roaming\\Python\\Python313\\site-packages\\IPython\\core\\magics\\execution.py:741\u001b[0m, in \u001b[0;36mExecutionMagics.run\u001b[1;34m(self, parameter_s, runner, file_finder)\u001b[0m\n\u001b[0;32m    739\u001b[0m     \u001b[38;5;28;01mwith\u001b[39;00m preserve_keys(\u001b[38;5;28mself\u001b[39m\u001b[38;5;241m.\u001b[39mshell\u001b[38;5;241m.\u001b[39muser_ns, \u001b[38;5;124m'\u001b[39m\u001b[38;5;124m__file__\u001b[39m\u001b[38;5;124m'\u001b[39m):\n\u001b[0;32m    740\u001b[0m         \u001b[38;5;28mself\u001b[39m\u001b[38;5;241m.\u001b[39mshell\u001b[38;5;241m.\u001b[39muser_ns[\u001b[38;5;124m'\u001b[39m\u001b[38;5;124m__file__\u001b[39m\u001b[38;5;124m'\u001b[39m] \u001b[38;5;241m=\u001b[39m filename\n\u001b[1;32m--> 741\u001b[0m         \u001b[38;5;28;43mself\u001b[39;49m\u001b[38;5;241;43m.\u001b[39;49m\u001b[43mshell\u001b[49m\u001b[38;5;241;43m.\u001b[39;49m\u001b[43msafe_execfile_ipy\u001b[49m\u001b[43m(\u001b[49m\u001b[43mfilename\u001b[49m\u001b[43m,\u001b[49m\u001b[43m \u001b[49m\u001b[43mraise_exceptions\u001b[49m\u001b[38;5;241;43m=\u001b[39;49m\u001b[38;5;28;43;01mTrue\u001b[39;49;00m\u001b[43m)\u001b[49m\n\u001b[0;32m    742\u001b[0m     \u001b[38;5;28;01mreturn\u001b[39;00m\n\u001b[0;32m    744\u001b[0m \u001b[38;5;66;03m# Control the response to exit() calls made by the script being run\u001b[39;00m\n",
      "File \u001b[1;32m~\\AppData\\Roaming\\Python\\Python313\\site-packages\\IPython\\core\\interactiveshell.py:3005\u001b[0m, in \u001b[0;36mInteractiveShell.safe_execfile_ipy\u001b[1;34m(self, fname, shell_futures, raise_exceptions)\u001b[0m\n\u001b[0;32m   3003\u001b[0m result \u001b[38;5;241m=\u001b[39m \u001b[38;5;28mself\u001b[39m\u001b[38;5;241m.\u001b[39mrun_cell(cell, silent\u001b[38;5;241m=\u001b[39m\u001b[38;5;28;01mTrue\u001b[39;00m, shell_futures\u001b[38;5;241m=\u001b[39mshell_futures)\n\u001b[0;32m   3004\u001b[0m \u001b[38;5;28;01mif\u001b[39;00m raise_exceptions:\n\u001b[1;32m-> 3005\u001b[0m     \u001b[43mresult\u001b[49m\u001b[38;5;241;43m.\u001b[39;49m\u001b[43mraise_error\u001b[49m\u001b[43m(\u001b[49m\u001b[43m)\u001b[49m\n\u001b[0;32m   3006\u001b[0m \u001b[38;5;28;01melif\u001b[39;00m \u001b[38;5;129;01mnot\u001b[39;00m result\u001b[38;5;241m.\u001b[39msuccess:\n\u001b[0;32m   3007\u001b[0m     \u001b[38;5;28;01mbreak\u001b[39;00m\n",
      "File \u001b[1;32m~\\AppData\\Roaming\\Python\\Python313\\site-packages\\IPython\\core\\interactiveshell.py:308\u001b[0m, in \u001b[0;36mExecutionResult.raise_error\u001b[1;34m(self)\u001b[0m\n\u001b[0;32m    306\u001b[0m     \u001b[38;5;28;01mraise\u001b[39;00m \u001b[38;5;28mself\u001b[39m\u001b[38;5;241m.\u001b[39merror_before_exec\n\u001b[0;32m    307\u001b[0m \u001b[38;5;28;01mif\u001b[39;00m \u001b[38;5;28mself\u001b[39m\u001b[38;5;241m.\u001b[39merror_in_exec \u001b[38;5;129;01mis\u001b[39;00m \u001b[38;5;129;01mnot\u001b[39;00m \u001b[38;5;28;01mNone\u001b[39;00m:\n\u001b[1;32m--> 308\u001b[0m     \u001b[38;5;28;01mraise\u001b[39;00m \u001b[38;5;28mself\u001b[39m\u001b[38;5;241m.\u001b[39merror_in_exec\n",
      "    \u001b[1;31m[... skipping hidden 1 frame]\u001b[0m\n",
      "File \u001b[1;32m~\\AppData\\Local\\Temp\\ipykernel_44276\\3278135569.py:1\u001b[0m\n\u001b[1;32m----> 1\u001b[0m forecast_version_folder_location\u001b[38;5;241m=\u001b[39m\u001b[43mget_forecast_version_folder_location\u001b[49m\u001b[43m(\u001b[49m\u001b[38;5;124;43mr\u001b[39;49m\u001b[38;5;124;43m'\u001b[39;49m\u001b[38;5;132;43;01m{}\u001b[39;49;00m\u001b[38;5;124;43m\\\u001b[39;49m\u001b[38;5;124;43mbackground_files\u001b[39;49m\u001b[38;5;124;43m\\\u001b[39;49m\u001b[38;5;124;43mforecast_version_folder_location.txt\u001b[39;49m\u001b[38;5;124;43m'\u001b[39;49m\u001b[38;5;241;43m.\u001b[39;49m\u001b[43mformat\u001b[49m\u001b[43m(\u001b[49m\u001b[43mcreate_forecast_basic_folder_path\u001b[49m\u001b[43m)\u001b[49m\u001b[43m)\u001b[49m\n\u001b[0;32m      3\u001b[0m forecast_version_folder_location\u001b[38;5;241m=\u001b[39m\u001b[38;5;124mr\u001b[39m\u001b[38;5;124m'\u001b[39m\u001b[38;5;132;01m{}\u001b[39;00m\u001b[38;5;124m\\\u001b[39m\u001b[38;5;124mBASE_YEAR\u001b[39m\u001b[38;5;124m'\u001b[39m\u001b[38;5;241m.\u001b[39mformat(forecast_version_folder_location)\n",
      "File \u001b[1;32mw:\\Data\\Forecast\\Tools\\create_forecast_ad_hoc\\create_forecast_basic\\global_functions.py:253\u001b[0m, in \u001b[0;36mget_forecast_version_folder_location\u001b[1;34m(file_path)\u001b[0m\n\u001b[0;32m    252\u001b[0m \u001b[38;5;28;01mdef\u001b[39;00m\u001b[38;5;250m \u001b[39m\u001b[38;5;21mget_forecast_version_folder_location\u001b[39m(file_path):\n\u001b[1;32m--> 253\u001b[0m     \u001b[38;5;28;01mwith\u001b[39;00m \u001b[38;5;28;43mopen\u001b[39;49m\u001b[43m(\u001b[49m\u001b[43mfile_path\u001b[49m\u001b[43m,\u001b[49m\u001b[43m \u001b[49m\u001b[38;5;124;43m'\u001b[39;49m\u001b[38;5;124;43mr\u001b[39;49m\u001b[38;5;124;43m'\u001b[39;49m\u001b[43m)\u001b[49m \u001b[38;5;28;01mas\u001b[39;00m file:\n\u001b[0;32m    254\u001b[0m         forecast_version_folder_location \u001b[38;5;241m=\u001b[39m file\u001b[38;5;241m.\u001b[39mread()\n\u001b[0;32m    255\u001b[0m     \u001b[38;5;28;01mreturn\u001b[39;00m forecast_version_folder_location\n",
      "\u001b[1;31mFileNotFoundError\u001b[0m: [Errno 2] No such file or directory: 'w:\\\\Data\\\\Forecast\\\\Tools\\\\create_forecast_ad_hoc\\\\create_forecast_basic\\\\background_files\\\\forecast_version_folder_location.txt'"
     ]
    }
   ],
   "source": [
    "# os.chdir(cwd): מחזיר את הספרייה הנוכחית לספרייה המקורית.\n",
    "os.chdir(cwd)\n",
    "\n",
    "# הרצת מחברות\n",
    "%run \"./emp_current_year.ipynb\"\n",
    "%run \"./add_geo_info_and_export.ipynb\"\n",
    "%run \"./Determining_type_of_age_distribution_230719.ipynb\""
   ]
  }
 ],
 "metadata": {
  "kernelspec": {
   "display_name": "creat_forecast_ad_hoc_env",
   "language": "python",
   "name": "python3"
  },
  "language_info": {
   "codemirror_mode": {
    "name": "ipython",
    "version": 3
   },
   "file_extension": ".py",
   "mimetype": "text/x-python",
   "name": "python",
   "nbconvert_exporter": "python",
   "pygments_lexer": "ipython3",
   "version": "3.13.1"
  },
  "papermill": {
   "default_parameters": {},
   "duration": 137.062248,
   "end_time": "2025-01-30T15:19:16.268080",
   "environment_variables": {},
   "exception": true,
   "input_path": "w:\\Data\\Forecast\\Tools\\create_forecast_ad_hoc\\create_forecast_basic\\current\\run_current.ipynb",
   "output_path": "w:\\Data\\Forecast\\Tools\\create_forecast_ad_hoc\\create_forecast_basic\\current\\run_current_output.ipynb",
   "parameters": {
    "new_layer_path": "W:\\Projects\\תכניות מרחביות\\בדיקה מרחבית ארמון הנציב - Copy\\קבצי עבודה\\תחזיות_דמוגרפיות\\For_approval\\Reference_tabels\\shp\\TAZ_V4_241103_with_geo_info.shp",
    "output_folder_path": "W:\\Projects\\תכניות מרחביות\\בדיקה מרחבית ארמון הנציב - Copy\\קבצי עבודה\\תחזיות_דמוגרפיות\\For_approval\\Reference_tabels"
   },
   "start_time": "2025-01-30T15:16:59.205832",
   "version": "2.6.0"
  }
 },
 "nbformat": 4,
 "nbformat_minor": 5
}